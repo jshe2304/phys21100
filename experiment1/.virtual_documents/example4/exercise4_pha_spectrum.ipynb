





%matplotlib inline
import numpy as np
import matplotlib.pyplot as plt
from scipy import optimize
data_filename = 'Example4_Data.tsv'
using_colab = False


if using_colab:
  from google.colab import files
  uploaded = files.upload()
  data_filename = next(iter(uploaded.keys()))
  # This last line is a trick that will automatically pull the filename from what you uploaded.








with open(data_filename ,"r") as f:
    for x,line in enumerate(f):
        if(line == 'Channel Data:\n'): #reads the file until it finds this text, which always occurs two lines before the data starts
            data_start = x+2
            print("Data starts on row {}".format(data_start))
            break





data = np.loadtxt( data_filename , unpack=True, skiprows = data_start) #numpy opens the data starting at the appropriate place
print(data)





channel = data[0]





if(len(data)==2): # If you didn't calibrate the energies, the second row contains the particle counts
    N = data[1]
else:
    Energy = data[1]
    N = data[2]

dN = np.sqrt(N)





for value in dN:
  print(value)





dN = np.sqrt(N)
for i, value in enumerate(dN):
    if value == 0:
        dN[i] = 1.14





with open(data_filename ,"r") as f:
    for x,line in enumerate(f):
        if(line == 'Channel Data:\n'): #reads the file until it finds this text, which always occurs two lines before the data starts
            data_start = x+2
            print("Data starts on row {}".format(data_start))
            break
            
data = np.loadtxt( data_filename , unpack=True, skiprows = data_start) #numpy opens the data starting at the appropriate place
channel = data[0]
if(len(data)==2): # If you didn't calibrate the energies, the second row contains the particle counts
    N = data[1]
else:
    Energy = data[1]
    N = data[2]

dN = np.sqrt(N)
for i, value in enumerate(dN):
    if value == 0:
        dN[i] = 1.14





fig,ax = plt.subplots(figsize = (12,8))
ax.errorbar(channel, N, dN, fmt='k.')





min_value = 300
max_value = 450
fig,ax = plt.subplots(figsize = (12,8))
ax.errorbar(channel[min_value:max_value], N[min_value:max_value], dN[min_value:max_value], fmt='k.')





min_value = 300
max_value = 450

fig,ax = plt.subplots(figsize = (12,8))

ax.errorbar(channel[min_value:max_value], N[min_value:max_value], dN[min_value:max_value], fmt='k.', label='Data', capsize=2)
ax.set_xlabel('channel')
ax.set_ylabel('counts')
ax.set_title('PHA Energy Spectrum of Cs-137 Decay')
ax.legend()





def gaussianfunc(p,x):
    return p[0]/(p[2]*np.sqrt(2*np.pi))*np.exp(-(x-p[1])**2/(2*p[2]**2))

def residual(p,func, xvar, yvar, err):
    return (func(p, xvar) - yvar)/err





# The code below defines our data fitting function.
# Inputs are:
# initial guess for parameters p0
# the function we're fitting to
# the x,y, and dy variables
# tmi can be set to 1 or 2 if more intermediate data is needed

def data_fit(p0, func, xvar, yvar, err, tmi=0):
    try:
        fit = optimize.least_squares(residual, p0, args=(func,xvar, yvar, err), verbose=tmi)
    except Exception as error:
        print("Something has gone wrong:",error)
        return p0, np.zeros_like(p0), np.nan, np.nan
    pf = fit['x']

    print()

    try:
        cov = np.linalg.inv(fit['jac'].T.dot(fit['jac']))          
        # This computes a covariance matrix by finding the inverse of the Jacobian times its transpose
        # We need this to find the uncertainty in our fit parameters
    except:
        # If the fit failed, print the reason
        print('Fit did not converge')
        print('Result is likely a local minimum')
        print('Try changing initial values')
        print('Status code:', fit['status'])
        print(fit['message'])
        return pf, np.zeros_like(pf), np.nan, np.nan
            #You'll be able to plot with this, but it will not be a good fit.

    chisq = sum(residual(pf, func, xvar, yvar, err) **2)
    dof = len(xvar) - len(pf)
    red_chisq = chisq/dof
    pferr = np.sqrt(np.diagonal(cov)) # finds the uncertainty in fit parameters by squaring diagonal elements of the covariance matrix
    print('Converged with chi-squared {:.2f}'.format(chisq))
    print('Number of degrees of freedom, dof = {:.2f}'.format(dof))
    print('Reduced chi-squared {:.2f}'.format(red_chisq))
    print()
    Columns = ["Parameter #","Initial guess values:", "Best fit values:", "Uncertainties in the best fit values:"]
    print('{:<11}'.format(Columns[0]),'|','{:<24}'.format(Columns[1]),"|",'{:<24}'.format(Columns[2]),"|",'{:<24}'.format(Columns[3]))
    for num in range(len(pf)):
        print('{:<11}'.format(num),'|','{:<24.3e}'.format(p0[num]),'|','{:<24.3e}'.format(pf[num]),'|','{:<24.3e}'.format(pferr[num]))
    return pf, pferr, chisq,dof





channel2 = channel[min_value:max_value]
N2 = N[min_value:max_value]
dN2 = dN[min_value:max_value]

print("Gaussian Fit")
p0 = [50000, 375, 25]
pf1, pferr1, chisq1, dof1 = data_fit(p0, gaussianfunc, channel2, N2, dN2)





fig,ax = plt.subplots(figsize = (10,8))

ax.errorbar(channel2, N2, yerr=dN2,fmt= 'k.', label='Data in fit')

# We then plot the fit function. We could plot it at each point in "channel2"
#  and connect those points with straight lines. However, we may want a smoother
#  plot. To do so, we create a new array of points using "linspace()" that covers
#  the same range, but more densely. When we connect these points, the line will
#  be more smooth.
channel_cont = np.linspace(min(channel2), max(channel2), 5000)
ax.plot(channel_cont, gaussianfunc(pf1, channel_cont), 'r-', label='Fit')


plt.savefig('Example4_Figure1.png',dpi=300)
if using_colab:
  files.download('Example4_Figure1.png') 
plt.show()








fig,ax = plt.subplots(figsize = (10,8))

ax.errorbar(channel2, N2, yerr=dN2,fmt= 'k.', label='Data in fit')
ax.set_xlabel('channel')
ax.set_ylabel('counts')
ax.set_title('PHA Energy Spectrum of Cs-137 Decay')

# We then plot the fit function. We could plot it at each point in "channel2"
#  and connect those points with straight lines. However, we may want a smoother
#  plot. To do so, we create a new array of points using "linspace()" that covers
#  the same range, but more densely. When we connect these points, the line will
#  be more smooth.
channel_cont = np.linspace(min(channel2), max(channel2), 5000)
ax.plot(channel_cont, gaussianfunc(pf1, channel_cont), 'r-', label='Fit')
txt = '$f(x) = \\frac{N}{\\sqrt{2\\pi }}e^{-\\frac{(x-\\mu)^2}{2\\sigma^2 }}$ \n'
txt += '$N = {:.2f} \\pm {:.2f}$ \n'.format(pf1[0], pferr1[0]) 
txt += '$\\mu = {:.2f} \\pm {:.2f}$ \n'.format(pf1[1], pferr1[1]) 
txt += '$\\sigma = {:.2f} \\pm {:.2f}$ \n'.format(pf1[2], pferr1[2]) 
ax.text(0.15, 0.8, txt, transform=ax.transAxes , fontsize=12, verticalalignment='top')
ax.legend()

#plt.savefig('Example4_Figure1.png',dpi=300)
if using_colab:
  files.download('Example4_Figure1.png')
plt.show()





fig = plt.figure(figsize = (10,8))
ax =fig.add_subplot(2,1,1)
ay =fig.add_subplot(2,1,2)

ax.errorbar(channel2, N2, yerr = dN2, fmt = 'k.', label='Data in fit')
channel_cont = np.linspace(min(channel2), max(channel2), 5000)
ax.plot(channel_cont, gaussianfunc(pf1, channel_cont), 'r-', label='Fit')

ay.plot(channel2, residual(pf1, gaussianfunc, channel2, N2, dN2), 'r.', label='Gaussian Fit Residuals')
    # A plot of just the magnitudes of the errors
ax.legend()
ay.axhspan(1,-1,label="$\\pm 1 \\sigma$",alpha=0.5)
ay.legend()
ax.set_title("Data")
ay.set_title("Errors")
fig.tight_layout()





def gaussian2(p,x):
    return p[0]/(p[2]*np.sqrt(2*np.pi))*np.exp(-(x-p[1])**2/(2*p[2]**2)) + p[3] * x + p[4]

print("Gaussian Fit")
p0 = [50000, 375, 25, 500, 1]
pf2, pferr2, chisq2, dof2 = data_fit(p0, gaussian2, channel2, N2, dN2)

fig,ax = plt.subplots(figsize = (10,8))

ax.errorbar(channel2, N2, yerr=dN2,fmt= 'k.', label='Data in fit')
ax.set_xlabel('channel')
ax.set_ylabel('counts')
ax.set_title('PHA Energy Spectrum of Cs-137 Decay')

# We then plot the fit function. We could plot it at each point in "channel2"
#  and connect those points with straight lines. However, we may want a smoother
#  plot. To do so, we create a new array of points using "linspace()" that covers
#  the same range, but more densely. When we connect these points, the line will
#  be more smooth.
channel_cont = np.linspace(min(channel2), max(channel2), 5000)
ax.plot(channel_cont, gaussian2(pf2, channel_cont), 'r-', label='Fit')
txt = '$f(x) = \\frac{N}{\\sqrt{2\\pi }}e^{-\\frac{(x-\\mu)^2}{2\\sigma^2 }} + mx + b$ \n'
txt += '$N = {:.2f} \\pm {:.2f}$ \n'.format(pf2[0], pferr2[0]) 
txt += '$\\mu = {:.2f} \\pm {:.2f}$ \n'.format(pf2[1], pferr2[1]) 
txt += '$\\sigma = {:.2f} \\pm {:.2f}$ \n'.format(pf2[2], pferr2[2]) 
txt += '$m = {:.2f} \\pm {:.2f}$ \n'.format(pf2[3], pferr2[3]) 
txt += '$b = {:.2f} \\pm {:.2f}$ \n'.format(pf2[4], pferr2[4]) 
txt += '$\\chi^2= {:.1f}$ \n'.format(chisq2) 
txt += '$N = {}$ (dof) \n'.format(dof2) 
txt += '$\\chi^2/N = {:.2f}$'.format(chisq2/dof2) 
ax.text(0.1, 0.8, txt, transform=ax.transAxes , fontsize=12, verticalalignment='top')
ax.legend()

plt.savefig('task3.pdf')
if using_colab:
  files.download('Example4_Figure1.png')
plt.show()





fig,ax = plt.subplots(figsize = (12,8))
energy = channel /600 #This is not an accurate energy conversion, but it gets the point across
ax.errorbar(energy, N, dN, fmt='k.',label='unfiltered')

subset_1 = (N > 1000)
ax.errorbar(energy[subset_1], N[subset_1], dN[subset_1], fmt='g.',label='count filtered')
ax.legend()

fig,ay = plt.subplots()
ay.errorbar(energy[subset_1], N[subset_1], dN[subset_1], fmt='g.',label='count filtered',zorder = 20) #zorder determines which graph is on top of another.





subset_2 = .75 > energy > .5





fig,ax = plt.subplots(figsize = (12,8))

ax.errorbar(energy, N, dN, fmt='k.',label='unfiltered')
ax.set_xlabel('MeV')

subset_1 = (N > 1000)
ax.errorbar(energy[subset_1], N[subset_1], dN[subset_1], fmt='g.',label='count filtered',zorder = 20) #zorder determines which graph is on top of another.

subset_2 = (energy > .5) & (energy < .75)
ax.errorbar(energy[subset_2], N[subset_2], dN[subset_2], fmt='r.',label='energy filtered')
ax.legend()

fig,ay = plt.subplots()
ay.errorbar(energy[subset_2], N[subset_2], dN[subset_2], fmt='r.',label='energy filtered')





fig,ax = plt.subplots(figsize = (12,8))

ax.errorbar(energy, N, dN, fmt='k.',label='unfiltered')
ax.set_xlabel('MeV')

subset_3 = (N > 50) & (energy > .5)
ax.errorbar(energy[subset_3], N[subset_3], dN[subset_3], fmt='b.',label='count and energy filtered',zorder = 20) #zorder determines which graph is on top of another.
ax.legend()





print(subset_1)
print(len(subset_1))
print(type(subset_1[0]))  # type tells you what type of thing an object is





print("N")
print(N[subset_1])
print("Energy")
print(energy[subset_1])
print("# elements")
print(len(N[subset_1]))





(channel_cont > 400 ) & (N > 1000)






