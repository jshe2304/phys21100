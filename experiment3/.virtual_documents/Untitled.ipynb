import matplotlib.pyplot as plt
import numpy as np
import pandas as pd





data3 = pd.read_csv('./data/3.csv')

fps = 8810
dropoff_frame = 1203.5
frames_till_dropoff = (dropoff_frame - data3['Frame'])
times_till_dropoff = frames_till_dropoff/fps
diameters = data3['Width']





fig, ax = plt.subplots(figsize=(5, 5))

ax.scatter(
    np.log(times_till_dropoff), np.log(diameters), 
    color='red', 
    s = 16
)
ax.set_xlabel('Log-time till drop-off (log-seconds)')
ax.set_ylabel('Log-diameter of neck (log-pixels)')
ax.grid(alpha=0.5)x
ax.set_title('Pinch Drop-off')


fig, ax = plt.subplots(figsize=(5, 5))

fit_lower, fit_upper = 0, 10
x = np.log(times_till_dropoff)[fit_lower:fit_upper]
y = np.log(diameters)[fit_lower:fit_upper]



ax.scatter(
    np.log(times_till_dropoff), np.log(diameters), 
    color='red', 
    s = 16
)
ax.set_xlabel('Log-time till drop-off (log-seconds)')
ax.set_ylabel('Log-diameter of neck (log-pixels)')
ax.grid(alpha=0.5)
ax.set_title('Pinch Drop-off')
