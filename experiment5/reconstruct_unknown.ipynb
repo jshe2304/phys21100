{
 "cells": [
  {
   "cell_type": "code",
   "execution_count": 1,
   "id": "8fba6709-d0fa-4cf8-b8c8-275386173c64",
   "metadata": {
    "tags": []
   },
   "outputs": [],
   "source": [
    "import pandas as pd\n",
    "import numpy as np\n",
    "import matplotlib.pyplot as plt\n",
    "from skimage.transform import radon, iradon\n",
    "from scipy.optimize import curve_fit"
   ]
  },
  {
   "cell_type": "code",
   "execution_count": 2,
   "id": "447bb654-8ae8-4453-866e-22d224c87ce2",
   "metadata": {
    "tags": []
   },
   "outputs": [
    {
     "ename": "NameError",
     "evalue": "name 'c' is not defined",
     "output_type": "error",
     "traceback": [
      "\u001b[0;31m---------------------------------------------------------------------------\u001b[0m",
      "\u001b[0;31mNameError\u001b[0m                                 Traceback (most recent call last)",
      "Cell \u001b[0;32mIn[2], line 1\u001b[0m\n\u001b[0;32m----> 1\u001b[0m \u001b[38;5;241m1600\u001b[39m \u001b[38;5;241m*\u001b[39m \u001b[43mc\u001b[49m\n",
      "\u001b[0;31mNameError\u001b[0m: name 'c' is not defined"
     ]
    }
   ],
   "source": [
    "1600 * c"
   ]
  },
  {
   "cell_type": "code",
   "execution_count": null,
   "id": "64c8050e-3381-4227-b295-ac3ec6737ed4",
   "metadata": {
    "tags": []
   },
   "outputs": [],
   "source": [
    "a, a_err = 3.1304347826086867e-06, 3.1304347826086867e-06\n",
    "resolution, resolution_err = 0.018835915624440338, 0.00012187430782578249\n",
    "c = 360/25600"
   ]
  },
  {
   "cell_type": "code",
   "execution_count": null,
   "id": "c39432b7-479a-401c-9af2-c6190d83289a",
   "metadata": {},
   "outputs": [],
   "source": [
    "def gaussian2d(xdata, A, mu_x, mu_y, sigma, C):\n",
    "    return A * np.exp(-((xdata[0] - mu_x) ** 2 + (xdata[1] - mu_y) ** 2) / (2 * sigma ** 2)) + C"
   ]
  },
  {
   "cell_type": "markdown",
   "id": "9f49cc3b-69d8-4957-97ab-5035efb21e03",
   "metadata": {},
   "source": [
    "## Data"
   ]
  },
  {
   "cell_type": "code",
   "execution_count": null,
   "id": "a3c89836-4f12-4231-ab3e-4d32c13410cd",
   "metadata": {
    "tags": []
   },
   "outputs": [],
   "source": [
    "data = pd.read_csv(\n",
    "    './data/unknown_raw.csv', \n",
    "    comment='#',\n",
    "    skip_blank_lines=True,\n",
    "    skipinitialspace=True,\n",
    "    header=None,\n",
    "    names=['x', 'theta', 'time', 'ch1', 'ch2', 'coincidences']\n",
    ")\n",
    "\n",
    "data['x'] *= a\n",
    "data['theta'] *= c\n",
    "data = data[data['theta'] != 171]\n",
    "\n",
    "x = np.sort(data['x'].unique())\n",
    "theta = np.sort(data['theta'].unique())  # in degrees"
   ]
  },
  {
   "cell_type": "code",
   "execution_count": null,
   "id": "42c9b1c9-b78f-432c-ae7d-2f3b9b36a059",
   "metadata": {
    "tags": []
   },
   "outputs": [],
   "source": [
    "# 2. Pivot into sinogram array\n",
    "sinogram_df = data.pivot(\n",
    "    index='x',\n",
    "    columns='theta',\n",
    "    values='coincidences'\n",
    ")\n",
    "sinogram = sinogram_df.loc[x, theta].values\n",
    "sinogram = np.roll(sinogram, -5, axis=0)\n",
    "\n",
    "# 3. Display the sinogram\n",
    "fig, ax = plt.subplots(figsize=(6, 4))\n",
    "img = ax.imshow(\n",
    "    sinogram,\n",
    "    aspect='auto',\n",
    "    extent=[\n",
    "        theta.min(), theta.max(),\n",
    "        x.max(), x.min()\n",
    "    ]\n",
    ")\n",
    "ax.set_xlabel(\"θ (deg)\")\n",
    "ax.set_ylabel(\"x (m)\")\n",
    "ax.set_title(\"Sinogram of unknown sources\")\n",
    "\n",
    "fig.colorbar(img, ax=ax, label='Coincidences')\n",
    "plt.tight_layout()"
   ]
  },
  {
   "cell_type": "code",
   "execution_count": null,
   "id": "3e4dbf84-a9c8-4ef5-a89f-aab46f1b3983",
   "metadata": {
    "tags": []
   },
   "outputs": [],
   "source": [
    "# 4. Perform filtered back‐projection (inverse Radon transform)\n",
    "reconstruction = iradon(sinogram, theta=theta)\n",
    "\n",
    "# 5. Display the reconstruction\n",
    "\n",
    "fig, ax = plt.subplots(figsize=(5, 5))\n",
    "\n",
    "ax.imshow(\n",
    "    reconstruction,\n",
    "    extent=[x.min(), x.max(), x.min(), x.max()]\n",
    ")\n",
    "\n",
    "ax.set_title('Reconstructed unknown source distribution')\n",
    "ax.set_xlabel('x (m)')\n",
    "ax.set_ylabel('y (m)')\n",
    "\n",
    "plt.tight_layout()"
   ]
  },
  {
   "cell_type": "code",
   "execution_count": null,
   "id": "f6c64cb5-6c76-4d6b-a643-e5831c91660a",
   "metadata": {
    "tags": []
   },
   "outputs": [],
   "source": [
    "sources = [(40, 70, 45, 75), (38, 57, 28, 48), (55, 85, 15, 45), (10, 40, 20, 50)]\n",
    "fig, axs = plt.subplots(1, len(sources), figsize=(4 * len(sources), 4))\n",
    "\n",
    "positions = []\n",
    "position_errs = []\n",
    "intensities, intensity_errs = [], []\n",
    "for (x0, x1, y0, y1), ax in zip(sources, axs):\n",
    "\n",
    "    # Plot reconstruction\n",
    "\n",
    "    peak = reconstruction[y0:y1, x0:x1]\n",
    "\n",
    "    ax.imshow(\n",
    "        peak,\n",
    "        extent=[x[x0], x[x1], x[90 - y1], x[90 - y0]]\n",
    "    )\n",
    "    ax.set_title('Source')\n",
    "    ax.set_xlabel('x (m)')\n",
    "    ax.set_ylabel('y (m)')\n",
    "\n",
    "    # Fit gaussian\n",
    "    \n",
    "    coord_x, coord_y = np.meshgrid(x[x0 : x1], x[90 - y0 - 1: 90 - y1 - 1: -1])\n",
    "    coord_z = peak\n",
    "    \n",
    "    peak_max = np.unravel_index(coord_z.argmax(), coord_z.shape)\n",
    "    params_0 = [coord_z.max() - coord_z.min(), coord_x[peak_max], coord_y[peak_max], 0.01, coord_z.min()]\n",
    "    params, params_cov = curve_fit(\n",
    "        gaussian2d,\n",
    "        (coord_x.ravel(), coord_y.ravel()),\n",
    "        coord_z.ravel(),\n",
    "        p0=params_0, \n",
    "        sigma = 0.1 * np.ones_like(coord_z).ravel(), \n",
    "        absolute_sigma=True\n",
    "    )\n",
    "    params_err = np.sqrt(np.diag(params_cov))\n",
    "    \n",
    "    positions.append((params[1], params[2]))\n",
    "    position_errs.append((params_err[1], params_err[2]))\n",
    "    intensities.append(params[0])\n",
    "    intensity_errs.append(params_err[0])\n",
    "\n",
    "    # Plot contour\n",
    "    ax.contour(\n",
    "        coord_x, coord_y, \n",
    "        gaussian2d((coord_x, coord_y), *params), \n",
    "        colors='r', \n",
    "        alpha=0.5\n",
    "    )\n",
    "    \n",
    "    ax.set_title( \n",
    "        f'Intensity$ = {params[0]:.4f} \\pm {params_err[1]:.4f}$\\n' + \n",
    "        f'$\\mu=({params[1]:.4f}\\pm{params_err[1]:.4f}, {params[2]:.4f}\\pm{params_err[1]:.4f})$'\n",
    "    )\n",
    "    ax.set_aspect('equal')\n",
    "    \n",
    "fig.suptitle('Fitting isotropic Gaussians to source peaks', fontsize=18)\n",
    "plt.tight_layout()\n",
    "fig.savefig('./figures/unknown_fitting.pdf')"
   ]
  },
  {
   "cell_type": "code",
   "execution_count": null,
   "id": "496852de-8698-4a49-ab85-fdc234c58700",
   "metadata": {
    "tags": []
   },
   "outputs": [],
   "source": [
    "positions = np.array(positions)\n",
    "position_errs = np.array(position_errs)\n",
    "\n",
    "pd.DataFrame(dict(\n",
    "    x=positions[:, 0], x_err=position_errs[:, 0], \n",
    "    y=positions[:, 1], y_err=position_errs[:, 1], \n",
    "    intensity=intensities, intensity_err=intensity_errs\n",
    "))"
   ]
  },
  {
   "cell_type": "code",
   "execution_count": null,
   "id": "e7025f67-7511-4083-b545-87b37556b5f5",
   "metadata": {
    "tags": []
   },
   "outputs": [],
   "source": [
    "fig, ax = plt.subplots(figsize=(5, 5))\n",
    "\n",
    "ax.imshow(\n",
    "    reconstruction,\n",
    "    extent=[x.min(), x.max(), x.min(), x.max()]\n",
    ")\n",
    "\n",
    "ax.scatter(positions[:, 0], positions[:, 1], color='r')\n",
    "for (pos_x, pos_y), (pos_x_err, pos_y_err) in zip(positions, position_errs):\n",
    "    ax.annotate(\n",
    "        f'$({pos_x:.2f}, {pos_y:.2f})$', \n",
    "        xy=(pos_x, pos_y), xytext=(pos_x - 0.025, pos_y + 0.02), \n",
    "        color='w'\n",
    "    )\n",
    "\n",
    "ax.set_title('Positions of identified sources')\n",
    "ax.set_xlabel('x (m)')\n",
    "ax.set_ylabel('y (m)')\n",
    "\n",
    "plt.tight_layout()\n",
    "\n",
    "fig.savefig('./figures/unknown_positions.pdf')"
   ]
  },
  {
   "cell_type": "code",
   "execution_count": null,
   "id": "b778aba0-10ab-4859-80bc-ea7ba1aaf0ba",
   "metadata": {},
   "outputs": [],
   "source": []
  }
 ],
 "metadata": {
  "kernelspec": {
   "display_name": "Python 3 (ipykernel)",
   "language": "python",
   "name": "python3"
  },
  "language_info": {
   "codemirror_mode": {
    "name": "ipython",
    "version": 3
   },
   "file_extension": ".py",
   "mimetype": "text/x-python",
   "name": "python",
   "nbconvert_exporter": "python",
   "pygments_lexer": "ipython3",
   "version": "3.10.6"
  }
 },
 "nbformat": 4,
 "nbformat_minor": 5
}
