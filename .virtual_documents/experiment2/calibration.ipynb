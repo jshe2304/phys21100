import numpy as np
import pandas as pd
import matplotlib.pyplot as plt
from scipy import optimize


def linear(p,x):
    return p[0]*x + p[1]

def residual(p,func, xvar, yvar, err):
    return (func(p, xvar) - yvar)/err


# The code below defines our data fitting function.
# Inputs are:
# initial guess for parameters p0
# the function we're fitting to
# the x,y, and dy variables
# tmi can be set to 1 or 2 if more intermediate data is needed

def data_fit(p0, func, xvar, yvar, err, tmi=0):
    try:
        fit = optimize.least_squares(residual, p0, args=(func,xvar, yvar, err), verbose=tmi)
    except Exception as error:
        print("Something has gone wrong:", error)
        return p0, np.zeros_like(p0), np.nan, np.nan
    pf = fit['x']

    print()

    try:
        cov = np.linalg.inv(fit['jac'].T.dot(fit['jac']))          
        # This computes a covariance matrix by finding the inverse of the Jacobian times its transpose
        # We need this to find the uncertainty in our fit parameters
    except:
        # If the fit failed, print the reason
        print('Fit did not converge')
        print('Result is likely a local minimum')
        print('Try changing initial values')
        print('Status code:', fit['status'])
        print(fit['message'])
        return pf, np.zeros_like(pf), np.nan, np.nan
            #You'll be able to plot with this, but it will not be a good fit.

    chisq = sum(residual(pf, func, xvar, yvar, err) **2)
    dof = len(xvar) - len(pf)
    red_chisq = chisq/dof
    pferr = np.sqrt(np.diagonal(cov)) # finds the uncertainty in fit parameters by squaring diagonal elements of the covariance matrix
    print('Converged with chi-squared {:.2f}'.format(chisq))
    print('Number of degrees of freedom, dof = {:.2f}'.format(dof))
    print('Reduced chi-squared {:.2f}'.format(red_chisq))
    print()
    Columns = ["Parameter #","Initial guess values:", "Best fit values:", "Uncertainties in the best fit values:"]
    print('{:<11}'.format(Columns[0]),'|','{:<24}'.format(Columns[1]),"|",'{:<24}'.format(Columns[2]),"|",'{:<24}'.format(Columns[3]))
    for num in range(len(pf)):
        print('{:<11}'.format(num),'|','{:<24.3e}'.format(p0[num]),'|','{:<24.3e}'.format(pf[num]),'|','{:<24.3e}'.format(pferr[num]))
    return pf, pferr, chisq,dof





data = pd.read_csv('./data/calibration_3.csv')
data


channel = data['centroid'] / (data['gain'] * data['fine_gain'])
channel_err = data['centroid_err'] / (data['gain'] * data['fine_gain'])
data['channel'] = channel
data['channel_err'] = channel_err


data[['energy', 'centroid', 'centroid_err', 'gain', 'channel', 'channel_err']].to_latex(float_format="%.2f", index=False)





model = linear

params_i = [1, 0]
params_f, params_err, chisq, dof = data_fit(
    params_i, 
    model, 
    channel, data['energy'], data['energy_err']
)
print(params_f)
print(params_err)





fig, ax = plt.subplots(figsize=(5, 5))

ax.errorbar(
    x=channel, 
    y=data['energy'], yerr=data['energy_err'], 
    fmt='k.', alpha=0.5, label='Data'       
)

linspace = np.linspace(channel.min(), channel.max(), 100)
ax.plot(linspace, model(params_f, linspace), color='r', label='Fit')

txt = '$Energy(Channel) = m \\cdot \\text{Channel}+b$ \n'
txt += '$m = {:.2f} \\pm {:.2f}$ \n'.format(params_f[0], params_err[0])
txt += '$b = {:.2f} \\pm {:.2f}$ \n'.format(params_f[1], params_err[1])
txt += '$\\chi^2 = {:.2f}$ \n'.format(chisq)
txt += 'DOF$ = {}$'.format(dof)
ax.text(0.05, 0.95, txt, transform=ax.transAxes , fontsize=12, verticalalignment='top')

ax.set_xlabel('Channel')
ax.set_ylabel('Energy (KeV)')
ax.set_title('Calibration of Channels with Peak Energies')
ax.legend(loc='lower right')

plt.tight_layout()


#fig.savefig('./figures/calibration_3.pdf')



