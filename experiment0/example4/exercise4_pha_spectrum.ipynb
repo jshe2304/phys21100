{
 "cells": [
  {
   "cell_type": "markdown",
   "metadata": {
    "colab_type": "text",
    "id": "HfUBBrfp2Ycu"
   },
   "source": [
    "## PHYS 211/334 Python Example Scripts\n",
    "## Example 4 - Fitting Peaks in a PHA Spectrum\n",
    "\n",
    "- **PROGRAM**: This script reads in a typical spectrum file and fits a portion of it to a Gaussian function using the least-squares technique.\n",
    "- **INPUT**:  Example4_Data.tsv\n",
    "- **CREATED**: 9-11-2014\n",
    "- **AUTHOR**: David McCowan [modified from work by William Irvine (2012), Frank Merrit (2013) and Michael Fedderke (2013)].\n",
    "- **EDITED**: 08-12-2016, converted from python script to ipython notebook.\n",
    "- **EDITED**: 07-27-2017, minor tweaks, updated to Python3.\n",
    "- **EDITED**: 09-12-2018, fixed Jupyter formatting issues.\n",
    "- **REVISED**: 08-21-2020, updated to in-notebook exercises (Kevin Van De Bogart).\n",
    "- **REVISED**: 09-26-2022, tweaked text and added glossary.\n",
    "- **REVISED**: 9-5-2024, fixed broken links and added bonus section on using logical statements to index data"
   ]
  },
  {
   "cell_type": "markdown",
   "metadata": {
    "colab_type": "text",
    "id": "fQuCyoairTGI"
   },
   "source": [
    "# Part 1\n",
    "---\n",
    "You know the drill by now: start with importing libraries and defining our data file's name."
   ]
  },
  {
   "cell_type": "code",
   "execution_count": 1,
   "metadata": {
    "colab": {},
    "colab_type": "code",
    "executionInfo": {
     "elapsed": 1116,
     "status": "ok",
     "timestamp": 1600963859252,
     "user": {
      "displayName": "David McCowan",
      "photoUrl": "https://lh3.googleusercontent.com/a-/AOh14GgG5fQG-8qsRbPgJ9Spnkj4TsscnW-cxQlyY24rPA=s64",
      "userId": "06222162567611374030"
     },
     "user_tz": 300
    },
    "id": "RyG-39zE2Ycx"
   },
   "outputs": [],
   "source": [
    "%matplotlib inline\n",
    "import numpy as np\n",
    "import matplotlib.pyplot as plt\n",
    "from scipy import optimize\n",
    "data_filename = 'Example4_Data.tsv'\n",
    "using_colab = False"
   ]
  },
  {
   "cell_type": "code",
   "execution_count": 2,
   "metadata": {
    "colab": {
     "base_uri": "https://localhost:8080/",
     "height": 72,
     "resources": {
      "http://localhost:8080/nbextensions/google.colab/files.js": {
       "data": "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",
       "headers": [
        [
         "content-type",
         "application/javascript"
        ]
       ],
       "ok": true,
       "status": 200,
       "status_text": ""
      }
     }
    },
    "colab_type": "code",
    "executionInfo": {
     "elapsed": 10759,
     "status": "ok",
     "timestamp": 1600963868904,
     "user": {
      "displayName": "David McCowan",
      "photoUrl": "https://lh3.googleusercontent.com/a-/AOh14GgG5fQG-8qsRbPgJ9Spnkj4TsscnW-cxQlyY24rPA=s64",
      "userId": "06222162567611374030"
     },
     "user_tz": 300
    },
    "id": "jEHm3Gsk2jhU",
    "outputId": "c1240bef-87c6-4e6a-fcb7-5b9db5591afc"
   },
   "outputs": [],
   "source": [
    "if using_colab:\n",
    "  from google.colab import files\n",
    "  uploaded = files.upload()\n",
    "  data_filename = next(iter(uploaded.keys()))\n",
    "  # This last line is a trick that will automatically pull the filename from what you uploaded."
   ]
  },
  {
   "cell_type": "markdown",
   "metadata": {
    "colab_type": "text",
    "id": "1VgYOvoxr9CH"
   },
   "source": [
    "We're loading a file from one of our PHA spectra this time, and these come with some additional notes before the data starts, as you can see below:\n",
    "\n",
    "![](https://physlab-wiki.com/_media/phylabs/lab_courses/phys-211-wiki-home/introductory-lab-python-tutorial/example4_datascreenshot.png)"
   ]
  },
  {
   "cell_type": "markdown",
   "metadata": {
    "colab_type": "text",
    "id": "xQOvpi7U2Yc5"
   },
   "source": [
    "To deal with this, we're goint to use Python in to detect where the data starts.  Understanding this isn't expected for the course, so don't agonize about how it functions."
   ]
  },
  {
   "cell_type": "code",
   "execution_count": 3,
   "metadata": {},
   "outputs": [
    {
     "name": "stdout",
     "output_type": "stream",
     "text": [
      "Data starts on row 22\n"
     ]
    }
   ],
   "source": [
    "with open(data_filename ,\"r\") as f:\n",
    "    for x,line in enumerate(f):\n",
    "        if(line == 'Channel Data:\\n'): #reads the file until it finds this text, which always occurs two lines before the data starts\n",
    "            data_start = x+2\n",
    "            print(\"Data starts on row {}\".format(data_start))\n",
    "            break"
   ]
  },
  {
   "cell_type": "markdown",
   "metadata": {
    "colab_type": "text",
    "id": "fpCgOJnZtEpn"
   },
   "source": [
    "Now that we have the start row, we can read in the data from file using `np.loadtxt()`. This time we have only `x` and `y` data (no uncertainties).\n",
    "\n",
    "In counting data such as this, we can assume our counts are Poisson-distributed and take the uncertainty to be $dN = \\sqrt N$ for large `N`.\n",
    "- For small `N` (say, `N < 20`), this is a slight underestimate, and as $N \\rightarrow 0$, this is totally wrong. \n",
    "  - `dN = 0` means we know `N = 0` *exactly*... always and forever, no ifs and or buts. This is incorrect.\n",
    "- To deal with `N = 0`, we use `dN = 1.4` which represents the one-sided 68% confidence level upper limit. (For some justification, see http://statpages.org/confint.html.)"
   ]
  },
  {
   "cell_type": "code",
   "execution_count": 4,
   "metadata": {
    "colab": {
     "base_uri": "https://localhost:8080/",
     "height": 51
    },
    "colab_type": "code",
    "executionInfo": {
     "elapsed": 10750,
     "status": "ok",
     "timestamp": 1600963868918,
     "user": {
      "displayName": "David McCowan",
      "photoUrl": "https://lh3.googleusercontent.com/a-/AOh14GgG5fQG-8qsRbPgJ9Spnkj4TsscnW-cxQlyY24rPA=s64",
      "userId": "06222162567611374030"
     },
     "user_tz": 300
    },
    "id": "-Mof21N92YdK",
    "outputId": "e0c55ff3-e8bc-4349-b026-3693f6f6c259"
   },
   "outputs": [
    {
     "name": "stdout",
     "output_type": "stream",
     "text": [
      "[[0.000e+00 1.000e+00 2.000e+00 ... 1.021e+03 1.022e+03 1.023e+03]\n",
      " [0.000e+00 0.000e+00 0.000e+00 ... 0.000e+00 0.000e+00 0.000e+00]]\n"
     ]
    }
   ],
   "source": [
    "data = np.loadtxt( data_filename , unpack=True, skiprows = data_start) #numpy opens the data starting at the appropriate place\n",
    "print(data)"
   ]
  },
  {
   "cell_type": "markdown",
   "metadata": {
    "colab_type": "text",
    "id": "7v0s3Xf23juR"
   },
   "source": [
    "Unlike before, we didn't break the columns apart right away.  This because we're making a generic script, that will work if there are either two columns (Channel and Counts) or three (Channel, Energy, and Counts).\n",
    "\n",
    "The `data` variable we got back for this instance is an array with two elements, each of which is another array.  We're going to access these individually and rename them to store the columns of our data.\n",
    "\n",
    "To access part of an array, we use square brackets `[]` after a variable name, with the index we want inside the brackets.  `data[0]` gives us the first column of our data, which is the channels."
   ]
  },
  {
   "cell_type": "code",
   "execution_count": 5,
   "metadata": {
    "colab": {},
    "colab_type": "code",
    "executionInfo": {
     "elapsed": 10747,
     "status": "ok",
     "timestamp": 1600963868923,
     "user": {
      "displayName": "David McCowan",
      "photoUrl": "https://lh3.googleusercontent.com/a-/AOh14GgG5fQG-8qsRbPgJ9Spnkj4TsscnW-cxQlyY24rPA=s64",
      "userId": "06222162567611374030"
     },
     "user_tz": 300
    },
    "id": "4Of5_WMF3j5f"
   },
   "outputs": [],
   "source": [
    "channel = data[0]"
   ]
  },
  {
   "cell_type": "markdown",
   "metadata": {
    "colab_type": "text",
    "id": "U00F1j4_5lW4"
   },
   "source": [
    "Now we'll use some logic to figure out how to break the columns out the rest of the way.  If you already know how to code you can skip ahead and see how we're doing this in Python, if not then keep reading.\n",
    "\n",
    "> If there aren't any energies then there will only be two elements in `data`.  The way to test for this in Python is to check if the length of the data array, `len(data)` is equal to 2: `len(data == 2)`\n",
    "\n",
    "> To make it so that code only runs if a condition is true, we use an `if` statement that begins with a statement like `if (condition):`  Any code after this that is indented will only be run if the condition we evaluated was true.\n",
    "\n",
    "> `else:` is a complement to `if`, it only runs the indented code after it if the condition we evaluated was false.  \n",
    "\n",
    "> If you haven't programmed before, it is standard practice for a single equals sign to be used to assign quantities to a variable (`x=3` sets the variable `x` to `3`) and a double sign to be used for logic (`x==3` is `True` if `x` is 3, and `False` otherwise) "
   ]
  },
  {
   "cell_type": "code",
   "execution_count": 6,
   "metadata": {
    "colab": {},
    "colab_type": "code",
    "executionInfo": {
     "elapsed": 10744,
     "status": "ok",
     "timestamp": 1600963868927,
     "user": {
      "displayName": "David McCowan",
      "photoUrl": "https://lh3.googleusercontent.com/a-/AOh14GgG5fQG-8qsRbPgJ9Spnkj4TsscnW-cxQlyY24rPA=s64",
      "userId": "06222162567611374030"
     },
     "user_tz": 300
    },
    "id": "gypk-cjP5kbW"
   },
   "outputs": [],
   "source": [
    "if(len(data)==2): # If you didn't calibrate the energies, the second row contains the particle counts\n",
    "    N = data[1]\n",
    "else:\n",
    "    Energy = data[1]\n",
    "    N = data[2]\n",
    "\n",
    "dN = np.sqrt(N)"
   ]
  },
  {
   "cell_type": "markdown",
   "metadata": {
    "colab_type": "text",
    "id": "_-5JzPNp9MnX"
   },
   "source": [
    "Now let's talk about loops for a moment.  If you already know Python, feel free to skip ahead.\n",
    "\n",
    "> Python has a very compact way of letting us access every element in an array one at a time in its `for` loop syntax.  In the code below, we have the statement `for value in dN:` to start the loop.  What this does is create a temporary variable (`value`) for the first element in `dN`, and then run the code in the loop: `print(value)`.  This results in us getting a line-by-line list of everything that's in dN.\n",
    "\n",
    "> If you've worked in other programming languages, you may have made loops a very different way by specifying start and stop values, which break horribly if you mess up the code even a little.  The fact that Python can intelligently handle the nitty gritty aspects of this for you is part of why we're using it for this class, and part of why it is an extremely popular language."
   ]
  },
  {
   "cell_type": "code",
   "execution_count": 7,
   "metadata": {
    "colab": {
     "base_uri": "https://localhost:8080/",
     "height": 1000
    },
    "colab_type": "code",
    "executionInfo": {
     "elapsed": 10741,
     "status": "ok",
     "timestamp": 1600963868931,
     "user": {
      "displayName": "David McCowan",
      "photoUrl": "https://lh3.googleusercontent.com/a-/AOh14GgG5fQG-8qsRbPgJ9Spnkj4TsscnW-cxQlyY24rPA=s64",
      "userId": "06222162567611374030"
     },
     "user_tz": 300
    },
    "id": "SuSnOzpn88KC",
    "outputId": "06e57202-5de2-41b1-f15a-d1d081f3f994",
    "scrolled": true
   },
   "outputs": [
    {
     "name": "stdout",
     "output_type": "stream",
     "text": [
      "0.0\n",
      "0.0\n",
      "0.0\n",
      "0.0\n",
      "0.0\n",
      "0.0\n",
      "0.0\n",
      "0.0\n",
      "0.0\n",
      "0.0\n",
      "0.0\n",
      "1.0\n",
      "0.0\n",
      "0.0\n",
      "0.0\n",
      "2.0\n",
      "2.0\n",
      "1.0\n",
      "1.7320508075688772\n",
      "2.6457513110645907\n",
      "1.0\n",
      "1.0\n",
      "0.0\n",
      "2.0\n",
      "3.1622776601683795\n",
      "19.05255888325765\n",
      "23.173260452512935\n",
      "23.874672772626646\n",
      "23.727621035409346\n",
      "23.194827009486403\n",
      "23.53720459187964\n",
      "24.698178070456937\n",
      "23.979157616563597\n",
      "23.49468024894146\n",
      "23.40939982143925\n",
      "24.0\n",
      "22.978250586152114\n",
      "23.021728866442675\n",
      "23.08679276123039\n",
      "23.173260452512935\n",
      "23.194827009486403\n",
      "23.2163735324878\n",
      "24.228082879171435\n",
      "23.811761799581316\n",
      "24.413111231467404\n",
      "23.2163735324878\n",
      "23.979157616563597\n",
      "23.600847442411894\n",
      "23.558437978779494\n",
      "24.515301344262525\n",
      "23.748684174075834\n",
      "24.310491562286437\n",
      "23.558437978779494\n",
      "24.24871130596428\n",
      "24.041630560342615\n",
      "24.228082879171435\n",
      "23.345235059857504\n",
      "24.145392935299274\n",
      "24.041630560342615\n",
      "24.06241883103193\n",
      "23.664319132398465\n",
      "22.9128784747792\n",
      "24.392621835300936\n",
      "24.228082879171435\n",
      "24.939927826679853\n",
      "23.811761799581316\n",
      "24.657656011875904\n",
      "25.15949125081825\n",
      "24.73863375370596\n",
      "23.853720883753127\n",
      "24.657656011875904\n",
      "25.25866188063018\n",
      "24.979991993593593\n",
      "25.942243542145693\n",
      "24.779023386727733\n",
      "24.979991993593593\n",
      "26.19160170741759\n",
      "25.787593916455254\n",
      "25.238858928247925\n",
      "25.592967784139454\n",
      "25.298221281347036\n",
      "25.41653005427767\n",
      "24.454038521274967\n",
      "24.413111231467404\n",
      "25.787593916455254\n",
      "25.729360660537214\n",
      "25.592967784139454\n",
      "25.69046515733026\n",
      "26.057628441590765\n",
      "25.019992006393608\n",
      "26.514147167125703\n",
      "26.70205984563738\n",
      "26.40075756488817\n",
      "26.019223662515376\n",
      "26.019223662515376\n",
      "26.570660511172846\n",
      "25.92296279363144\n",
      "26.627053911388696\n",
      "26.30589287593181\n",
      "26.90724809414742\n",
      "27.055498516937366\n",
      "28.071337695236398\n",
      "29.03446228191595\n",
      "28.91366458960192\n",
      "29.949958263743873\n",
      "30.692018506445613\n",
      "30.166206257996713\n",
      "30.643106892089126\n",
      "31.906112267087632\n",
      "32.18695387886216\n",
      "32.2490309931942\n",
      "33.15116890850155\n",
      "34.438350715445125\n",
      "33.704599092705436\n",
      "32.2490309931942\n",
      "32.58834147360065\n",
      "32.46536616149585\n",
      "32.357379374726875\n",
      "32.341923257592455\n",
      "31.606961258558215\n",
      "31.496031496047245\n",
      "31.32091952673165\n",
      "31.670175244226233\n",
      "29.698484809834994\n",
      "29.393876913398138\n",
      "28.284271247461902\n",
      "29.068883707497267\n",
      "28.89636655359978\n",
      "29.597297173897484\n",
      "27.964262908219126\n",
      "27.54995462791182\n",
      "27.622454633866266\n",
      "27.294688127912362\n",
      "27.331300737432898\n",
      "27.386127875258307\n",
      "26.5329983228432\n",
      "26.38181191654584\n",
      "25.80697580112788\n",
      "26.13426869074396\n",
      "25.729360660537214\n",
      "26.30589287593181\n",
      "25.98076211353316\n",
      "25.768197453450252\n",
      "24.576411454889016\n",
      "25.495097567963924\n",
      "24.71841418861655\n",
      "24.859605789312106\n",
      "25.298221281347036\n",
      "26.115129714401192\n",
      "25.25866188063018\n",
      "24.43358344574123\n",
      "24.145392935299274\n",
      "24.124676163629637\n",
      "23.558437978779494\n",
      "24.535688292770594\n",
      "24.020824298928627\n",
      "24.08318915758459\n",
      "24.677925358506133\n",
      "24.310491562286437\n",
      "24.145392935299274\n",
      "23.874672772626646\n",
      "23.979157616563597\n",
      "24.43358344574123\n",
      "23.2163735324878\n",
      "23.727621035409346\n",
      "23.515952032609693\n",
      "23.45207879911715\n",
      "23.83275057562597\n",
      "23.302360395462088\n",
      "23.979157616563597\n",
      "22.891046284519195\n",
      "23.895606290697042\n",
      "22.47220505424423\n",
      "23.345235059857504\n",
      "22.494443758403985\n",
      "23.021728866442675\n",
      "23.430749027719962\n",
      "23.130067012440755\n",
      "23.430749027719962\n",
      "23.45207879911715\n",
      "22.693611435820433\n",
      "22.781571499789035\n",
      "23.62202362203543\n",
      "23.664319132398465\n",
      "22.516660498395403\n",
      "22.93468988235943\n",
      "22.825424421026653\n",
      "23.108440016582687\n",
      "23.473389188611005\n",
      "23.2379000772445\n",
      "22.847319317591726\n",
      "22.693611435820433\n",
      "22.561028345356956\n",
      "23.08679276123039\n",
      "23.388031127053\n",
      "23.2163735324878\n",
      "22.847319317591726\n",
      "22.271057451320086\n",
      "22.978250586152114\n",
      "22.427661492005804\n",
      "21.42428528562855\n",
      "21.72556098240043\n",
      "22.494443758403985\n",
      "21.633307652783937\n",
      "22.338307903688676\n",
      "22.781571499789035\n",
      "22.561028345356956\n",
      "23.259406699226016\n",
      "22.24859546128699\n",
      "22.869193252058544\n",
      "23.021728866442675\n",
      "23.62202362203543\n",
      "22.715633383201094\n",
      "21.863211109075447\n",
      "22.781571499789035\n",
      "22.869193252058544\n",
      "22.759613353482084\n",
      "23.0\n",
      "21.95449840010015\n",
      "23.280893453645632\n",
      "21.656407827707714\n",
      "22.80350850198276\n",
      "23.345235059857504\n",
      "22.64950330581225\n",
      "22.781571499789035\n",
      "22.24859546128699\n",
      "22.93468988235943\n",
      "23.043437243605826\n",
      "23.643180835073778\n",
      "21.72556098240043\n",
      "22.891046284519195\n",
      "22.891046284519195\n",
      "22.715633383201094\n",
      "23.2379000772445\n",
      "22.47220505424423\n",
      "23.021728866442675\n",
      "22.627416997969522\n",
      "23.2163735324878\n",
      "22.9128784747792\n",
      "23.366642891095847\n",
      "23.49468024894146\n",
      "22.58317958127243\n",
      "22.516660498395403\n",
      "23.62202362203543\n",
      "23.065125189341593\n",
      "22.978250586152114\n",
      "22.494443758403985\n",
      "22.9128784747792\n",
      "22.22611077089287\n",
      "22.360679774997898\n",
      "22.315913604421397\n",
      "23.49468024894146\n",
      "23.065125189341593\n",
      "22.06807649071391\n",
      "22.090722034374522\n",
      "21.047565179849187\n",
      "21.77154105707724\n",
      "21.702534414210707\n",
      "21.354156504062622\n",
      "21.071307505705477\n",
      "19.72308292331602\n",
      "20.248456731316587\n",
      "20.445048300260872\n",
      "19.519221295943137\n",
      "18.411952639521967\n",
      "19.026297590440446\n",
      "19.078784028338912\n",
      "18.439088914585774\n",
      "18.083141320025124\n",
      "17.86057109949175\n",
      "17.11724276862369\n",
      "16.522711641858304\n",
      "15.968719422671311\n",
      "16.76305461424021\n",
      "15.132745950421556\n",
      "15.684387141358123\n",
      "15.459624833740307\n",
      "15.231546211727817\n",
      "13.228756555322953\n",
      "14.2828568570857\n",
      "14.594519519326424\n",
      "13.820274961085254\n",
      "13.638181696985855\n",
      "12.449899597988733\n",
      "12.288205727444508\n",
      "12.922847983320086\n",
      "12.409673645990857\n",
      "12.489995996796797\n",
      "11.269427669584644\n",
      "12.0\n",
      "12.24744871391589\n",
      "12.041594578792296\n",
      "11.789826122551595\n",
      "11.045361017187261\n",
      "10.816653826391969\n",
      "11.135528725660043\n",
      "10.816653826391969\n",
      "11.045361017187261\n",
      "10.14889156509222\n",
      "10.677078252031311\n",
      "9.848857801796104\n",
      "10.0\n",
      "10.0\n",
      "10.63014581273465\n",
      "10.392304845413264\n",
      "10.198039027185569\n",
      "9.848857801796104\n",
      "10.44030650891055\n",
      "9.591663046625438\n",
      "9.539392014169456\n",
      "9.433981132056603\n",
      "9.797958971132712\n",
      "8.602325267042627\n",
      "9.1104335791443\n",
      "9.746794344808963\n",
      "9.219544457292887\n",
      "9.273618495495704\n",
      "9.591663046625438\n",
      "9.797958971132712\n",
      "9.486832980505138\n",
      "8.94427190999916\n",
      "9.899494936611665\n",
      "9.0\n",
      "8.888194417315589\n",
      "10.295630140987\n",
      "9.0\n",
      "10.14889156509222\n",
      "9.9498743710662\n",
      "9.695359714832659\n",
      "10.488088481701515\n",
      "9.695359714832659\n",
      "9.899494936611665\n",
      "9.643650760992955\n",
      "10.099504938362077\n",
      "11.090536506409418\n",
      "10.535653752852738\n",
      "10.535653752852738\n",
      "10.246950765959598\n",
      "10.723805294763608\n",
      "12.569805089976535\n",
      "11.61895003862225\n",
      "11.40175425099138\n",
      "12.609520212918492\n",
      "13.228756555322953\n",
      "13.564659966250536\n",
      "14.142135623730951\n",
      "14.177446878757825\n",
      "15.198684153570664\n",
      "15.968719422671311\n",
      "16.09347693943108\n",
      "18.65475810617763\n",
      "19.026297590440446\n",
      "18.841443681416774\n",
      "21.6794833886788\n",
      "21.93171219946131\n",
      "23.600847442411894\n",
      "24.677925358506133\n",
      "25.942243542145693\n",
      "27.202941017470888\n",
      "29.478805945967352\n",
      "30.298514815086232\n",
      "31.937438845342623\n",
      "32.46536616149585\n",
      "34.68429039204925\n",
      "36.38681079732051\n",
      "37.64306044943742\n",
      "38.704004960727254\n",
      "41.557189510360296\n",
      "42.661458015403085\n",
      "43.98863489584554\n",
      "44.53088815642464\n",
      "46.184412955021955\n",
      "47.65501022977542\n",
      "47.989582202807306\n",
      "49.658836071740545\n",
      "51.96152422706632\n",
      "52.22068555658763\n",
      "52.76362383309168\n",
      "52.820450584977024\n",
      "53.319789947073126\n",
      "52.79204485526205\n",
      "54.120236510939236\n",
      "53.74011537017761\n",
      "52.896124621752776\n",
      "52.3354564325181\n",
      "52.23983154643591\n",
      "50.37856687124\n",
      "49.8998997994986\n",
      "49.29503017546495\n",
      "47.52893855326458\n",
      "46.604720790924176\n",
      "46.195237849804386\n",
      "43.829214001622255\n",
      "42.2729227756965\n",
      "40.44749683231337\n",
      "38.13135192987524\n",
      "37.16180835212409\n",
      "33.63034344160047\n",
      "33.25657829663178\n",
      "30.675723300355934\n",
      "28.61817604250837\n",
      "27.073972741361768\n",
      "26.076809620810597\n",
      "22.978250586152114\n",
      "22.60530911091463\n",
      "21.494185260204677\n",
      "19.261360284258224\n",
      "18.027756377319946\n",
      "16.911534525287763\n",
      "15.524174696260024\n",
      "12.649110640673518\n",
      "11.958260743101398\n",
      "11.532562594670797\n",
      "10.954451150103322\n",
      "9.055385138137417\n",
      "8.602325267042627\n",
      "8.12403840463596\n",
      "7.615773105863909\n",
      "5.744562646538029\n",
      "6.324555320336759\n",
      "5.744562646538029\n",
      "4.898979485566356\n",
      "5.0990195135927845\n",
      "3.872983346207417\n",
      "3.605551275463989\n",
      "5.385164807134504\n",
      "4.0\n",
      "4.47213595499958\n",
      "5.656854249492381\n",
      "4.898979485566356\n",
      "3.605551275463989\n",
      "3.872983346207417\n",
      "3.872983346207417\n",
      "4.242640687119285\n",
      "3.4641016151377544\n",
      "4.358898943540674\n",
      "3.872983346207417\n",
      "5.196152422706632\n",
      "3.3166247903554\n",
      "3.3166247903554\n",
      "4.69041575982343\n",
      "4.0\n",
      "3.4641016151377544\n",
      "3.872983346207417\n",
      "4.0\n",
      "3.4641016151377544\n",
      "3.1622776601683795\n",
      "4.242640687119285\n",
      "4.47213595499958\n",
      "3.7416573867739413\n",
      "4.242640687119285\n",
      "3.7416573867739413\n",
      "3.0\n",
      "3.7416573867739413\n",
      "3.3166247903554\n",
      "3.605551275463989\n",
      "4.242640687119285\n",
      "3.7416573867739413\n",
      "3.0\n",
      "4.0\n",
      "4.358898943540674\n",
      "3.4641016151377544\n",
      "3.605551275463989\n",
      "3.872983346207417\n",
      "3.1622776601683795\n",
      "3.1622776601683795\n",
      "3.4641016151377544\n",
      "3.4641016151377544\n",
      "3.7416573867739413\n",
      "4.0\n",
      "3.872983346207417\n",
      "2.6457513110645907\n",
      "3.0\n",
      "3.872983346207417\n",
      "3.4641016151377544\n",
      "3.1622776601683795\n",
      "3.3166247903554\n",
      "3.0\n",
      "4.0\n",
      "3.605551275463989\n",
      "3.7416573867739413\n",
      "3.0\n",
      "3.7416573867739413\n",
      "2.8284271247461903\n",
      "3.4641016151377544\n",
      "4.123105625617661\n",
      "3.3166247903554\n",
      "3.3166247903554\n",
      "3.0\n",
      "2.6457513110645907\n",
      "3.0\n",
      "2.23606797749979\n",
      "2.6457513110645907\n",
      "3.7416573867739413\n",
      "2.8284271247461903\n",
      "4.242640687119285\n",
      "3.872983346207417\n",
      "3.1622776601683795\n",
      "3.605551275463989\n",
      "1.7320508075688772\n",
      "2.8284271247461903\n",
      "3.0\n",
      "2.449489742783178\n",
      "1.7320508075688772\n",
      "2.0\n",
      "2.6457513110645907\n",
      "3.872983346207417\n",
      "3.605551275463989\n",
      "3.1622776601683795\n",
      "3.4641016151377544\n",
      "2.6457513110645907\n",
      "3.0\n",
      "2.0\n",
      "2.6457513110645907\n",
      "3.872983346207417\n",
      "3.0\n",
      "3.7416573867739413\n",
      "2.449489742783178\n",
      "3.605551275463989\n",
      "3.1622776601683795\n",
      "2.0\n",
      "1.4142135623730951\n",
      "2.6457513110645907\n",
      "2.449489742783178\n",
      "2.8284271247461903\n",
      "3.0\n",
      "2.449489742783178\n",
      "3.0\n",
      "2.6457513110645907\n",
      "3.4641016151377544\n",
      "2.23606797749979\n",
      "2.23606797749979\n",
      "2.23606797749979\n",
      "2.8284271247461903\n",
      "2.6457513110645907\n",
      "2.8284271247461903\n",
      "2.23606797749979\n",
      "2.0\n",
      "2.449489742783178\n",
      "1.7320508075688772\n",
      "2.449489742783178\n",
      "1.4142135623730951\n",
      "2.0\n",
      "2.6457513110645907\n",
      "2.8284271247461903\n",
      "1.7320508075688772\n",
      "3.0\n",
      "3.0\n",
      "2.449489742783178\n",
      "2.8284271247461903\n",
      "2.6457513110645907\n",
      "3.0\n",
      "2.0\n",
      "2.23606797749979\n",
      "2.8284271247461903\n",
      "2.0\n",
      "2.6457513110645907\n",
      "2.8284271247461903\n",
      "1.4142135623730951\n",
      "3.1622776601683795\n",
      "3.3166247903554\n",
      "2.6457513110645907\n",
      "2.23606797749979\n",
      "2.0\n",
      "2.23606797749979\n",
      "2.449489742783178\n",
      "2.449489742783178\n",
      "2.449489742783178\n",
      "1.7320508075688772\n",
      "2.449489742783178\n",
      "2.0\n",
      "2.449489742783178\n",
      "2.449489742783178\n",
      "2.449489742783178\n",
      "2.23606797749979\n",
      "2.449489742783178\n",
      "2.0\n",
      "2.6457513110645907\n",
      "2.6457513110645907\n",
      "2.449489742783178\n",
      "2.6457513110645907\n",
      "2.8284271247461903\n",
      "1.7320508075688772\n",
      "3.1622776601683795\n",
      "2.23606797749979\n",
      "2.449489742783178\n",
      "1.7320508075688772\n",
      "3.872983346207417\n",
      "2.449489742783178\n",
      "2.8284271247461903\n",
      "2.23606797749979\n",
      "2.23606797749979\n",
      "2.8284271247461903\n",
      "2.0\n",
      "3.1622776601683795\n",
      "2.23606797749979\n",
      "2.6457513110645907\n",
      "1.7320508075688772\n",
      "1.7320508075688772\n",
      "3.4641016151377544\n",
      "1.7320508075688772\n",
      "3.0\n",
      "1.4142135623730951\n",
      "1.4142135623730951\n",
      "2.0\n",
      "2.6457513110645907\n",
      "1.7320508075688772\n",
      "2.0\n",
      "2.449489742783178\n",
      "1.4142135623730951\n",
      "1.4142135623730951\n",
      "2.0\n",
      "2.0\n",
      "2.0\n",
      "1.7320508075688772\n",
      "1.4142135623730951\n",
      "2.0\n",
      "2.0\n",
      "2.0\n",
      "3.0\n",
      "2.449489742783178\n",
      "2.449489742783178\n",
      "2.0\n",
      "2.23606797749979\n",
      "1.0\n",
      "2.6457513110645907\n",
      "2.0\n",
      "2.0\n",
      "2.449489742783178\n",
      "2.449489742783178\n",
      "2.0\n",
      "1.7320508075688772\n",
      "2.23606797749979\n",
      "1.4142135623730951\n",
      "2.23606797749979\n",
      "2.0\n",
      "1.4142135623730951\n",
      "1.7320508075688772\n",
      "2.23606797749979\n",
      "2.8284271247461903\n",
      "2.8284271247461903\n",
      "2.6457513110645907\n",
      "2.23606797749979\n",
      "1.7320508075688772\n",
      "2.0\n",
      "1.7320508075688772\n",
      "2.449489742783178\n",
      "2.0\n",
      "1.0\n",
      "1.4142135623730951\n",
      "2.23606797749979\n",
      "2.0\n",
      "2.23606797749979\n",
      "1.7320508075688772\n",
      "2.6457513110645907\n",
      "2.0\n",
      "2.0\n",
      "2.6457513110645907\n",
      "1.4142135623730951\n",
      "1.7320508075688772\n",
      "1.7320508075688772\n",
      "2.449489742783178\n",
      "1.7320508075688772\n",
      "1.7320508075688772\n",
      "1.0\n",
      "2.0\n",
      "1.4142135623730951\n",
      "0.0\n",
      "2.0\n",
      "1.0\n",
      "1.0\n",
      "1.4142135623730951\n",
      "1.4142135623730951\n",
      "1.4142135623730951\n",
      "1.4142135623730951\n",
      "2.0\n",
      "1.0\n",
      "1.4142135623730951\n",
      "1.7320508075688772\n",
      "1.7320508075688772\n",
      "1.4142135623730951\n",
      "1.4142135623730951\n",
      "2.0\n",
      "1.4142135623730951\n",
      "1.7320508075688772\n",
      "1.7320508075688772\n",
      "1.7320508075688772\n",
      "2.0\n",
      "1.0\n",
      "1.4142135623730951\n",
      "1.0\n",
      "1.7320508075688772\n",
      "2.0\n",
      "1.7320508075688772\n",
      "0.0\n",
      "2.0\n",
      "1.4142135623730951\n",
      "0.0\n",
      "2.0\n",
      "1.4142135623730951\n",
      "1.4142135623730951\n",
      "1.7320508075688772\n",
      "2.23606797749979\n",
      "2.8284271247461903\n",
      "1.0\n",
      "1.0\n",
      "2.23606797749979\n",
      "3.0\n",
      "1.7320508075688772\n",
      "2.0\n",
      "2.0\n",
      "1.7320508075688772\n",
      "2.6457513110645907\n",
      "2.449489742783178\n",
      "0.0\n",
      "1.4142135623730951\n",
      "2.0\n",
      "2.23606797749979\n",
      "1.7320508075688772\n",
      "1.0\n",
      "1.4142135623730951\n",
      "1.7320508075688772\n",
      "2.23606797749979\n",
      "1.7320508075688772\n",
      "2.0\n",
      "2.0\n",
      "2.449489742783178\n",
      "1.0\n",
      "1.7320508075688772\n",
      "2.0\n",
      "2.449489742783178\n",
      "1.4142135623730951\n",
      "2.0\n",
      "1.7320508075688772\n",
      "2.6457513110645907\n",
      "2.0\n",
      "2.0\n",
      "2.0\n",
      "2.23606797749979\n",
      "2.23606797749979\n",
      "2.0\n",
      "1.4142135623730951\n",
      "1.4142135623730951\n",
      "2.449489742783178\n",
      "2.0\n",
      "2.23606797749979\n",
      "2.449489742783178\n",
      "2.0\n",
      "1.7320508075688772\n",
      "1.4142135623730951\n",
      "2.0\n",
      "1.0\n",
      "2.449489742783178\n",
      "2.6457513110645907\n",
      "1.4142135623730951\n",
      "1.0\n",
      "2.0\n",
      "2.0\n",
      "2.0\n",
      "1.4142135623730951\n",
      "2.0\n",
      "1.7320508075688772\n",
      "1.4142135623730951\n",
      "1.0\n",
      "1.4142135623730951\n",
      "1.0\n",
      "1.4142135623730951\n",
      "1.0\n",
      "2.23606797749979\n",
      "2.0\n",
      "1.7320508075688772\n",
      "1.4142135623730951\n",
      "1.0\n",
      "1.4142135623730951\n",
      "1.4142135623730951\n",
      "1.4142135623730951\n",
      "1.0\n",
      "0.0\n",
      "0.0\n",
      "1.0\n",
      "1.0\n",
      "0.0\n",
      "1.7320508075688772\n",
      "1.4142135623730951\n",
      "1.4142135623730951\n",
      "1.0\n",
      "1.0\n",
      "0.0\n",
      "0.0\n",
      "1.0\n",
      "1.4142135623730951\n",
      "1.0\n",
      "1.0\n",
      "1.0\n",
      "0.0\n",
      "1.4142135623730951\n",
      "0.0\n",
      "1.0\n",
      "0.0\n",
      "0.0\n",
      "1.0\n",
      "0.0\n",
      "1.0\n",
      "0.0\n",
      "0.0\n",
      "1.0\n",
      "0.0\n",
      "0.0\n",
      "0.0\n",
      "1.0\n",
      "1.0\n",
      "1.0\n",
      "0.0\n",
      "0.0\n",
      "1.0\n",
      "1.0\n",
      "1.0\n",
      "1.0\n",
      "1.0\n",
      "0.0\n",
      "0.0\n",
      "0.0\n",
      "0.0\n",
      "0.0\n",
      "0.0\n",
      "1.0\n",
      "0.0\n",
      "0.0\n",
      "0.0\n",
      "0.0\n",
      "1.4142135623730951\n",
      "0.0\n",
      "1.4142135623730951\n",
      "1.0\n",
      "1.7320508075688772\n",
      "1.0\n",
      "0.0\n",
      "1.4142135623730951\n",
      "0.0\n",
      "1.0\n",
      "0.0\n",
      "0.0\n",
      "0.0\n",
      "0.0\n",
      "0.0\n",
      "0.0\n",
      "0.0\n",
      "1.0\n",
      "0.0\n",
      "0.0\n",
      "0.0\n",
      "0.0\n",
      "0.0\n",
      "0.0\n",
      "0.0\n",
      "0.0\n",
      "0.0\n",
      "0.0\n",
      "0.0\n",
      "0.0\n",
      "0.0\n",
      "0.0\n",
      "0.0\n",
      "1.0\n",
      "0.0\n",
      "0.0\n",
      "0.0\n",
      "0.0\n",
      "0.0\n",
      "0.0\n",
      "0.0\n",
      "0.0\n",
      "0.0\n",
      "0.0\n",
      "1.0\n",
      "0.0\n",
      "0.0\n",
      "0.0\n",
      "0.0\n",
      "0.0\n",
      "0.0\n",
      "0.0\n",
      "0.0\n",
      "0.0\n",
      "0.0\n",
      "0.0\n",
      "0.0\n",
      "0.0\n",
      "0.0\n",
      "0.0\n",
      "1.0\n",
      "0.0\n",
      "0.0\n",
      "0.0\n",
      "0.0\n",
      "0.0\n",
      "0.0\n",
      "0.0\n",
      "0.0\n",
      "0.0\n",
      "0.0\n",
      "0.0\n",
      "0.0\n",
      "1.0\n",
      "0.0\n",
      "0.0\n",
      "0.0\n",
      "0.0\n",
      "0.0\n",
      "0.0\n",
      "0.0\n",
      "0.0\n",
      "0.0\n",
      "1.0\n",
      "0.0\n",
      "0.0\n",
      "0.0\n",
      "0.0\n",
      "0.0\n",
      "0.0\n",
      "0.0\n",
      "1.0\n",
      "0.0\n",
      "0.0\n",
      "0.0\n",
      "0.0\n",
      "0.0\n",
      "0.0\n",
      "0.0\n",
      "0.0\n",
      "0.0\n",
      "0.0\n",
      "0.0\n",
      "0.0\n",
      "0.0\n",
      "0.0\n",
      "0.0\n",
      "0.0\n",
      "0.0\n",
      "0.0\n",
      "0.0\n",
      "0.0\n",
      "0.0\n",
      "0.0\n",
      "0.0\n",
      "0.0\n",
      "0.0\n",
      "0.0\n",
      "0.0\n",
      "0.0\n",
      "0.0\n",
      "0.0\n",
      "0.0\n",
      "0.0\n",
      "1.0\n",
      "0.0\n",
      "1.0\n",
      "0.0\n",
      "0.0\n",
      "1.0\n",
      "0.0\n",
      "0.0\n",
      "0.0\n",
      "0.0\n",
      "0.0\n",
      "1.0\n",
      "0.0\n",
      "0.0\n",
      "0.0\n",
      "0.0\n",
      "0.0\n",
      "0.0\n",
      "0.0\n",
      "0.0\n",
      "0.0\n",
      "0.0\n",
      "0.0\n",
      "0.0\n",
      "0.0\n",
      "0.0\n",
      "0.0\n",
      "0.0\n",
      "0.0\n",
      "0.0\n",
      "0.0\n",
      "0.0\n",
      "0.0\n",
      "0.0\n",
      "0.0\n",
      "0.0\n",
      "1.0\n",
      "0.0\n",
      "0.0\n",
      "0.0\n",
      "0.0\n",
      "0.0\n",
      "0.0\n",
      "0.0\n",
      "0.0\n",
      "0.0\n",
      "1.0\n",
      "0.0\n",
      "0.0\n",
      "0.0\n",
      "0.0\n",
      "0.0\n",
      "0.0\n",
      "0.0\n",
      "0.0\n",
      "0.0\n",
      "0.0\n",
      "0.0\n",
      "0.0\n",
      "0.0\n",
      "1.0\n",
      "0.0\n",
      "0.0\n",
      "1.0\n",
      "0.0\n",
      "0.0\n",
      "0.0\n",
      "0.0\n",
      "0.0\n",
      "0.0\n"
     ]
    }
   ],
   "source": [
    "for value in dN:\n",
    "  print(value)"
   ]
  },
  {
   "cell_type": "markdown",
   "metadata": {
    "colab_type": "text",
    "id": "sisne2TV7lSc"
   },
   "source": [
    "Next we set our uncertainty values `dN = np.sqrt(N)` and then check for zeroes.  Again, if you're familiar with coding, you can skim the explanation here.\n",
    "\n",
    "> Here we've set up the loop a little differently: `enumerate(dN)` tells Python that we want to have every single value in `dN` and the index associated with it.  The indicies are represented by `i`, and the values by `value`.  \n",
    "\n",
    "> One by one, this checks if the ith element of `dN` is equal to zero or not.  If it is, then it replaces that specific element `dN[i]` with a value of 1.14."
   ]
  },
  {
   "cell_type": "code",
   "execution_count": 8,
   "metadata": {
    "colab": {},
    "colab_type": "code",
    "executionInfo": {
     "elapsed": 10737,
     "status": "ok",
     "timestamp": 1600963868935,
     "user": {
      "displayName": "David McCowan",
      "photoUrl": "https://lh3.googleusercontent.com/a-/AOh14GgG5fQG-8qsRbPgJ9Spnkj4TsscnW-cxQlyY24rPA=s64",
      "userId": "06222162567611374030"
     },
     "user_tz": 300
    },
    "id": "zJZcAgai7lYr"
   },
   "outputs": [],
   "source": [
    "dN = np.sqrt(N)\n",
    "for i, value in enumerate(dN):\n",
    "    if value == 0:\n",
    "        dN[i] = 1.14"
   ]
  },
  {
   "cell_type": "markdown",
   "metadata": {
    "colab_type": "text",
    "id": "Q7T0mEmb_x7S"
   },
   "source": [
    "For the sake of convinience, here's all that code together in one spot.  You don't have to run it again, but it won't hurt if you do.\n",
    "\n",
    "This snippet of code is a tool for you to use, feel free to copy it into a notebook and use it for later labs."
   ]
  },
  {
   "cell_type": "code",
   "execution_count": 9,
   "metadata": {
    "colab": {
     "base_uri": "https://localhost:8080/",
     "height": 34
    },
    "colab_type": "code",
    "executionInfo": {
     "elapsed": 10731,
     "status": "ok",
     "timestamp": 1600963868937,
     "user": {
      "displayName": "David McCowan",
      "photoUrl": "https://lh3.googleusercontent.com/a-/AOh14GgG5fQG-8qsRbPgJ9Spnkj4TsscnW-cxQlyY24rPA=s64",
      "userId": "06222162567611374030"
     },
     "user_tz": 300
    },
    "id": "CZzTXvr2_yBk",
    "outputId": "22029440-cb76-428c-ca60-673dda18a247"
   },
   "outputs": [
    {
     "name": "stdout",
     "output_type": "stream",
     "text": [
      "Data starts on row 22\n"
     ]
    }
   ],
   "source": [
    "with open(data_filename ,\"r\") as f:\n",
    "    for x,line in enumerate(f):\n",
    "        if(line == 'Channel Data:\\n'): #reads the file until it finds this text, which always occurs two lines before the data starts\n",
    "            data_start = x+2\n",
    "            print(\"Data starts on row {}\".format(data_start))\n",
    "            break\n",
    "            \n",
    "data = np.loadtxt( data_filename , unpack=True, skiprows = data_start) #numpy opens the data starting at the appropriate place\n",
    "channel = data[0]\n",
    "if(len(data)==2): # If you didn't calibrate the energies, the second row contains the particle counts\n",
    "    N = data[1]\n",
    "else:\n",
    "    Energy = data[1]\n",
    "    N = data[2]\n",
    "\n",
    "dN = np.sqrt(N)\n",
    "for i, value in enumerate(dN):\n",
    "    if value == 0:\n",
    "        dN[i] = 1.14"
   ]
  },
  {
   "cell_type": "markdown",
   "metadata": {
    "colab_type": "text",
    "id": "XSBkDNl_2YdP"
   },
   "source": [
    "Quickly plot the data to see what it looks like"
   ]
  },
  {
   "cell_type": "code",
   "execution_count": 10,
   "metadata": {
    "colab": {
     "base_uri": "https://localhost:8080/",
     "height": 500
    },
    "colab_type": "code",
    "executionInfo": {
     "elapsed": 11124,
     "status": "ok",
     "timestamp": 1600963869341,
     "user": {
      "displayName": "David McCowan",
      "photoUrl": "https://lh3.googleusercontent.com/a-/AOh14GgG5fQG-8qsRbPgJ9Spnkj4TsscnW-cxQlyY24rPA=s64",
      "userId": "06222162567611374030"
     },
     "user_tz": 300
    },
    "id": "UHT7v0V92YdQ",
    "outputId": "c25e43ba-62d1-47fe-c0b1-a56fa5961878"
   },
   "outputs": [
    {
     "data": {
      "text/plain": [
       "<ErrorbarContainer object of 3 artists>"
      ]
     },
     "execution_count": 10,
     "metadata": {},
     "output_type": "execute_result"
    },
    {
     "data": {
      "image/png": "[encoded data removed]",
      "text/plain": [
       "<Figure size 1200x800 with 1 Axes>"
      ]
     },
     "metadata": {},
     "output_type": "display_data"
    }
   ],
   "source": [
    "fig,ax = plt.subplots(figsize = (12,8))\n",
    "ax.errorbar(channel, N, dN, fmt='k.')"
   ]
  },
  {
   "cell_type": "markdown",
   "metadata": {
    "colab_type": "text",
    "collapsed": true,
    "id": "Li9OQVNb2YdW",
    "jupyter": {
     "outputs_hidden": true
    }
   },
   "source": [
    "You should see one clear full energy peak just short of channel 400.  let's take a closer look at it by only plotting part of the data.\n",
    "\n",
    "To access only part of an array, you can use square brackets with the start and stop points separated with a colon.  For instance, `channel[0:99]` would give you an array with only the first 100 values of `channel` in it.  Let's use this to zoom in on our data."
   ]
  },
  {
   "cell_type": "code",
   "execution_count": 11,
   "metadata": {
    "colab": {
     "base_uri": "https://localhost:8080/",
     "height": 500
    },
    "colab_type": "code",
    "executionInfo": {
     "elapsed": 11479,
     "status": "ok",
     "timestamp": 1600963869704,
     "user": {
      "displayName": "David McCowan",
      "photoUrl": "https://lh3.googleusercontent.com/a-/AOh14GgG5fQG-8qsRbPgJ9Spnkj4TsscnW-cxQlyY24rPA=s64",
      "userId": "06222162567611374030"
     },
     "user_tz": 300
    },
    "id": "67pbCF27BEp3",
    "outputId": "80bd6830-9bed-4e31-e747-12e14ad6998d"
   },
   "outputs": [
    {
     "data": {
      "text/plain": [
       "<ErrorbarContainer object of 3 artists>"
      ]
     },
     "execution_count": 11,
     "metadata": {},
     "output_type": "execute_result"
    },
    {
     "data": {
      "image/png": "[encoded data removed]",
      "text/plain": [
       "<Figure size 1200x800 with 1 Axes>"
      ]
     },
     "metadata": {},
     "output_type": "display_data"
    }
   ],
   "source": [
    "min_value = 300\n",
    "max_value = 450\n",
    "fig,ax = plt.subplots(figsize = (12,8))\n",
    "ax.errorbar(channel[min_value:max_value], N[min_value:max_value], dN[min_value:max_value], fmt='k.')"
   ]
  },
  {
   "cell_type": "markdown",
   "metadata": {
    "colab_type": "text",
    "id": "pUs9KCAuB4Hq"
   },
   "source": [
    "---\n",
    "# Task 1\n",
    "---\n",
    "Zoom in a little further on the peak, and make the plot look a bit nicer.  Specifically:\n",
    "- Add a title of 'PHA Energy Spectrum of Cs-137 Decay'.\n",
    "- Label the x axis 'channel' and the y axis 'counts'.\n",
    "- Add a legend and label your points as 'Data'.\n",
    "- Add endcaps to the errorbars with the `capsize` keyword.\n",
    "  - If you don't remember how to do this, check the examples in the first notebook."
   ]
  },
  {
   "cell_type": "code",
   "execution_count": 12,
   "metadata": {
    "colab": {
     "base_uri": "https://localhost:8080/",
     "height": 500
    },
    "colab_type": "code",
    "executionInfo": {
     "elapsed": 11475,
     "status": "ok",
     "timestamp": 1600963869708,
     "user": {
      "displayName": "David McCowan",
      "photoUrl": "https://lh3.googleusercontent.com/a-/AOh14GgG5fQG-8qsRbPgJ9Spnkj4TsscnW-cxQlyY24rPA=s64",
      "userId": "06222162567611374030"
     },
     "user_tz": 300
    },
    "id": "FotLIdmlB4L-",
    "outputId": "23f23ca1-409a-41b7-971f-750f9a45ae30"
   },
   "outputs": [
    {
     "data": {
      "text/plain": [
       "<matplotlib.legend.Legend at 0x147d76210>"
      ]
     },
     "execution_count": 12,
     "metadata": {},
     "output_type": "execute_result"
    },
    {
     "data": {
      "image/png": "[encoded data removed]",
      "text/plain": [
       "<Figure size 1200x800 with 1 Axes>"
      ]
     },
     "metadata": {},
     "output_type": "display_data"
    }
   ],
   "source": [
    "min_value = 300\n",
    "max_value = 450\n",
    "\n",
    "fig,ax = plt.subplots(figsize = (12,8))\n",
    "\n",
    "ax.errorbar(channel[min_value:max_value], N[min_value:max_value], dN[min_value:max_value], fmt='k.', label='Data', capsize=2)\n",
    "ax.set_xlabel('channel')\n",
    "ax.set_ylabel('counts')\n",
    "ax.set_title('PHA Energy Spectrum of Cs-137 Decay')\n",
    "ax.legend()"
   ]
  },
  {
   "cell_type": "markdown",
   "metadata": {
    "colab_type": "text",
    "id": "5HVPORLuCklV"
   },
   "source": [
    "# Part 2: Fitting a Gaussian\n",
    "---\n",
    "\n",
    "Now that you've got things gussied up, let's fit our data with a Gaussian function of the form $f(x) = \\frac{N}{\\sqrt{2\\pi }}e^{-\\frac{(x-\\mu)^2}{2\\sigma^2 }}$\n",
    "\n",
    "In the code below, `p[0]` = $N$, `p[1]` = $\\mu$, and `p[2]` = $\\sigma$"
   ]
  },
  {
   "cell_type": "code",
   "execution_count": 13,
   "metadata": {
    "colab": {},
    "colab_type": "code",
    "executionInfo": {
     "elapsed": 11459,
     "status": "ok",
     "timestamp": 1600963869710,
     "user": {
      "displayName": "David McCowan",
      "photoUrl": "https://lh3.googleusercontent.com/a-/AOh14GgG5fQG-8qsRbPgJ9Spnkj4TsscnW-cxQlyY24rPA=s64",
      "userId": "06222162567611374030"
     },
     "user_tz": 300
    },
    "id": "LhZH9LP22YdY"
   },
   "outputs": [],
   "source": [
    "def gaussianfunc(p,x):\n",
    "    return p[0]/(p[2]*np.sqrt(2*np.pi))*np.exp(-(x-p[1])**2/(2*p[2]**2))\n",
    "\n",
    "def residual(p,func, xvar, yvar, err):\n",
    "    return (func(p, xvar) - yvar)/err"
   ]
  },
  {
   "cell_type": "markdown",
   "metadata": {
    "colab_type": "text",
    "id": "LIkDETOpDx4J"
   },
   "source": [
    "We'll bring back the same curve fitting routine we've been using in the cell below."
   ]
  },
  {
   "cell_type": "code",
   "execution_count": 14,
   "metadata": {
    "colab": {},
    "colab_type": "code",
    "executionInfo": {
     "elapsed": 11446,
     "status": "ok",
     "timestamp": 1600963869711,
     "user": {
      "displayName": "David McCowan",
      "photoUrl": "https://lh3.googleusercontent.com/a-/AOh14GgG5fQG-8qsRbPgJ9Spnkj4TsscnW-cxQlyY24rPA=s64",
      "userId": "06222162567611374030"
     },
     "user_tz": 300
    },
    "id": "gB3Z_pyM2Ydc"
   },
   "outputs": [],
   "source": [
    "# The code below defines our data fitting function.\n",
    "# Inputs are:\n",
    "# initial guess for parameters p0\n",
    "# the function we're fitting to\n",
    "# the x,y, and dy variables\n",
    "# tmi can be set to 1 or 2 if more intermediate data is needed\n",
    "\n",
    "def data_fit(p0, func, xvar, yvar, err, tmi=0):\n",
    "    try:\n",
    "        fit = optimize.least_squares(residual, p0, args=(func,xvar, yvar, err), verbose=tmi)\n",
    "    except Exception as error:\n",
    "        print(\"Something has gone wrong:\",error)\n",
    "        return p0, np.zeros_like(p0), np.nan, np.nan\n",
    "    pf = fit['x']\n",
    "\n",
    "    print()\n",
    "\n",
    "    try:\n",
    "        cov = np.linalg.inv(fit['jac'].T.dot(fit['jac']))          \n",
    "        # This computes a covariance matrix by finding the inverse of the Jacobian times its transpose\n",
    "        # We need this to find the uncertainty in our fit parameters\n",
    "    except:\n",
    "        # If the fit failed, print the reason\n",
    "        print('Fit did not converge')\n",
    "        print('Result is likely a local minimum')\n",
    "        print('Try changing initial values')\n",
    "        print('Status code:', fit['status'])\n",
    "        print(fit['message'])\n",
    "        return pf, np.zeros_like(pf), np.nan, np.nan\n",
    "            #You'll be able to plot with this, but it will not be a good fit.\n",
    "\n",
    "    chisq = sum(residual(pf, func, xvar, yvar, err) **2)\n",
    "    dof = len(xvar) - len(pf)\n",
    "    red_chisq = chisq/dof\n",
    "    pferr = np.sqrt(np.diagonal(cov)) # finds the uncertainty in fit parameters by squaring diagonal elements of the covariance matrix\n",
    "    print('Converged with chi-squared {:.2f}'.format(chisq))\n",
    "    print('Number of degrees of freedom, dof = {:.2f}'.format(dof))\n",
    "    print('Reduced chi-squared {:.2f}'.format(red_chisq))\n",
    "    print()\n",
    "    Columns = [\"Parameter #\",\"Initial guess values:\", \"Best fit values:\", \"Uncertainties in the best fit values:\"]\n",
    "    print('{:<11}'.format(Columns[0]),'|','{:<24}'.format(Columns[1]),\"|\",'{:<24}'.format(Columns[2]),\"|\",'{:<24}'.format(Columns[3]))\n",
    "    for num in range(len(pf)):\n",
    "        print('{:<11}'.format(num),'|','{:<24.3e}'.format(p0[num]),'|','{:<24.3e}'.format(pf[num]),'|','{:<24.3e}'.format(pferr[num]))\n",
    "    return pf, pferr, chisq,dof"
   ]
  },
  {
   "cell_type": "markdown",
   "metadata": {
    "colab_type": "text",
    "id": "rZXdbnTt2YdX"
   },
   "source": [
    "Now we've got to make some initial guesses for appropriate parameters.\n",
    "From our plot above:\n",
    "- The amplitude $N$ is about 3000 counts, so lets guess 50,000 counts total.\n",
    "- The center $\\mu$ is near channel 375.\n",
    "- The width is about 50 channels, so $\\sigma$ is about half that: 25.\n",
    "\n",
    "With that out of the way, we need to make sure that we're only fitting the data that's acutally gaussian.  We'll use the method of selecting just a subset of data to do this, just like before."
   ]
  },
  {
   "cell_type": "code",
   "execution_count": 15,
   "metadata": {
    "colab": {
     "base_uri": "https://localhost:8080/",
     "height": 187
    },
    "colab_type": "code",
    "executionInfo": {
     "elapsed": 11438,
     "status": "ok",
     "timestamp": 1600963869712,
     "user": {
      "displayName": "David McCowan",
      "photoUrl": "https://lh3.googleusercontent.com/a-/AOh14GgG5fQG-8qsRbPgJ9Spnkj4TsscnW-cxQlyY24rPA=s64",
      "userId": "06222162567611374030"
     },
     "user_tz": 300
    },
    "id": "NV7XwYT92Ydf",
    "outputId": "ea62f29f-6f4d-49b1-f045-9ed460477770"
   },
   "outputs": [
    {
     "name": "stdout",
     "output_type": "stream",
     "text": [
      "Gaussian Fit\n",
      "\n",
      "Converged with chi-squared 4829.75\n",
      "Number of degrees of freedom, dof = 147.00\n",
      "Reduced chi-squared 32.86\n",
      "\n",
      "Parameter # | Initial guess values:    | Best fit values:         | Uncertainties in the best fit values:\n",
      "0           | 5.000e+04                | 9.408e+04                | 3.067e+02               \n",
      "1           | 3.750e+02                | 3.794e+02                | 4.489e-02               \n",
      "2           | 2.500e+01                | 1.367e+01                | 3.374e-02               \n"
     ]
    }
   ],
   "source": [
    "channel2 = channel[min_value:max_value]\n",
    "N2 = N[min_value:max_value]\n",
    "dN2 = dN[min_value:max_value]\n",
    "\n",
    "print(\"Gaussian Fit\")\n",
    "p0 = [50000, 375, 25]\n",
    "pf1, pferr1, chisq1, dof1 = data_fit(p0, gaussianfunc, channel2, N2, dN2)"
   ]
  },
  {
   "cell_type": "markdown",
   "metadata": {
    "colab_type": "text",
    "id": "MBi5-y2q2Ydk"
   },
   "source": [
    "Huh, the reduced $\\chi^2$ value is pretty large.  Let's plot our fit and see what's happening."
   ]
  },
  {
   "cell_type": "code",
   "execution_count": 16,
   "metadata": {
    "colab": {
     "base_uri": "https://localhost:8080/",
     "height": 483
    },
    "colab_type": "code",
    "executionInfo": {
     "elapsed": 11924,
     "status": "ok",
     "timestamp": 1600963870208,
     "user": {
      "displayName": "David McCowan",
      "photoUrl": "https://lh3.googleusercontent.com/a-/AOh14GgG5fQG-8qsRbPgJ9Spnkj4TsscnW-cxQlyY24rPA=s64",
      "userId": "06222162567611374030"
     },
     "user_tz": 300
    },
    "id": "n100aBGr2Ydk",
    "outputId": "e9982001-1cbb-461e-90e7-cb2b335b882c"
   },
   "outputs": [
    {
     "data": {
      "image/png": "[encoded data removed]",
      "text/plain": [
       "<Figure size 1000x800 with 1 Axes>"
      ]
     },
     "metadata": {},
     "output_type": "display_data"
    }
   ],
   "source": [
    "fig,ax = plt.subplots(figsize = (10,8))\n",
    "\n",
    "ax.errorbar(channel2, N2, yerr=dN2,fmt= 'k.', label='Data in fit')\n",
    "\n",
    "# We then plot the fit function. We could plot it at each point in \"channel2\"\n",
    "#  and connect those points with straight lines. However, we may want a smoother\n",
    "#  plot. To do so, we create a new array of points using \"linspace()\" that covers\n",
    "#  the same range, but more densely. When we connect these points, the line will\n",
    "#  be more smooth.\n",
    "channel_cont = np.linspace(min(channel2), max(channel2), 5000)\n",
    "ax.plot(channel_cont, gaussianfunc(pf1, channel_cont), 'r-', label='Fit')\n",
    "\n",
    "\n",
    "plt.savefig('Example4_Figure1.png',dpi=300)\n",
    "if using_colab:\n",
    "  files.download('Example4_Figure1.png') \n",
    "plt.show()"
   ]
  },
  {
   "cell_type": "markdown",
   "metadata": {
    "colab_type": "text",
    "id": "gt-tBGA5JAtz"
   },
   "source": [
    "Our function is definitely undershooting all of the data on the left, and the center doesn't quite look like the center in our data.  We'll dig into this in just a moment, but first we want you to tidy this plot up a bit."
   ]
  },
  {
   "cell_type": "markdown",
   "metadata": {
    "colab_type": "text",
    "id": "u_r7Dn3bHxmh"
   },
   "source": [
    "---\n",
    "# Task 2\n",
    "---\n",
    "Your next task:\n",
    "\n",
    " - Tidy up the plot by incorporating the changes you made in exercise 1.  \n",
    "\n",
    " - Add a text annotation to the plot with the fit equation and fit parameters (with uncertainty).\n",
    "  - If you need a reminder of how to do this, check the previous tutorial notebooks.  \n"
   ]
  },
  {
   "cell_type": "code",
   "execution_count": 19,
   "metadata": {
    "colab": {
     "base_uri": "https://localhost:8080/",
     "height": 483
    },
    "colab_type": "code",
    "executionInfo": {
     "elapsed": 12195,
     "status": "ok",
     "timestamp": 1600963870491,
     "user": {
      "displayName": "David McCowan",
      "photoUrl": "https://lh3.googleusercontent.com/a-/AOh14GgG5fQG-8qsRbPgJ9Spnkj4TsscnW-cxQlyY24rPA=s64",
      "userId": "06222162567611374030"
     },
     "user_tz": 300
    },
    "id": "5IMQIWZIH1Nl",
    "outputId": "3f46b5f5-6d21-428c-baad-7ac1b1c1026a"
   },
   "outputs": [
    {
     "data": {
      "image/png": "[encoded data removed]",
      "text/plain": [
       "<Figure size 1000x800 with 1 Axes>"
      ]
     },
     "metadata": {},
     "output_type": "display_data"
    }
   ],
   "source": [
    "fig,ax = plt.subplots(figsize = (10,8))\n",
    "\n",
    "ax.errorbar(channel2, N2, yerr=dN2,fmt= 'k.', label='Data in fit')\n",
    "ax.set_xlabel('channel')\n",
    "ax.set_ylabel('counts')\n",
    "ax.set_title('PHA Energy Spectrum of Cs-137 Decay')\n",
    "\n",
    "# We then plot the fit function. We could plot it at each point in \"channel2\"\n",
    "#  and connect those points with straight lines. However, we may want a smoother\n",
    "#  plot. To do so, we create a new array of points using \"linspace()\" that covers\n",
    "#  the same range, but more densely. When we connect these points, the line will\n",
    "#  be more smooth.\n",
    "channel_cont = np.linspace(min(channel2), max(channel2), 5000)\n",
    "ax.plot(channel_cont, gaussianfunc(pf1, channel_cont), 'r-', label='Fit')\n",
    "txt = '$f(x) = \\\\frac{N}{\\\\sqrt{2\\\\pi }}e^{-\\\\frac{(x-\\\\mu)^2}{2\\\\sigma^2 }}$ \\n'\n",
    "txt += '$N = {:.2f} \\\\pm {:.2f}$ \\n'.format(pf1[0], pferr1[0]) \n",
    "txt += '$\\\\mu = {:.2f} \\\\pm {:.2f}$ \\n'.format(pf1[1], pferr1[1]) \n",
    "txt += '$\\\\sigma = {:.2f} \\\\pm {:.2f}$ \\n'.format(pf1[2], pferr1[2]) \n",
    "ax.text(0.15, 0.8, txt, transform=ax.transAxes , fontsize=12, verticalalignment='top')\n",
    "ax.legend()\n",
    "\n",
    "#plt.savefig('Example4_Figure1.png',dpi=300)\n",
    "if using_colab:\n",
    "  files.download('Example4_Figure1.png')\n",
    "plt.show()"
   ]
  },
  {
   "cell_type": "markdown",
   "metadata": {
    "colab_type": "text",
    "id": "q1OPvpcSJT4t"
   },
   "source": [
    "# Task 3: Using Residual Plots\n",
    "---\n",
    "To get a better understanding of where our fit is going awry, let's do what we did back in the second notebook: plot the residuals!"
   ]
  },
  {
   "cell_type": "code",
   "execution_count": 20,
   "metadata": {
    "colab": {
     "base_uri": "https://localhost:8080/",
     "height": 585
    },
    "colab_type": "code",
    "executionInfo": {
     "elapsed": 12628,
     "status": "ok",
     "timestamp": 1600963870934,
     "user": {
      "displayName": "David McCowan",
      "photoUrl": "https://lh3.googleusercontent.com/a-/AOh14GgG5fQG-8qsRbPgJ9Spnkj4TsscnW-cxQlyY24rPA=s64",
      "userId": "06222162567611374030"
     },
     "user_tz": 300
    },
    "id": "gmybMD2tJUHq",
    "outputId": "810d894d-569c-449b-e4b8-9485aa4d7348"
   },
   "outputs": [
    {
     "data": {
      "image/png": "[encoded data removed]",
      "text/plain": [
       "<Figure size 1000x800 with 2 Axes>"
      ]
     },
     "metadata": {},
     "output_type": "display_data"
    }
   ],
   "source": [
    "fig = plt.figure(figsize = (10,8))\n",
    "ax =fig.add_subplot(2,1,1)\n",
    "ay =fig.add_subplot(2,1,2)\n",
    "\n",
    "ax.errorbar(channel2, N2, yerr = dN2, fmt = 'k.', label='Data in fit')\n",
    "channel_cont = np.linspace(min(channel2), max(channel2), 5000)\n",
    "ax.plot(channel_cont, gaussianfunc(pf1, channel_cont), 'r-', label='Fit')\n",
    "\n",
    "ay.plot(channel2, residual(pf1, gaussianfunc, channel2, N2, dN2), 'r.', label='Gaussian Fit Residuals')\n",
    "    # A plot of just the magnitudes of the errors\n",
    "ax.legend()\n",
    "ay.axhspan(1,-1,label=\"$\\\\pm 1 \\\\sigma$\",alpha=0.5)\n",
    "ay.legend()\n",
    "ax.set_title(\"Data\")\n",
    "ay.set_title(\"Errors\")\n",
    "fig.tight_layout()"
   ]
  },
  {
   "cell_type": "markdown",
   "metadata": {
    "colab_type": "text",
    "id": "dHKKEQYzKZVc"
   },
   "source": [
    "Remember that the residuals are the difference between the fit line and the data itself.\n",
    "\n",
    "If we had an excellent model for our data, then ~70% of our residuals would be between 1 and -1.  The fact that most residuals aren't in this range suggests that we're missing something systematic.\n",
    "\n",
    "To try and ammend this, we've got one last exercise for you.\n",
    "\n",
    "---\n",
    "# Task 3\n",
    "---\n",
    "\n",
    "Your final task is to define a new gaussian function that includes a linear background term $g(x) = \\frac{N}{\\sqrt{2\\pi }}e^{-\\frac{(x-\\mu)^2}{2\\sigma^2 }} + mx + b$, find the best fit equation, and plot it along with the fit parameters.\n",
    "- Remember that you've got two new fit parameters $m$ and $b$, so your guess will need two more values initially.\n",
    "- If your function is defined correctly, the reduced $\\chi^2$ value will probably be around 3 to 4, depending on what subset of the data you're looking at.\n",
    "  - The example here shows dara from `[325:425]`.\n",
    "\n",
    "Your final plot should look something like the following:\n",
    "![example final plot](https://physlab-wiki.com/_media/phylabs/lab_courses/phys-211-wiki-home/introductory-lab-python-tutorial/example4_figure2.png)\n"
   ]
  },
  {
   "cell_type": "code",
   "execution_count": 31,
   "metadata": {},
   "outputs": [
    {
     "name": "stdout",
     "output_type": "stream",
     "text": [
      "Gaussian Fit\n",
      "\n",
      "Converged with chi-squared 589.49\n",
      "Number of degrees of freedom, dof = 145.00\n",
      "Reduced chi-squared 4.07\n",
      "\n",
      "Parameter # | Initial guess values:    | Best fit values:         | Uncertainties in the best fit values:\n",
      "0           | 5.000e+04                | 8.978e+04                | 3.138e+02               \n",
      "1           | 3.750e+02                | 3.798e+02                | 4.626e-02               \n",
      "2           | 2.500e+01                | 1.285e+01                | 3.722e-02               \n",
      "3           | 5.000e+02                | -7.038e-01               | 1.420e-02               \n",
      "4           | 1.000e+00                | 3.205e+02                | 5.917e+00               \n"
     ]
    },
    {
     "data": {
      "image/png": "[encoded data removed]",
      "text/plain": [
       "<Figure size 1000x800 with 1 Axes>"
      ]
     },
     "metadata": {},
     "output_type": "display_data"
    }
   ],
   "source": [
    "def gaussian2(p,x):\n",
    "    return p[0]/(p[2]*np.sqrt(2*np.pi))*np.exp(-(x-p[1])**2/(2*p[2]**2)) + p[3] * x + p[4]\n",
    "\n",
    "print(\"Gaussian Fit\")\n",
    "p0 = [50000, 375, 25, 500, 1]\n",
    "pf2, pferr2, chisq2, dof2 = data_fit(p0, gaussian2, channel2, N2, dN2)\n",
    "\n",
    "fig,ax = plt.subplots(figsize = (10,8))\n",
    "\n",
    "ax.errorbar(channel2, N2, yerr=dN2,fmt= 'k.', label='Data in fit')\n",
    "ax.set_xlabel('channel')\n",
    "ax.set_ylabel('counts')\n",
    "ax.set_title('PHA Energy Spectrum of Cs-137 Decay')\n",
    "\n",
    "# We then plot the fit function. We could plot it at each point in \"channel2\"\n",
    "#  and connect those points with straight lines. However, we may want a smoother\n",
    "#  plot. To do so, we create a new array of points using \"linspace()\" that covers\n",
    "#  the same range, but more densely. When we connect these points, the line will\n",
    "#  be more smooth.\n",
    "channel_cont = np.linspace(min(channel2), max(channel2), 5000)\n",
    "ax.plot(channel_cont, gaussian2(pf2, channel_cont), 'r-', label='Fit')\n",
    "txt = '$f(x) = \\\\frac{N}{\\\\sqrt{2\\\\pi }}e^{-\\\\frac{(x-\\\\mu)^2}{2\\\\sigma^2 }} + mx + b$ \\n'\n",
    "txt += '$N = {:.2f} \\\\pm {:.2f}$ \\n'.format(pf2[0], pferr2[0]) \n",
    "txt += '$\\\\mu = {:.2f} \\\\pm {:.2f}$ \\n'.format(pf2[1], pferr2[1]) \n",
    "txt += '$\\\\sigma = {:.2f} \\\\pm {:.2f}$ \\n'.format(pf2[2], pferr2[2]) \n",
    "txt += '$m = {:.2f} \\\\pm {:.2f}$ \\n'.format(pf2[3], pferr2[3]) \n",
    "txt += '$b = {:.2f} \\\\pm {:.2f}$ \\n'.format(pf2[4], pferr2[4]) \n",
    "txt += '$\\\\chi^2= {:.1f}$ \\n'.format(chisq2) \n",
    "txt += '$N = {}$ (dof) \\n'.format(dof2) \n",
    "txt += '$\\\\chi^2/N = {:.2f}$'.format(chisq2/dof2) \n",
    "ax.text(0.1, 0.8, txt, transform=ax.transAxes , fontsize=12, verticalalignment='top')\n",
    "ax.legend()\n",
    "\n",
    "plt.savefig('task3.pdf')\n",
    "if using_colab:\n",
    "  files.download('Example4_Figure1.png')\n",
    "plt.show()"
   ]
  },
  {
   "cell_type": "markdown",
   "metadata": {},
   "source": [
    "----\n",
    "# Bonus - Smart indexing\n",
    "----\n",
    "\n",
    "While we can select our data range by looking at the index of an array, sometimes that just doesn't work so well.  If data isn't taken at regular intervals then that makes parsing it a pain.  In this section, we'll show another way of selecting data by using conditional statements.\n",
    "\n",
    "\n",
    "Let's start by filtering on count rate, selecting data where the count rate is over 1000.\n",
    "\n",
    "We can do this by using logical statements. For the count rate, we want the condition where `N > 1000`. \n"
   ]
  },
  {
   "cell_type": "code",
   "execution_count": null,
   "metadata": {},
   "outputs": [],
   "source": [
    "fig,ax = plt.subplots(figsize = (12,8))\n",
    "energy = channel /600 #This is not an accurate energy conversion, but it gets the point across\n",
    "ax.errorbar(energy, N, dN, fmt='k.',label='unfiltered')\n",
    "\n",
    "subset_1 = (N > 1000)\n",
    "ax.errorbar(energy[subset_1], N[subset_1], dN[subset_1], fmt='g.',label='count filtered')\n",
    "ax.legend()\n",
    "\n",
    "fig,ay = plt.subplots()\n",
    "ay.errorbar(energy[subset_1], N[subset_1], dN[subset_1], fmt='g.',label='count filtered',zorder = 20) #zorder determines which graph is on top of another."
   ]
  },
  {
   "cell_type": "markdown",
   "metadata": {},
   "source": [
    "Well, that sort of worked.  We got some of the low energy peak in there too, so this wouldn't work for fitting.\n",
    "\n",
    "Let's suppose our X axis for our data was already in units of MeV. For our Cs-137 peak, we might want to start by selecting an energy range of between 0.5 and .75 MeV. with a conditional statement like `.75 > energy > .5`"
   ]
  },
  {
   "cell_type": "code",
   "execution_count": null,
   "metadata": {},
   "outputs": [],
   "source": [
    "subset_2 = .75 > energy > .5"
   ]
  },
  {
   "cell_type": "markdown",
   "metadata": {},
   "source": [
    "Oops!  That does not work.  It turns out that this is intended behavior in Numpy, as it isn't clear if you're trying to ask if `all` of the elements in the array that meet that condition or if `any` of them do.  However, this is all moot because we don't want to know about the entire array, we want to know element by element.\n",
    "\n",
    "To that end, we can do two separate comparisons and then use a logical `&` operation to select out all the instances where both are true."
   ]
  },
  {
   "cell_type": "code",
   "execution_count": null,
   "metadata": {},
   "outputs": [],
   "source": [
    "fig,ax = plt.subplots(figsize = (12,8))\n",
    "\n",
    "ax.errorbar(energy, N, dN, fmt='k.',label='unfiltered')\n",
    "ax.set_xlabel('MeV')\n",
    "\n",
    "subset_1 = (N > 1000)\n",
    "ax.errorbar(energy[subset_1], N[subset_1], dN[subset_1], fmt='g.',label='count filtered',zorder = 20) #zorder determines which graph is on top of another.\n",
    "\n",
    "subset_2 = (energy > .5) & (energy < .75)\n",
    "ax.errorbar(energy[subset_2], N[subset_2], dN[subset_2], fmt='r.',label='energy filtered')\n",
    "ax.legend()\n",
    "\n",
    "fig,ay = plt.subplots()\n",
    "ay.errorbar(energy[subset_2], N[subset_2], dN[subset_2], fmt='r.',label='energy filtered')"
   ]
  },
  {
   "cell_type": "markdown",
   "metadata": {},
   "source": [
    "We could also use conditions on different parts of our data, as follows"
   ]
  },
  {
   "cell_type": "code",
   "execution_count": null,
   "metadata": {},
   "outputs": [],
   "source": [
    "fig,ax = plt.subplots(figsize = (12,8))\n",
    "\n",
    "ax.errorbar(energy, N, dN, fmt='k.',label='unfiltered')\n",
    "ax.set_xlabel('MeV')\n",
    "\n",
    "subset_3 = (N > 50) & (energy > .5)\n",
    "ax.errorbar(energy[subset_3], N[subset_3], dN[subset_3], fmt='b.',label='count and energy filtered',zorder = 20) #zorder determines which graph is on top of another.\n",
    "ax.legend()"
   ]
  },
  {
   "cell_type": "markdown",
   "metadata": {},
   "source": [
    "Now, what on earth are these `subset` things?  Let's take a look."
   ]
  },
  {
   "cell_type": "code",
   "execution_count": null,
   "metadata": {},
   "outputs": [],
   "source": [
    "print(subset_1)\n",
    "print(len(subset_1))\n",
    "print(type(subset_1[0]))  # type tells you what type of thing an object is"
   ]
  },
  {
   "cell_type": "markdown",
   "metadata": {},
   "source": [
    "The subset here is an array as long as the original one used, but it consists entirely of `bool`ean elements.  [Boolean](https://en.wikipedia.org/wiki/Boolean_data_type) items can be only either `True` or `False`.  So, what's happening when we're using these arrays of true/false values with our existing data?  Let's check back in with `subset_1`."
   ]
  },
  {
   "cell_type": "code",
   "execution_count": null,
   "metadata": {},
   "outputs": [],
   "source": [
    "print(\"N\")\n",
    "print(N[subset_1])\n",
    "print(\"Energy\")\n",
    "print(energy[subset_1])\n",
    "print(\"# elements\")\n",
    "print(len(N[subset_1]))"
   ]
  },
  {
   "cell_type": "markdown",
   "metadata": {},
   "source": [
    "As you can see, we've trimmed our lists down to just 50 elements each.  The `N`s, as expecter, are all over 1000.  The `energy` values remaining correspond to those Ns, in order.  \n",
    "\n",
    "You can get quite complex with your data filtering, with one caveat.  **All the arrays you're working with need to be the same length**.  You can't filter on both `channel_cont` and `N` at the same time.  You'll know you've goofed up if you get a `ValueError: operands could not be broadcast together with shapes ... `"
   ]
  },
  {
   "cell_type": "code",
   "execution_count": null,
   "metadata": {},
   "outputs": [],
   "source": [
    "(channel_cont > 400 ) & (N > 1000)"
   ]
  },
  {
   "cell_type": "markdown",
   "metadata": {
    "colab": {},
    "colab_type": "code",
    "executionInfo": {
     "elapsed": 12625,
     "status": "ok",
     "timestamp": 1600963870937,
     "user": {
      "displayName": "David McCowan",
      "photoUrl": "https://lh3.googleusercontent.com/a-/AOh14GgG5fQG-8qsRbPgJ9Spnkj4TsscnW-cxQlyY24rPA=s64",
      "userId": "06222162567611374030"
     },
     "user_tz": 300
    },
    "id": "E9rklErwMUi2"
   },
   "source": [
    "----\n",
    "# Functions Introduced in this exercise\n",
    "  * `if(condition)` : checks if a condition is true.  If so, runs the indented code following the statement.\n",
    "  * `else` : Follows an `if` statement, runs if the condition wasn't true.\n",
    "  * `enumerate()` : used as part of a loop, creates a variable that increments for each list element.  Useful if you need to identify specific parts of a list to correlate to other ones.\n",
    "  * `max()` : returns the largest (positive) number in a list.  \n",
    "\n",
    "  \n",
    "## Matplotlib functions\n",
    "\n",
    "  * `ax.hline(5)` : creates a horizontal line at y = 5\n",
    "  * `ax.axhspan(a,b)` : creates a shaded area between y = a and y = b.\n",
    "    * `ax.axhspan(a,b,alpha=0.5)` : creates a shaded area between y = a and y = b and sets it to 50% (0.5) transparency.\n",
    "  "
   ]
  },
  {
   "cell_type": "code",
   "execution_count": null,
   "metadata": {},
   "outputs": [],
   "source": []
  }
 ],
 "metadata": {
  "anaconda-cloud": {},
  "colab": {
   "collapsed_sections": [],
   "name": "Exercise4_PHA_Spectrum.ipynb",
   "provenance": []
  },
  "kernelspec": {
   "display_name": "Python 3 (ipykernel)",
   "language": "python",
   "name": "python3"
  },
  "language_info": {
   "codemirror_mode": {
    "name": "ipython",
    "version": 3
   },
   "file_extension": ".py",
   "mimetype": "text/x-python",
   "name": "python",
   "nbconvert_exporter": "python",
   "pygments_lexer": "ipython3",
   "version": "3.12.4"
  }
 },
 "nbformat": 4,
 "nbformat_minor": 4
}
