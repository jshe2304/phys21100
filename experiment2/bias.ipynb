{
 "cells": [
  {
   "cell_type": "code",
   "execution_count": 1,
   "id": "0c12a571-c747-4d2b-b808-a1f9ee9a5804",
   "metadata": {},
   "outputs": [],
   "source": [
    "import numpy as np\n",
    "import pandas as pd\n",
    "import matplotlib.pyplot as plt\n",
    "from scipy import optimize"
   ]
  },
  {
   "cell_type": "code",
   "execution_count": 2,
   "id": "278edad4-59ff-4add-b8ee-89c6b9cd2fc7",
   "metadata": {
    "jupyter": {
     "source_hidden": true
    }
   },
   "outputs": [],
   "source": [
    "def linear(p,x):\n",
    "    return p[0]*x + p[1]\n",
    "\n",
    "def residual(p,func, xvar, yvar, err):\n",
    "    return (func(p, xvar) - yvar)/err"
   ]
  },
  {
   "cell_type": "code",
   "execution_count": 3,
   "id": "3f7e5c8f-c26c-4ba5-993b-deb61e911b6e",
   "metadata": {
    "jupyter": {
     "source_hidden": true
    }
   },
   "outputs": [],
   "source": [
    "# The code below defines our data fitting function.\n",
    "# Inputs are:\n",
    "# initial guess for parameters p0\n",
    "# the function we're fitting to\n",
    "# the x,y, and dy variables\n",
    "# tmi can be set to 1 or 2 if more intermediate data is needed\n",
    "\n",
    "def data_fit(p0, func, xvar, yvar, err, tmi=0):\n",
    "    try:\n",
    "        fit = optimize.least_squares(residual, p0, args=(func,xvar, yvar, err), verbose=tmi)\n",
    "    except Exception as error:\n",
    "        print(\"Something has gone wrong:\", error)\n",
    "        return p0, np.zeros_like(p0), np.nan, np.nan\n",
    "    pf = fit['x']\n",
    "\n",
    "    print()\n",
    "\n",
    "    try:\n",
    "        cov = np.linalg.inv(fit['jac'].T.dot(fit['jac']))          \n",
    "        # This computes a covariance matrix by finding the inverse of the Jacobian times its transpose\n",
    "        # We need this to find the uncertainty in our fit parameters\n",
    "    except:\n",
    "        # If the fit failed, print the reason\n",
    "        print('Fit did not converge')\n",
    "        print('Result is likely a local minimum')\n",
    "        print('Try changing initial values')\n",
    "        print('Status code:', fit['status'])\n",
    "        print(fit['message'])\n",
    "        return pf, np.zeros_like(pf), np.nan, np.nan\n",
    "            #You'll be able to plot with this, but it will not be a good fit.\n",
    "\n",
    "    chisq = sum(residual(pf, func, xvar, yvar, err) **2)\n",
    "    dof = len(xvar) - len(pf)\n",
    "    red_chisq = chisq/dof\n",
    "    pferr = np.sqrt(np.diagonal(cov)) # finds the uncertainty in fit parameters by squaring diagonal elements of the covariance matrix\n",
    "    print('Converged with chi-squared {:.2f}'.format(chisq))\n",
    "    print('Number of degrees of freedom, dof = {:.2f}'.format(dof))\n",
    "    print('Reduced chi-squared {:.2f}'.format(red_chisq))\n",
    "    print()\n",
    "    Columns = [\"Parameter #\",\"Initial guess values:\", \"Best fit values:\", \"Uncertainties in the best fit values:\"]\n",
    "    print('{:<11}'.format(Columns[0]),'|','{:<24}'.format(Columns[1]),\"|\",'{:<24}'.format(Columns[2]),\"|\",'{:<24}'.format(Columns[3]))\n",
    "    for num in range(len(pf)):\n",
    "        print('{:<11}'.format(num),'|','{:<24.3e}'.format(p0[num]),'|','{:<24.3e}'.format(pf[num]),'|','{:<24.3e}'.format(pferr[num]))\n",
    "    return pf, pferr, chisq,dof"
   ]
  },
  {
   "cell_type": "markdown",
   "id": "2f333b9c-08e7-4a46-bf85-0985aa652d65",
   "metadata": {},
   "source": [
    "## Data"
   ]
  },
  {
   "cell_type": "code",
   "execution_count": 4,
   "id": "283df83e-4059-4626-b799-76a650be355e",
   "metadata": {},
   "outputs": [],
   "source": [
    "initial = pd.read_csv('./data/calibration_2i.csv')\n",
    "final = pd.read_csv('./data/calibration_2f.csv')"
   ]
  },
  {
   "cell_type": "code",
   "execution_count": 5,
   "id": "650cf18e-440d-45d2-a716-8552d82b3ea8",
   "metadata": {},
   "outputs": [],
   "source": [
    "channel_i = initial['centroid'] / (initial['fine_gain'] * initial['gain'])\n",
    "channel_f = final['centroid'] / (final['fine_gain'] * final['gain'])"
   ]
  },
  {
   "cell_type": "markdown",
   "id": "b2caa196-a1e3-488b-8ff2-75e23be707d4",
   "metadata": {},
   "source": [
    "# Fit"
   ]
  },
  {
   "cell_type": "code",
   "execution_count": 6,
   "id": "f8097c7f-6167-4cd2-9848-2f0d990a5bca",
   "metadata": {},
   "outputs": [
    {
     "name": "stdout",
     "output_type": "stream",
     "text": [
      "\n",
      "Converged with chi-squared 45313.30\n",
      "Number of degrees of freedom, dof = 8.00\n",
      "Reduced chi-squared 5664.16\n",
      "\n",
      "Parameter # | Initial guess values:    | Best fit values:         | Uncertainties in the best fit values:\n",
      "0           | 1.000e+00                | 1.538e+00                | 1.283e-03               \n",
      "1           | 0.000e+00                | -4.155e+00               | 4.235e-01               \n",
      "\n",
      "Converged with chi-squared 776.68\n",
      "Number of degrees of freedom, dof = 5.00\n",
      "Reduced chi-squared 155.34\n",
      "\n",
      "Parameter # | Initial guess values:    | Best fit values:         | Uncertainties in the best fit values:\n",
      "0           | 1.000e+00                | 1.496e+00                | 1.355e-03               \n",
      "1           | 0.000e+00                | -7.441e+00               | 5.419e-01               \n"
     ]
    }
   ],
   "source": [
    "model = linear\n",
    "\n",
    "params_i = [1, 0]\n",
    "\n",
    "params_f0, params_err0, chisq0, dof0 = data_fit(\n",
    "    params_i, \n",
    "    model, \n",
    "    channel_i, initial['energy'], initial['energy_err']\n",
    ")\n",
    "\n",
    "params_f1, params_err1, chisq1, dof1 = data_fit(\n",
    "    params_i, \n",
    "    model, \n",
    "    channel_f, final['energy'], final['energy_err']\n",
    ")"
   ]
  },
  {
   "cell_type": "markdown",
   "id": "1ffcf7cf-4ad8-405d-b03a-74e162facdd3",
   "metadata": {},
   "source": [
    "# Plot"
   ]
  },
  {
   "cell_type": "code",
   "execution_count": 9,
   "id": "f4dd3192-3822-47b5-8d4d-f51c806fd906",
   "metadata": {},
   "outputs": [
    {
     "data": {
      "image/png": "[encoded data removed]",
      "text/plain": [
       "<Figure size 500x500 with 1 Axes>"
      ]
     },
     "metadata": {},
     "output_type": "display_data"
    }
   ],
   "source": [
    "fig, ax = plt.subplots(figsize=(5, 5))\n",
    "\n",
    "ax.errorbar(\n",
    "    x=channel_i, \n",
    "    y=initial['energy'], yerr=initial['energy_err'], \n",
    "    fmt='b.', alpha=0.5, label='Data 0'       \n",
    ")\n",
    "linspace0 = np.linspace(channel_i.min(), channel_i.max(), 100)\n",
    "ax.plot(linspace0, model(params_f0, linspace0), color='b', linestyle='dashed', alpha=0.5, label='Fit 0')\n",
    "\n",
    "ax.errorbar(\n",
    "    x=channel_f, \n",
    "    y=final['energy'], yerr=final['energy_err'], \n",
    "    fmt='r.', alpha=0.5, label='Data 1'       \n",
    ")\n",
    "linspace1 = np.linspace(channel_f.min(), channel_f.max(), 100)\n",
    "ax.plot(linspace1, model(params_f1, linspace1), color='r', linestyle='dashed', alpha=0.5, label='Fit 1')\n",
    "\n",
    "\n",
    "ax.set_xlabel('Channel')\n",
    "ax.set_ylabel('Energy (KeV)')\n",
    "ax.set_title('Calibration of Channels with Peak Energies')\n",
    "ax.legend(loc='lower right')\n",
    "\n",
    "plt.tight_layout()"
   ]
  },
  {
   "cell_type": "code",
   "execution_count": null,
   "id": "6fcd8001-a94c-48a1-ab42-9b6d41e8829e",
   "metadata": {},
   "outputs": [],
   "source": []
  }
 ],
 "metadata": {
  "kernelspec": {
   "display_name": "Python 3 (ipykernel)",
   "language": "python",
   "name": "python3"
  },
  "language_info": {
   "codemirror_mode": {
    "name": "ipython",
    "version": 3
   },
   "file_extension": ".py",
   "mimetype": "text/x-python",
   "name": "python",
   "nbconvert_exporter": "python",
   "pygments_lexer": "ipython3",
   "version": "3.12.4"
  }
 },
 "nbformat": 4,
 "nbformat_minor": 5
}
