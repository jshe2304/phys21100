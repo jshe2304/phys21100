{
 "cells": [
  {
   "cell_type": "markdown",
   "metadata": {
    "colab_type": "text",
    "id": "mfnEA1KTp-f1"
   },
   "source": [
    "## PHYS 211/334 Python Example Scripts\n",
    "## Example 2 - Least Squares Error\n",
    "\n",
    "- **PROGRAM**: This script reads in data (x, y, yerr) from a file and fits the points to a straight line using the least-squares technique.\n",
    "- **INPUT**: Example2_Data2.tsv\n",
    "- **CREATED**: 09-11-2014\n",
    "- **AUTHOR**: David McCowan [modified from work by William Irvine (2012), Frank Merrit (2013) and Michael Fedderke (2013)]\n",
    "- **EDITED**: 08-12-2016, converted from python script to ipython notebook.\n",
    "- **EDITED**: 07-27-2017, minor tweaks, updated to Python3.\n",
    "- **EDITED**: 09-12-2018, fixed Jupyter formatting issues.\n",
    "- **REVISED**: 08-20-2020, updated to in-notebook exercises (Kevin Van De Bogart).\n",
    "- **REVISED**: 9-26-2022, added glossary and information about array slicing.  Altered fitting code to return nan for $\\chi^2$ when fit fails.\n",
    "- **REVISED**: 9-5-2024, minor changes, introduced one-line code to print the contents of a file for troubleshooting."
   ]
  },
  {
   "cell_type": "markdown",
   "metadata": {
    "colab_type": "text",
    "id": "fqK6-_FKm_nF"
   },
   "source": [
    "# Part 1: Loading data from files\n",
    "\n",
    "---\n",
    "\n",
    "Often, you'll have data that's already entered into a computer in some form.  Let's look at how we can use `numpy` to load pre-formatted data into Python quickly.\n"
   ]
  },
  {
   "cell_type": "code",
   "execution_count": null,
   "metadata": {
    "colab": {},
    "colab_type": "code",
    "executionInfo": {
     "elapsed": 421,
     "status": "ok",
     "timestamp": 1600960638335,
     "user": {
      "displayName": "David McCowan",
      "photoUrl": "https://lh3.googleusercontent.com/a-/AOh14GgG5fQG-8qsRbPgJ9Spnkj4TsscnW-cxQlyY24rPA=s64",
      "userId": "06222162567611374030"
     },
     "user_tz": 300
    },
    "id": "sIpP7m_Xp-f3"
   },
   "outputs": [],
   "source": [
    "import numpy as np\n",
    "import matplotlib.pyplot as plt\n",
    "from scipy import optimize\n",
    "data_filename = 'Example2_Data.tsv'\n",
    "    # This defines the name of our data file.\n",
    "\n",
    "using_colab = False\n",
    "    # Change to False if you are running Juptyer locally."
   ]
  },
  {
   "cell_type": "markdown",
   "metadata": {
    "colab_type": "text",
    "id": "JuGrnpcYrJdY"
   },
   "source": [
    "If you are working on your own computer, you need to make sure that the file you want to import is placed in the same directly as the notebook you are running.\n",
    "\n",
    "If you are working with Google Colab, we need an extra step to get files to a place that Python can interact with them. For that we use the `files` package within `google.colab`.  "
   ]
  },
  {
   "cell_type": "code",
   "execution_count": null,
   "metadata": {
    "colab": {
     "base_uri": "https://localhost:8080/",
     "height": 72,
     "resources": {
      "http://localhost:8080/nbextensions/google.colab/files.js": {
       "data": "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",
       "headers": [
        [
         "content-type",
         "application/javascript"
        ]
       ],
       "ok": true,
       "status": 200,
       "status_text": ""
      }
     }
    },
    "colab_type": "code",
    "executionInfo": {
     "elapsed": 8135,
     "status": "ok",
     "timestamp": 1600960652891,
     "user": {
      "displayName": "David McCowan",
      "photoUrl": "https://lh3.googleusercontent.com/a-/AOh14GgG5fQG-8qsRbPgJ9Spnkj4TsscnW-cxQlyY24rPA=s64",
      "userId": "06222162567611374030"
     },
     "user_tz": 300
    },
    "id": "lLF_hbbOraWA",
    "outputId": "9ca42062-1ccc-4525-c26b-e14aa1b8436c"
   },
   "outputs": [],
   "source": [
    "if using_colab:\n",
    "  from google.colab import files\n",
    "  uploaded = files.upload()\n",
    "  data_filename = next(iter(uploaded.keys()))\n",
    "  # This last line is a trick that will automatically pull the filename from what you uploaded."
   ]
  },
  {
   "cell_type": "markdown",
   "metadata": {},
   "source": [
    "Let's use Python to look at what's in our file.  We can do this quickly by comgining three commands:\n",
    "  - `open` tells Python to access the file\n",
    "  - `.read()` tells Python to read out all of the text in the file\n",
    "  - `print` dumps the contents on the screen"
   ]
  },
  {
   "cell_type": "code",
   "execution_count": null,
   "metadata": {},
   "outputs": [],
   "source": [
    "print(open(data_filename).read())"
   ]
  },
  {
   "cell_type": "markdown",
   "metadata": {
    "colab_type": "text",
    "id": "DPuafgqep-f9"
   },
   "source": [
    "Unfortunately, just reading the text from the file doesn't give us anything we can really work with, everything is considered text.\n",
    "\n",
    "To extract data, we'll use the numpy command `np.loadtxt()`.\n",
    "- The first argument (`data_filename`) is a string containing the file name.\n",
    "- The default is for `loadtxt()` to read in one row at a time and treat each as an individual numpy array (`unpack=False`). It will look for tabs or spaces to separate elements in the list.\n",
    "  - Our data, however, is arranged in columns, not rows. We therefore need to transpose the arrays by using `upack=True`. (Almost all the data we deal with in this course will be arranged this way.)\n",
    "- Sometimes there is information at the top of the file we want to ignore. We can use `skiprows = n` to skip `n` rows.\n",
    "- Sometimes there are columns of information in the file we don't want to use. We may use `usecols = [0,2,4]` for example, to pull out only the first, third and fifth columns. (Python always counts zero as the first element of a list.)\n",
    "  - Since we're using three columns, we assign them to three variables: `x`, `y`, and `dy`, respectively. "
   ]
  },
  {
   "cell_type": "code",
   "execution_count": null,
   "metadata": {
    "colab": {},
    "colab_type": "code",
    "id": "9MUIkWj_p-gA"
   },
   "outputs": [],
   "source": [
    "x, y, dy = np.loadtxt(data_filename, unpack=True, skiprows=1, usecols=[0,1,2])"
   ]
  },
  {
   "cell_type": "markdown",
   "metadata": {
    "colab_type": "text",
    "id": "mgIzWjsR_oD3"
   },
   "source": [
    "We can use a quick `print` command to verify that we've loaded the data we wanted to."
   ]
  },
  {
   "cell_type": "code",
   "execution_count": null,
   "metadata": {
    "colab": {
     "base_uri": "https://localhost:8080/",
     "height": 34
    },
    "colab_type": "code",
    "executionInfo": {
     "elapsed": 328,
     "status": "ok",
     "timestamp": 1600960254182,
     "user": {
      "displayName": "David McCowan",
      "photoUrl": "https://lh3.googleusercontent.com/a-/AOh14GgG5fQG-8qsRbPgJ9Spnkj4TsscnW-cxQlyY24rPA=s64",
      "userId": "06222162567611374030"
     },
     "user_tz": 300
    },
    "id": "W8-PE-T-_oRR",
    "outputId": "e730914b-0871-466c-fd3d-603ba00a90ee"
   },
   "outputs": [],
   "source": [
    "print(x)"
   ]
  },
  {
   "cell_type": "markdown",
   "metadata": {
    "colab_type": "text",
    "id": "6G8H8o4hp-gG"
   },
   "source": [
    "Let's make a basic  plot to verify we've got everything we expect here.  The default plot settings aren't great, but they'll do the trick for making sure nothing strange has happened."
   ]
  },
  {
   "cell_type": "code",
   "execution_count": null,
   "metadata": {
    "colab": {
     "base_uri": "https://localhost:8080/",
     "height": 500
    },
    "colab_type": "code",
    "executionInfo": {
     "elapsed": 549,
     "status": "ok",
     "timestamp": 1600960256106,
     "user": {
      "displayName": "David McCowan",
      "photoUrl": "https://lh3.googleusercontent.com/a-/AOh14GgG5fQG-8qsRbPgJ9Spnkj4TsscnW-cxQlyY24rPA=s64",
      "userId": "06222162567611374030"
     },
     "user_tz": 300
    },
    "id": "Zse6HcdLp-gI",
    "outputId": "fb40fb78-031e-4006-fd4a-f6eec118ad92"
   },
   "outputs": [],
   "source": [
    "%matplotlib inline\n",
    "fig, ax = plt.subplots(figsize = (10,8))\n",
    "ax.errorbar(x,y,dy)"
   ]
  },
  {
   "cell_type": "markdown",
   "metadata": {
    "colab_type": "text",
    "id": "U1aLa3h9p-gN"
   },
   "source": [
    "Let's say we *think* the data are linear. Let's define a linear function that we can plot alongside our data points.\n",
    "\n",
    "In this case we're going to define our fit function as `fitfunc(p, xvar)`.\n",
    "- We want our function to have the form of `f(x) = a + bx`.\n",
    "- For reasons we'll see later, it helps to put all the fit parameters into a single array. \n",
    "  - In our notation, the array is `p` with `p[0] = a`, and `p[1] = b`."
   ]
  },
  {
   "cell_type": "code",
   "execution_count": null,
   "metadata": {
    "colab": {},
    "colab_type": "code",
    "id": "aKnBeEvfp-gO"
   },
   "outputs": [],
   "source": [
    "def linear(p, xvar):\n",
    "    return p[0] + p[1]*xvar"
   ]
  },
  {
   "cell_type": "markdown",
   "metadata": {},
   "source": [
    "## Aside: Notes on manipulating numpy arrays\n",
    "----\n",
    "Numpy has some very powerful tools for selecting just parts of arrays we want to use.  If we put just a number in square brackets, then we get the nth number in the array back (note that Python starts counting at 0).  This can even work backwards, a negative number counts from the end of an array.  \n",
    "\n",
    "For some more information on manipulating arrays, see https://physlab-wiki.com/phylabs/lab_courses/supplemental-material/programming/numpy_cheatsheet/start#indexing"
   ]
  },
  {
   "cell_type": "code",
   "execution_count": null,
   "metadata": {},
   "outputs": [],
   "source": [
    "print(x)\n",
    "print(x[0])\n",
    "print(x[2])\n",
    "print(x[-2])"
   ]
  },
  {
   "cell_type": "markdown",
   "metadata": {
    "colab_type": "text",
    "id": "FWfIRE-nBIGp"
   },
   "source": [
    "----\n",
    "## Back to fitting! \n",
    "\n",
    "We can use this function right now to see if it is a decent fit for our data.  We'll do this by guessing some fit parameters and calculating the y values that would be associated with each datapoint.\n",
    "\n",
    "To start out, we're plotting the line $f(x) = 3x$.\n",
    "  - This is reflected in the guess parameters of 0 (no offset) and 3 (slope of 3).\n",
    "  - We use our function to generate y values associated with each datapoint with `linear(guess,x)`."
   ]
  },
  {
   "cell_type": "code",
   "execution_count": null,
   "metadata": {
    "colab": {
     "base_uri": "https://localhost:8080/",
     "height": 500
    },
    "colab_type": "code",
    "executionInfo": {
     "elapsed": 545,
     "status": "ok",
     "timestamp": 1600960264542,
     "user": {
      "displayName": "David McCowan",
      "photoUrl": "https://lh3.googleusercontent.com/a-/AOh14GgG5fQG-8qsRbPgJ9Spnkj4TsscnW-cxQlyY24rPA=s64",
      "userId": "06222162567611374030"
     },
     "user_tz": 300
    },
    "id": "N8YzhfrSBQR-",
    "outputId": "3fa9582f-e7dc-484c-b700-dfd1bfe1fe73"
   },
   "outputs": [],
   "source": [
    "fig, ax = plt.subplots(figsize = (10,8))\n",
    "ax.errorbar(x,y,dy,fmt='k.',capsize = 3)\n",
    "guess = [0,3]\n",
    "calculated_y = linear(guess,x)\n",
    "ax.plot(x,calculated_y)"
   ]
  },
  {
   "cell_type": "markdown",
   "metadata": {
    "colab_type": "text",
    "id": "B0NngUTUDURs"
   },
   "source": [
    "---\n",
    "# Task 1\n",
    "---\n",
    "Copy the code above and adjust the parameters to get a line that's a better fit to our data.  Don't worry about being formal about it, that's the next part of this tutorial.\n",
    " - Create a different variable for your parameters named `my_guess`.\n",
    " - Make sure that you're using this variable when you're calculating y values."
   ]
  },
  {
   "cell_type": "code",
   "execution_count": null,
   "metadata": {
    "colab": {},
    "colab_type": "code",
    "id": "02qErYlRDUbs"
   },
   "outputs": [],
   "source": []
  },
  {
   "cell_type": "markdown",
   "metadata": {
    "colab_type": "text",
    "id": "g-dpvkkzD67r"
   },
   "source": [
    "---\n",
    "# Part 2: Residuals\n",
    "\n",
    "As you might've noticed, this isn't a very objective way to determine if a line is a good fit for the underlying data.  To remedy this, we'll create a second function that calculates residuals.\n",
    "- The residual for a point `x` is the difference between the fit function evaluated at that point and the actual data `f(x) - y`.\n",
    "- We weight each residual by dividing by the corresponding uncertainty `dy`. \n",
    "  - Points with small error bars \"count more\" in the fit than points with large error bars.\n",
    "- The result $(f(x) - y) / dy$ is a general formula for finding residuals, we can use whatever function we want as an argument here.\n",
    "  - If you ever give this function a value of 0 for `dy`, you will get a divide-by-zero error and your residual will be infinite (`inf`).\n",
    "- This would need to be modified on a case-by-case basis to include residues due to uncertainties in the `x` direction.\n",
    "\n",
    "Let's define a weighted residual as `residual(p, func, xvar, yvar, err)`\n"
   ]
  },
  {
   "cell_type": "code",
   "execution_count": null,
   "metadata": {
    "colab": {},
    "colab_type": "code",
    "id": "ajrwrFMJBDuR"
   },
   "outputs": [],
   "source": [
    "def residual(p,func, xvar, yvar, err):\n",
    "    return (func(p, xvar) - yvar)/err\n",
    "    #Yes, this is a function of a function.  You can do that!"
   ]
  },
  {
   "cell_type": "markdown",
   "metadata": {
    "colab_type": "text",
    "id": "BDkuFI3dGVGF"
   },
   "source": [
    "We can test this function quickly be printing out the results.  Note that since we're using arrays of data for `x`,`y`, and `dy`, the result is an array of residuals calculated point-by-point.  \n",
    "If you get an error that starts with:\n",
    "\n",
    "`ValueError: operands could not be broadcast together with shapes ...`\n",
    "\n",
    "then you've got a problem with your arrays having different lengths."
   ]
  },
  {
   "cell_type": "code",
   "execution_count": null,
   "metadata": {
    "colab": {
     "base_uri": "https://localhost:8080/",
     "height": 51
    },
    "colab_type": "code",
    "executionInfo": {
     "elapsed": 577,
     "status": "ok",
     "timestamp": 1600960269716,
     "user": {
      "displayName": "David McCowan",
      "photoUrl": "https://lh3.googleusercontent.com/a-/AOh14GgG5fQG-8qsRbPgJ9Spnkj4TsscnW-cxQlyY24rPA=s64",
      "userId": "06222162567611374030"
     },
     "user_tz": 300
    },
    "id": "peT1aMtKGO0V",
    "outputId": "f2856b67-367a-412e-f563-d52e24c82a75"
   },
   "outputs": [],
   "source": [
    "print(residual(guess,linear,x,y,dy))"
   ]
  },
  {
   "cell_type": "markdown",
   "metadata": {
    "colab_type": "text",
    "id": "v5puNCTxO8I6"
   },
   "source": [
    "If we were to just sum up the residuals, residuals from points far above the line would cancel out with ones far below the line.  To avert this problem, we're going to square each of the residual values when we're trying to figure out if our fit is good or not.\n",
    "\n",
    "The sum of the squares of all of the residuals is the $\\chi^2$ (chi squared) statistic.  The larger $\\chi^2$ is, the bigger the average difference between our function and our data.\n"
   ]
  },
  {
   "cell_type": "code",
   "execution_count": null,
   "metadata": {
    "colab": {
     "base_uri": "https://localhost:8080/",
     "height": 34
    },
    "colab_type": "code",
    "executionInfo": {
     "elapsed": 284,
     "status": "ok",
     "timestamp": 1600960271498,
     "user": {
      "displayName": "David McCowan",
      "photoUrl": "https://lh3.googleusercontent.com/a-/AOh14GgG5fQG-8qsRbPgJ9Spnkj4TsscnW-cxQlyY24rPA=s64",
      "userId": "06222162567611374030"
     },
     "user_tz": 300
    },
    "id": "FD8TgyGoO8UV",
    "outputId": "43229978-34c7-4e46-ed7d-4c1b24aec1af"
   },
   "outputs": [],
   "source": [
    "chisq = sum(residual(guess,linear,x,y,dy)**2)\n",
    "print(chisq)"
   ]
  },
  {
   "cell_type": "markdown",
   "metadata": {
    "colab_type": "text",
    "id": "Nn-NIfsSp-ga"
   },
   "source": [
    "As a next step, let's plot our residuals along with our data, sort of like what we did in the first exercise.\n"
   ]
  },
  {
   "cell_type": "code",
   "execution_count": null,
   "metadata": {
    "colab": {
     "base_uri": "https://localhost:8080/",
     "height": 602
    },
    "colab_type": "code",
    "executionInfo": {
     "elapsed": 747,
     "status": "ok",
     "timestamp": 1600960273176,
     "user": {
      "displayName": "David McCowan",
      "photoUrl": "https://lh3.googleusercontent.com/a-/AOh14GgG5fQG-8qsRbPgJ9Spnkj4TsscnW-cxQlyY24rPA=s64",
      "userId": "06222162567611374030"
     },
     "user_tz": 300
    },
    "id": "OrEmMRKep-gb",
    "outputId": "4d25c697-8abb-4051-beca-9e5520fdc74a"
   },
   "outputs": [],
   "source": [
    "fig = plt.figure(figsize = (10,8))\n",
    "ax =fig.add_subplot(2,1,1)\n",
    "ay =fig.add_subplot(2,1,2)\n",
    "#fig,(ax,ay) = plt.subplots(nrows=2, ncols=1)\n",
    "#the above is an equivalent way of doing the same thing\n",
    "\n",
    "ax.errorbar(x,y,dy,fmt='k.',label='Data',capsize=3)\n",
    "    # A basic scatter plot of some data in red\n",
    "ax.plot(x,linear(guess,x),label='Fit')\n",
    "    # A plot of just the magnitudes of the errors\n",
    "    # Note that you don't have to calculate the y values ahead of time, you can just use linear when calling the plot function.\n",
    "ax.set_title(\"Data\")\n",
    "ax.legend()\n",
    "\n",
    "ay.plot(x,residual(guess,linear, x, y, dy),'r.',label='Residuals')\n",
    "ay.hlines(0,0,10)\n",
    "ay.set_title(\"Residuals\")\n",
    "ay.legend()\n",
    "fig.tight_layout()\n",
    "\n",
    "chisq = sum(residual(guess,linear,x,y,dy)**2)\n",
    "print(\"chisq value =\",chisq)"
   ]
  },
  {
   "cell_type": "markdown",
   "metadata": {
    "colab_type": "text",
    "id": "GDS3FJysp-gg"
   },
   "source": [
    "If our function was a good fit for the data, then the residual values would be clustered around zero.  Right now, we can see that they're almost all negative, indicating our function is undershooting our data."
   ]
  },
  {
   "cell_type": "markdown",
   "metadata": {
    "colab_type": "text",
    "id": "4Rc4JkGMJlLr"
   },
   "source": [
    "---\n",
    "# Task 2\n",
    "---\n",
    "In the cell below, modify the previous graph by including the function that uses the parameters you came up with (`my_guess`) back in part 1.\n",
    "- You can start by copying the code above and adding in another `ax.plot` function for your line.\n",
    "- You should also add an `ay.plot` function to show the residuals for your fit parameters.\n",
    "- Finally, you should calculate the $\\chi^2$ statistic for your parameters. "
   ]
  },
  {
   "cell_type": "markdown",
   "metadata": {
    "colab_type": "text",
    "id": "MFQb9Fq6p-gk"
   },
   "source": [
    "---\n",
    "# Part 3: Formatting text\n",
    "\n",
    "Now for some sidetracking: formatting text.  As you might've noticed, Python will gladly show you as many digits as it can when you want to print out values.  We really don't want to see all 14 digits when we print out $\\chi^2$ values.  In order to round values to be more readable, we will use the `format` command."
   ]
  },
  {
   "cell_type": "code",
   "execution_count": null,
   "metadata": {
    "colab": {
     "base_uri": "https://localhost:8080/",
     "height": 34
    },
    "colab_type": "code",
    "executionInfo": {
     "elapsed": 617,
     "status": "ok",
     "timestamp": 1600960276201,
     "user": {
      "displayName": "David McCowan",
      "photoUrl": "https://lh3.googleusercontent.com/a-/AOh14GgG5fQG-8qsRbPgJ9Spnkj4TsscnW-cxQlyY24rPA=s64",
      "userId": "06222162567611374030"
     },
     "user_tz": 300
    },
    "id": "rZErohXCp-gl",
    "outputId": "7b163c22-2bda-4ca1-c212-87a0aa0ea6f3"
   },
   "outputs": [],
   "source": [
    "animal = \"frogs\"\n",
    "dumb_animal = \"blobfish\"\n",
    "number = 90.01\n",
    "print(\"I think that {} are {:.0%} cooler than {}.\".format(animal,number,dumb_animal))"
   ]
  },
  {
   "cell_type": "markdown",
   "metadata": {
    "colab_type": "text",
    "id": "p2GO1R7jp-gp"
   },
   "source": [
    "In the instance above, we used a pair of curly brackets `{}` to indicate that we're going to put a variable in that location using the `.format` command.\n",
    "\n",
    "If we include a colon in the curly brackets, we can specify formatting information.\n",
    "\n",
    "The snippet `{:.0%}` tells Python that we want to display the number as a percentage (`%`) with no decimals (`.0`).\n",
    "\n",
    "Let's do the same sort of thing with our $\\chi^2$ value."
   ]
  },
  {
   "cell_type": "code",
   "execution_count": null,
   "metadata": {
    "colab": {
     "base_uri": "https://localhost:8080/",
     "height": 34
    },
    "colab_type": "code",
    "executionInfo": {
     "elapsed": 301,
     "status": "ok",
     "timestamp": 1600960277629,
     "user": {
      "displayName": "David McCowan",
      "photoUrl": "https://lh3.googleusercontent.com/a-/AOh14GgG5fQG-8qsRbPgJ9Spnkj4TsscnW-cxQlyY24rPA=s64",
      "userId": "06222162567611374030"
     },
     "user_tz": 300
    },
    "id": "yDkfJB37RBQQ",
    "outputId": "bd449907-25c4-4afd-f562-bc848a6b7190"
   },
   "outputs": [],
   "source": [
    "chisq = sum(residual(guess,linear,x,y,dy)**2)\n",
    "print(\"chisq value = {:0.2f}\".format(chisq))"
   ]
  },
  {
   "cell_type": "markdown",
   "metadata": {
    "colab_type": "text",
    "id": "tUCYjO75RBeI"
   },
   "source": [
    "For another relevant example let's format text to show a variable alongside its uncertainty, rounding the calculated values to make it readible."
   ]
  },
  {
   "cell_type": "code",
   "execution_count": null,
   "metadata": {
    "colab": {
     "base_uri": "https://localhost:8080/",
     "height": 55
    },
    "colab_type": "code",
    "executionInfo": {
     "elapsed": 343,
     "status": "ok",
     "timestamp": 1600960278797,
     "user": {
      "displayName": "David McCowan",
      "photoUrl": "https://lh3.googleusercontent.com/a-/AOh14GgG5fQG-8qsRbPgJ9Spnkj4TsscnW-cxQlyY24rPA=s64",
      "userId": "06222162567611374030"
     },
     "user_tz": 300
    },
    "id": "jXU6UsT9p-gq",
    "outputId": "111ab826-96e8-43cc-ca4b-99b7c8d1445e"
   },
   "outputs": [],
   "source": [
    "variable_1, dvariable_1 = 10, 0.412\n",
    "\n",
    "print('$a = {:.2f} \\\\pm {:.2f}$'.format(variable_1,dvariable_1))\n",
    "\n",
    "from IPython.display import display, Latex \n",
    "    #Python doesn't know how to render math with the print command, but we can make it do so with display(Latex())\n",
    "display(Latex('$a = {:.2f} \\\\pm {:.2f}$'.format(variable_1,dvariable_1)))"
   ]
  },
  {
   "cell_type": "markdown",
   "metadata": {
    "colab_type": "text",
    "id": "jJ1zdi0Kp-gu"
   },
   "source": [
    "We have to use a double slash `\\\\` here to indicate to Python that yes, we do really want a backslash there.  Otherwise Python tries to interpret `\\p` as an [escape sequence](https://docs.python.org/3/reference/lexical_analysis.html#escape-sequences) which will cause a warning.\n",
    "\n",
    "Here we used `{:.2f}` to indicate that we want two decimal places `.2` and that we want the number to be _converted_ to fixed-point format `f`.\n",
    "\n",
    "There are lots of possible formatting options. For way, way too much information, see the [format specification mini-language](https://docs.python.org/3.4/library/string.html#formatspec).\n",
    "\n",
    "The LaTeX option is not required, but we wanted to show how easy it is to add that functionality.\n",
    "\n",
    "We could get away without the last part for now, but look what happens if we try to run the code with an integer variable below:"
   ]
  },
  {
   "cell_type": "code",
   "execution_count": null,
   "metadata": {
    "colab": {
     "base_uri": "https://localhost:8080/",
     "height": 198
    },
    "colab_type": "code",
    "executionInfo": {
     "elapsed": 336,
     "status": "error",
     "timestamp": 1600960280207,
     "user": {
      "displayName": "David McCowan",
      "photoUrl": "https://lh3.googleusercontent.com/a-/AOh14GgG5fQG-8qsRbPgJ9Spnkj4TsscnW-cxQlyY24rPA=s64",
      "userId": "06222162567611374030"
     },
     "user_tz": 300
    },
    "id": "CRd-sVzJp-gu",
    "outputId": "5f32fe5d-93b8-4695-f275-d1536e444ab9"
   },
   "outputs": [],
   "source": [
    "a = 2.28\n",
    "aerr = 1\n",
    "\n",
    "display(Latex('$a = {:.2} \\\\pm {:.2}$ \\n'.format(a,aerr)))"
   ]
  },
  {
   "cell_type": "markdown",
   "metadata": {
    "colab_type": "text",
    "id": "6MsTaueHp-gy"
   },
   "source": [
    "---\n",
    "# Task 3\n",
    "--- \n",
    "Copy the cell above and fix it to make it display properly."
   ]
  },
  {
   "cell_type": "code",
   "execution_count": null,
   "metadata": {
    "colab": {},
    "colab_type": "code",
    "id": "-5xS-YEKODua"
   },
   "outputs": [],
   "source": []
  },
  {
   "cell_type": "markdown",
   "metadata": {
    "colab_type": "text",
    "id": "zas2IeYfp-gz"
   },
   "source": [
    "----\n",
    "# Part 4: Curve Fitting\n",
    "\n",
    "We now know how to plot data, and we can calcluate a $\\chi^2$ goodness of fit parameter that gives us an objective measure of how well a function fits a set of data.  We could just stop here and manually try parameter values until we get things \"good enough,\" but there's a better way!\n",
    "\n",
    "\n",
    "We're now going to use scipy function `optimize.least_squares()` to find the function that best fits our data by minimizing $\\chi^2$ automatically.\n",
    "\n",
    "This function takes a `residual` function, an initial `guess` for parameters, and all of the variables needed to calculate the residual as a set of arguments `args`.  \n",
    "It then systematically varies the parameters and calculates a $\\chi^2$ value from the new function until there are minimal improvements."
   ]
  },
  {
   "cell_type": "code",
   "execution_count": null,
   "metadata": {
    "colab": {
     "base_uri": "https://localhost:8080/",
     "height": 425
    },
    "colab_type": "code",
    "executionInfo": {
     "elapsed": 332,
     "status": "ok",
     "timestamp": 1600960284706,
     "user": {
      "displayName": "David McCowan",
      "photoUrl": "https://lh3.googleusercontent.com/a-/AOh14GgG5fQG-8qsRbPgJ9Spnkj4TsscnW-cxQlyY24rPA=s64",
      "userId": "06222162567611374030"
     },
     "user_tz": 300
    },
    "id": "pgHFek9iSVY9",
    "outputId": "05738369-a498-4162-bc49-2aefdf376193"
   },
   "outputs": [],
   "source": [
    "optimize.least_squares(residual, guess, args=(linear,x, y, dy))"
   ]
  },
  {
   "cell_type": "markdown",
   "metadata": {
    "colab_type": "text",
    "id": "0oTv59cMSbW1"
   },
   "source": [
    "Well, it certainly did something!  We could spend all quarter going into the details of what this function does and how it works, but that's not the point.  What we want to do is create something re-usable that extracts the important parts of this data in a way we can use to annotate plots.\n",
    "\n",
    "To make this as re-usable as possible, we're going to create our own function called `data_fit()`\n",
    "\n",
    "The inputs to this function will be the same as the `least_squares` function, and its outputs will be the specific variables we need.  For us, the four critical ones are:\n",
    "- an array of best fit parameters `fit['x']` (saved to `pf`);\n",
    "- the jacobian matrix at the solution `fit['jac']`;\n",
    "  - This is used to find a covariance matrix by taking the inverse of the jacobian dotted with its transpose.\n",
    "- a message giving more details of the convergence (or not) of the fit (saved as `message`); and\n",
    "- a number that describes the success (or not) of the fit (saved as `status`). \n",
    "  - (Values of 2 or 4 are successful fits. All others represent attempts that did not converge.)\n",
    "\n",
    "After the fit, we will calculate and display a number of useful values.\n",
    "- The chi-squared is calculated from the final fit parameters and our residual function.\n",
    "- The number of \"degrees of freedom,\" ($N$) which is the number of data points minus the the number of fit parameters.\n",
    "- The reduced chi-square value, which is just $\\chi^2 / N$.\n",
    "  - If our uncertanties are normally distributed and we've accounted for them properly, this should be around 1.\n",
    "- The uncertainties in the fit parameters as the square-root of the diagonal elements of the covariance matrix\n",
    "  - The variance (uncertainty squared) of fit parameter `i` is `cov[i,i]`.\n",
    "\n",
    "---\n",
    "**This is more complex than anything else you've worked with thus far, and you aren't expected to need to modify or understand in detail how it works. This code is a tool that you will use throughout the quarter in order to do physics.**"
   ]
  },
  {
   "cell_type": "code",
   "execution_count": null,
   "metadata": {
    "colab": {},
    "colab_type": "code",
    "id": "gNW8s-zzp-g0"
   },
   "outputs": [],
   "source": [
    "# The code below defines our data fitting function.\n",
    "# Inputs are:\n",
    "# initial guess for parameters p0\n",
    "# the function we're fitting to\n",
    "# the x,y, and dy variables\n",
    "# tmi can be set to 1 or 2 if more intermediate data is needed\n",
    "\n",
    "def data_fit(p0,func,xvar, yvar, err,tmi=0):\n",
    "    try:\n",
    "        fit = optimize.least_squares(residual, p0, args=(func,xvar, yvar, err),verbose=tmi)\n",
    "    except Exception as error:\n",
    "        print(\"Something has gone wrong:\",error)\n",
    "        return p0,np.zeros_like(p0),np.nan,np.nan\n",
    "    pf = fit['x']\n",
    "\n",
    "    print()\n",
    "\n",
    "    try:\n",
    "        cov = np.linalg.inv(fit['jac'].T.dot(fit['jac']))          \n",
    "        # This computes a covariance matrix by finding the inverse of the Jacobian times its transpose\n",
    "        # We need this to find the uncertainty in our fit parameters\n",
    "    except:\n",
    "        # If the fit failed, print the reason\n",
    "        print('Fit did not converge')\n",
    "        print('Result is likely a local minimum')\n",
    "        print('Try changing initial values')\n",
    "        print('Status code:', fit['status'])\n",
    "        print(fit['message'])\n",
    "        return pf,np.zeros_like(pf),np.nan,np.nan\n",
    "            #You'll be able to plot with this, but it will not be a good fit.\n",
    "\n",
    "    chisq = sum(residual(pf,func,xvar, yvar, err) **2)\n",
    "    dof = len(xvar) - len(pf)\n",
    "    red_chisq = chisq/dof\n",
    "    pferr = np.sqrt(np.diagonal(cov)) # finds the uncertainty in fit parameters by squaring diagonal elements of the covariance matrix\n",
    "    print('Converged with chi-squared {:.2f}'.format(chisq))\n",
    "    print('Number of degrees of freedom, dof = {:.2f}'.format(dof))\n",
    "    print('Reduced chi-squared {:.2f}'.format(red_chisq))\n",
    "    print()\n",
    "    Columns = [\"Parameter #\",\"Initial guess values:\", \"Best fit values:\", \"Uncertainties in the best fit values:\"]\n",
    "    print('{:<11}'.format(Columns[0]),'|','{:<24}'.format(Columns[1]),\"|\",'{:<24}'.format(Columns[2]),\"|\",'{:<24}'.format(Columns[3]))\n",
    "    for num in range(len(pf)):\n",
    "        print('{:<11}'.format(num),'|','{:<24.3e}'.format(p0[num]),'|','{:<24.3e}'.format(pf[num]),'|','{:<24.3e}'.format(pferr[num]))\n",
    "    return pf, pferr, chisq,dof"
   ]
  },
  {
   "cell_type": "markdown",
   "metadata": {
    "colab_type": "text",
    "id": "BOwNs8uDp-g4"
   },
   "source": [
    "Running the cell only defines how to do a fit.  To actually do something, you'll need to call the `data_fit()` function."
   ]
  },
  {
   "cell_type": "code",
   "execution_count": null,
   "metadata": {
    "colab": {
     "base_uri": "https://localhost:8080/",
     "height": 170
    },
    "colab_type": "code",
    "executionInfo": {
     "elapsed": 332,
     "status": "ok",
     "timestamp": 1600960290383,
     "user": {
      "displayName": "David McCowan",
      "photoUrl": "https://lh3.googleusercontent.com/a-/AOh14GgG5fQG-8qsRbPgJ9Spnkj4TsscnW-cxQlyY24rPA=s64",
      "userId": "06222162567611374030"
     },
     "user_tz": 300
    },
    "id": "3zK4rdeTp-g4",
    "outputId": "f2e72c66-fffa-4373-9805-978eae671b1f"
   },
   "outputs": [],
   "source": [
    "print(\"Linear Fit\")\n",
    "pf, pferr, chisq, dof = data_fit(guess,linear, x, y, dy)"
   ]
  },
  {
   "cell_type": "markdown",
   "metadata": {
    "colab_type": "text",
    "id": "Vat93YgvXYWr"
   },
   "source": [
    "---\n",
    "# Task 4\n",
    "---\n",
    "Use the `data_fit` function with your best fit parameters `my_guess`.  \n",
    "- Save the results as a different set of variables\n",
    "  - e.g. `my_pf`, `my_pferr`, etc.\n",
    "\n",
    "The results should (nearly) the same as the cell above.  This is good, we'd hope that we'd come up with the same optimal solution regardless of starting point."
   ]
  },
  {
   "cell_type": "markdown",
   "metadata": {
    "colab_type": "text",
    "id": "xmjtZO5Lp-g7"
   },
   "source": [
    "---\n",
    "\n",
    "# Part 5\n",
    "\n",
    "Now, let's plot the data and the fit at the same time to see how good the fit turned out. Note that we want our fit function to be shown as a \"continuous\" function so we much plot it over many very closely spaced points.\n",
    "- We use `X = np.linspace(...)` to produce an array of points stretching over the same range as the data variable `x`.\n",
    "\n",
    "In addition, we'll add some annotations to the plot. This text will print data about the fit directly onto the figure. We introduce a few new features here:\n",
    "- First, we want a lot of text, so we're going to write it one line at a time and then join it together, the `+=` function will append new text onto whatever we've already got.\n",
    "- We again use LaTex formatting here with the dollar signs (`$`) around anything we want to to appear in \"math\" format\n",
    "- The newline character (`\\n`) is equal to the return key; it means \"start a new line\".  This is a relic of the age of typewriters & paper terminals where it would physically move to a new line of the page.\n",
    "\n",
    "- We place the text on the plot with `text()`. In this function, we use the `transform = ax.transAxes` argument, so our first two numbers (0.05, 0.90) represent position *percents* in x and y. I.e., this will place the text at 5% over from origin and 90% up.\n",
    "\n",
    "Finally, we adjust the plot axes so that the data points don't overlap with the plot edges. Unlike `axis()` from Example 1 -- which required you to specify both the x and y limits -- we will use `set_xlim()` to just set the x-axis limits."
   ]
  },
  {
   "cell_type": "code",
   "execution_count": null,
   "metadata": {
    "colab": {
     "base_uri": "https://localhost:8080/",
     "height": 513
    },
    "colab_type": "code",
    "executionInfo": {
     "elapsed": 857,
     "status": "ok",
     "timestamp": 1600960293523,
     "user": {
      "displayName": "David McCowan",
      "photoUrl": "https://lh3.googleusercontent.com/a-/AOh14GgG5fQG-8qsRbPgJ9Spnkj4TsscnW-cxQlyY24rPA=s64",
      "userId": "06222162567611374030"
     },
     "user_tz": 300
    },
    "id": "G45sMddbp-g9",
    "outputId": "e8c13e49-13d4-4c45-dd15-42fd00ef9a9b"
   },
   "outputs": [],
   "source": [
    "fig = plt.figure(figsize = (10,8))\n",
    "ax = fig.add_subplot(1,1,1)\n",
    "ax.errorbar(x, y, dy, fmt='ko', label = 'Data')\n",
    "X = np.linspace(x.min(), x.max(), 500)\n",
    "ax.plot(X, linear(pf, X), 'r-', label = 'Linear Fit: $f(x)$')\n",
    "\n",
    "\n",
    "\n",
    "ax.set_title('Some Sample Data with Error Bars')\n",
    "ax.set_xlabel('x')\n",
    "ax.set_ylabel('y')\n",
    "\n",
    "# Here is the text we want to include...\n",
    "textfit = '$f(x) = A + Bx$ \\n' \n",
    "textfit += '$A = {:.2f} \\\\pm {:.2f}$ \\n'.format(pf[0],pferr[0]) \n",
    "textfit +='$B = {:.2f} \\\\pm {:.2f}$ \\n'.format(pf[1],pferr[1]) \n",
    "textfit += '$\\\\chi^2= {:.1f}$ \\n'.format(chisq) \n",
    "textfit += '$N = {}$ (dof) \\n'.format(dof) \n",
    "textfit += '$\\\\chi^2/N = {:.2f}$'.format(chisq/dof) \n",
    "\n",
    "#... and below is where we actually place it on the plot\n",
    "ax.text(0.05, 0.95, textfit, transform=ax.transAxes , fontsize=12,verticalalignment='top')\n",
    "\n",
    "ax.set_xlim([x.min()-0.5, x.max()+0.5])\n",
    "  # x.min() is equal to the smallest x value in the entire array, x.max() is equal to the largest\n",
    "  # Together this ensures that the axes always scale to be just slightly wider than the data.\n",
    "ax.legend(loc='lower right')\n",
    "plt.savefig('Example2_Figure1.png',dpi=300)\n",
    "plt.show()\n",
    "\n",
    "if using_colab:\n",
    "  files.download('Example2_Figure1.png') "
   ]
  },
  {
   "cell_type": "markdown",
   "metadata": {
    "colab_type": "text",
    "id": "EFIpDhmNp-hA"
   },
   "source": [
    "Hmm, it looks like this isn't a great fit.  Let's check our the residuals to see where things are going wrong."
   ]
  },
  {
   "cell_type": "code",
   "execution_count": null,
   "metadata": {
    "colab": {
     "base_uri": "https://localhost:8080/",
     "height": 585
    },
    "colab_type": "code",
    "executionInfo": {
     "elapsed": 975,
     "status": "ok",
     "timestamp": 1600960297272,
     "user": {
      "displayName": "David McCowan",
      "photoUrl": "https://lh3.googleusercontent.com/a-/AOh14GgG5fQG-8qsRbPgJ9Spnkj4TsscnW-cxQlyY24rPA=s64",
      "userId": "06222162567611374030"
     },
     "user_tz": 300
    },
    "id": "jdKl7-Jsp-hB",
    "outputId": "9fe9c47f-d8ea-425c-f00e-2a9354a7a6dc"
   },
   "outputs": [],
   "source": [
    "fig = plt.figure(figsize = (10,8))\n",
    "ax =fig.add_subplot(2,1,1)\n",
    "ay =fig.add_subplot(2,1,2)\n",
    "#fig,(ax,ay) = plt.subplots(nrows=2, ncols=1)\n",
    "#the above is an equivalent way of doing the same thing\n",
    "\n",
    "ax.errorbar(x, y, dy, fmt='k.', label = 'Data')\n",
    "    # A basic scatter plot of some data in red\n",
    "X = np.linspace(x.min(), x.max(), 500)\n",
    "ax.plot(X, linear(pf, X), 'r-', label = 'Linear Fit: $f(x)$')\n",
    "\n",
    "# Here is the text we want to include...\n",
    "textfit = '$f(x) = A + Bx$ \\n' \n",
    "textfit += '$A = {:.2f} \\\\pm {:.2f}$ \\n'.format(pf[0],pferr[0]) \n",
    "textfit +='$B = {:.2f} \\\\pm {:.2f}$ \\n'.format(pf[1],pferr[1]) \n",
    "textfit += '$\\\\chi^2= {:.1f}$ \\n'.format(chisq) \n",
    "textfit += '$N = {}$ (dof) \\n'.format(dof) \n",
    "textfit += '$\\\\chi^2/N = {:.2f}$'.format(chisq/dof) \n",
    "\n",
    "#... and below is where we actually place it on the plot\n",
    "ax.text(0.2, 0.95, textfit, transform=ax.transAxes , fontsize=12,verticalalignment='top')\n",
    "\n",
    "\n",
    "\n",
    "ay.plot(x,residual(pf,linear, x, y, dy),'r.',label='Linear Fit Residuals')\n",
    "    # A plot of just the magnitudes of the errors\n",
    "ax.legend()\n",
    "ay.legend()\n",
    "ay.axhline(0)\n",
    "ax.set_title(\"Data\")\n",
    "ay.set_title(\"Errors\")\n",
    "fig.tight_layout()"
   ]
  },
  {
   "cell_type": "markdown",
   "metadata": {
    "colab_type": "text",
    "id": "_xcGvJYHp-hE"
   },
   "source": [
    "It looks like our function is undershooting on both sides and overshooting in the middle.  That's a good sign that a quadratic term could help!\n",
    "\n",
    "---\n",
    "# Task 5\n",
    "--- \n",
    "\n",
    "Fit a quadratic function $g(x) = a + bx + cx^2$ to your data.\n",
    "- Start by defining a quadratic function(`quadratic`) in the same way your linear function was defined back in part 1.\n",
    "  - Notice that you'll use three parameters for this, so you'll have to have a different guess than the linear function.\n",
    "- Use the next cell to test your function.  If you don't get a parabola, check your function again.\n",
    "- Use the `data_fit` function to find the parameters that give the best fit of your new function to your data.\n",
    "- Plot your data, your optimal fit, and the residuals together as a stacked pair of plots.  Use the code just above this as a starting point."
   ]
  },
  {
   "cell_type": "code",
   "execution_count": null,
   "metadata": {},
   "outputs": [],
   "source": [
    "def quadratic:\n",
    "    "
   ]
  },
  {
   "cell_type": "code",
   "execution_count": null,
   "metadata": {
    "colab": {},
    "colab_type": "code",
    "id": "Posn2R34aRn3"
   },
   "outputs": [],
   "source": [
    "fig, ax = plt.subplots()\n",
    "test_x = np.linspace(-2,2,100)\n",
    "\n",
    "quad_guess = [0,0,1]\n",
    "\n",
    "ax.plot(test_x,quadratic(quad_guess,test_x))"
   ]
  },
  {
   "cell_type": "markdown",
   "metadata": {
    "colab": {},
    "colab_type": "code",
    "id": "1gu4VpPZbvEW"
   },
   "source": [
    "# Glossary of functions\n",
    "\n",
    "## Python functions\n",
    "  * `def newfunction(a, b)` : `def`ines a new function that takes two variables as input, named `a` and `b`.\n",
    "    * `return a**2 + b**2` : at the end of a function, returns values defined by the following variable or calculation.\n",
    "  * `sum(variable)` : calculates the sum of the values in a given variable.  `variable` needs to be a list or array.\n",
    "  * `\"You owe me {} dollars\".format(debt)` : replaces the text in curly brackets with the variable `debt`.  \n",
    "    * See the [python formatting examples](https://docs.python.org/3/library/string.html#format-examples) for more examples.\n",
    "    * `\"You owe me {:.2f} dollars\".format(debt)` : replaces the curly brackets with the value of debt, as a two decimal floating-point number.\n",
    "  * `try` : defines a block of code that you want to monitor for errors.  Nothing special happens if everything works.\n",
    "    * `except` : a partner to `try`, runs if there were any errors brought up in a `try` block of code.  In our case, we use it to force the fit function to give *something* back even if it fails, so that the whole notebook doesn't come to a grinding halt.\n",
    "  * `for item in values`: Creates a loop over every element in the list `values`.  This runs the code in the indented section once for every element in values, where the current element is referred to as `item`.\n",
    "    * If you're used C, you'd have a similar statement as `for (i=0;i<n;i++)`.  Python lets you skip over the fiddly bits like indexing arrays and get straight to work.\n",
    "  * `a += b` : adds the value of variable `b` to `a`.  If these are strings, it tacks `b` onto the end of `a`.\n",
    "  * `print(\"\\\\\")` : printe out a backslash `\\` character\n",
    "    * See the documentation on [escape sequences](https://docs.python.org/3/reference/lexical_analysis.html#escape-sequences) for further details.\n",
    "\n",
    "  \n",
    "## Numpy functions\n",
    "\n",
    "  * `np.loadtxt(\"filename\")` : loads values from a file named \"filename\".  Note that the file *must* be in the same directory as your python notebook.\n",
    "    * `np.loadtxt(\"filename\",delimiter=\",\")` : loads values from a file named \"filename\", using commas to separate values in rows.\n",
    "  * `.T` : returns the transpose of a numpy array.\n",
    "  * `.dot()` : returns the dot product of the array before the command and the array in paranthesis.\n",
    "  * `np.linalg.inv` : finds the inverse of an array.\n",
    "  * `np.diagonal` : returns the diagonal elements of a multidimensional array.\n",
    "  * `np.sqrt` : returns the square root of a value.  Works on individual numbers or elements of an array.\n",
    "  * `np.nan` : a value that Python recognizes as `n`ot `a` `n`umber.  You can save it as a value, but trying to do math with it will give another nan result.\n",
    "    * Why would we do this?  Because sometimes we want a program to keep going even if a calculation results in gibberish.  \n",
    "\n",
    "  \n",
    "## Matplotlib functions\n",
    "\n",
    "  * `ax.hline(5)` : creates a horizontal line at y = 5  .\n",
    "  \n",
    "## Scipy functions\n",
    "  * `from scipy import optimize` : loads the scipy library for optimization functions.\n",
    "    *  `optimize.least_squares(residual, p0, args=(func,xvar, yvar, err))` : Uses an algorithm for [least squares optimization](https://en.wikipedia.org/wiki/Least_squares) to minimize the `residual` function.  p0 is a list of parameters(constants) the function uses, and `args` is a list of variables used by the function.  In our case, the residual is the difference between the function we're fitting and the data we have, weighted by our uncertainty values."
   ]
  },
  {
   "cell_type": "code",
   "execution_count": null,
   "metadata": {},
   "outputs": [],
   "source": []
  }
 ],
 "metadata": {
  "anaconda-cloud": {},
  "colab": {
   "collapsed_sections": [],
   "name": "Exercise2_FittingData.ipynb",
   "provenance": []
  },
  "kernelspec": {
   "display_name": "Python 3 (ipykernel)",
   "language": "python",
   "name": "python3"
  },
  "language_info": {
   "codemirror_mode": {
    "name": "ipython",
    "version": 3
   },
   "file_extension": ".py",
   "mimetype": "text/x-python",
   "name": "python",
   "nbconvert_exporter": "python",
   "pygments_lexer": "ipython3",
   "version": "3.12.4"
  }
 },
 "nbformat": 4,
 "nbformat_minor": 4
}
