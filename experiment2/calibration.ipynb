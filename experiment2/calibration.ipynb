{
 "cells": [
  {
   "cell_type": "code",
   "execution_count": 55,
   "id": "a76fecb5-2da9-4766-b12e-289ef8ddcb0a",
   "metadata": {},
   "outputs": [],
   "source": [
    "import numpy as np\n",
    "import pandas as pd\n",
    "import matplotlib.pyplot as plt\n",
    "from scipy import optimize"
   ]
  },
  {
   "cell_type": "code",
   "execution_count": 56,
   "id": "c894d3e5-862b-44be-bb7b-3d1aa718275c",
   "metadata": {
    "jupyter": {
     "source_hidden": true
    }
   },
   "outputs": [],
   "source": [
    "def linear(p,x):\n",
    "    return p[0]*x + p[1]\n",
    "\n",
    "def residual(p,func, xvar, yvar, err):\n",
    "    return (func(p, xvar) - yvar)/err"
   ]
  },
  {
   "cell_type": "code",
   "execution_count": 57,
   "id": "bf728a09-daef-4ee7-baad-9500b35d393a",
   "metadata": {
    "jupyter": {
     "source_hidden": true
    }
   },
   "outputs": [],
   "source": [
    "# The code below defines our data fitting function.\n",
    "# Inputs are:\n",
    "# initial guess for parameters p0\n",
    "# the function we're fitting to\n",
    "# the x,y, and dy variables\n",
    "# tmi can be set to 1 or 2 if more intermediate data is needed\n",
    "\n",
    "def data_fit(p0, func, xvar, yvar, err, tmi=0):\n",
    "    try:\n",
    "        fit = optimize.least_squares(residual, p0, args=(func,xvar, yvar, err), verbose=tmi)\n",
    "    except Exception as error:\n",
    "        print(\"Something has gone wrong:\", error)\n",
    "        return p0, np.zeros_like(p0), np.nan, np.nan\n",
    "    pf = fit['x']\n",
    "\n",
    "    print()\n",
    "\n",
    "    try:\n",
    "        cov = np.linalg.inv(fit['jac'].T.dot(fit['jac']))          \n",
    "        # This computes a covariance matrix by finding the inverse of the Jacobian times its transpose\n",
    "        # We need this to find the uncertainty in our fit parameters\n",
    "    except:\n",
    "        # If the fit failed, print the reason\n",
    "        print('Fit did not converge')\n",
    "        print('Result is likely a local minimum')\n",
    "        print('Try changing initial values')\n",
    "        print('Status code:', fit['status'])\n",
    "        print(fit['message'])\n",
    "        return pf, np.zeros_like(pf), np.nan, np.nan\n",
    "            #You'll be able to plot with this, but it will not be a good fit.\n",
    "\n",
    "    chisq = sum(residual(pf, func, xvar, yvar, err) **2)\n",
    "    dof = len(xvar) - len(pf)\n",
    "    red_chisq = chisq/dof\n",
    "    pferr = np.sqrt(np.diagonal(cov)) # finds the uncertainty in fit parameters by squaring diagonal elements of the covariance matrix\n",
    "    print('Converged with chi-squared {:.2f}'.format(chisq))\n",
    "    print('Number of degrees of freedom, dof = {:.2f}'.format(dof))\n",
    "    print('Reduced chi-squared {:.2f}'.format(red_chisq))\n",
    "    print()\n",
    "    Columns = [\"Parameter #\",\"Initial guess values:\", \"Best fit values:\", \"Uncertainties in the best fit values:\"]\n",
    "    print('{:<11}'.format(Columns[0]),'|','{:<24}'.format(Columns[1]),\"|\",'{:<24}'.format(Columns[2]),\"|\",'{:<24}'.format(Columns[3]))\n",
    "    for num in range(len(pf)):\n",
    "        print('{:<11}'.format(num),'|','{:<24.3e}'.format(p0[num]),'|','{:<24.3e}'.format(pf[num]),'|','{:<24.3e}'.format(pferr[num]))\n",
    "    return pf, pferr, chisq,dof"
   ]
  },
  {
   "cell_type": "markdown",
   "id": "cc19a76d-4e85-4926-864a-fe5f5d44642f",
   "metadata": {},
   "source": [
    "## Data"
   ]
  },
  {
   "cell_type": "code",
   "execution_count": 58,
   "id": "42f2dffb-4d69-464f-a3f1-806eb347378a",
   "metadata": {},
   "outputs": [
    {
     "data": {
      "text/html": [
       "<div>\n",
       "<style scoped>\n",
       "    .dataframe tbody tr th:only-of-type {\n",
       "        vertical-align: middle;\n",
       "    }\n",
       "\n",
       "    .dataframe tbody tr th {\n",
       "        vertical-align: top;\n",
       "    }\n",
       "\n",
       "    .dataframe thead th {\n",
       "        text-align: right;\n",
       "    }\n",
       "</style>\n",
       "<table border=\"1\" class=\"dataframe\">\n",
       "  <thead>\n",
       "    <tr style=\"text-align: right;\">\n",
       "      <th></th>\n",
       "      <th>centroid</th>\n",
       "      <th>centroid_err</th>\n",
       "      <th>gain</th>\n",
       "      <th>fine_gain</th>\n",
       "      <th>energy</th>\n",
       "      <th>energy_err</th>\n",
       "    </tr>\n",
       "  </thead>\n",
       "  <tbody>\n",
       "    <tr>\n",
       "      <th>0</th>\n",
       "      <td>877.98</td>\n",
       "      <td>0.06</td>\n",
       "      <td>2</td>\n",
       "      <td>1</td>\n",
       "      <td>662.00</td>\n",
       "      <td>1</td>\n",
       "    </tr>\n",
       "    <tr>\n",
       "      <th>1</th>\n",
       "      <td>44.29</td>\n",
       "      <td>0.03</td>\n",
       "      <td>2</td>\n",
       "      <td>1</td>\n",
       "      <td>32.00</td>\n",
       "      <td>1</td>\n",
       "    </tr>\n",
       "    <tr>\n",
       "      <th>2</th>\n",
       "      <td>682.08</td>\n",
       "      <td>0.11</td>\n",
       "      <td>2</td>\n",
       "      <td>1</td>\n",
       "      <td>511.00</td>\n",
       "      <td>1</td>\n",
       "    </tr>\n",
       "    <tr>\n",
       "      <th>3</th>\n",
       "      <td>81.67</td>\n",
       "      <td>0.01</td>\n",
       "      <td>2</td>\n",
       "      <td>1</td>\n",
       "      <td>59.54</td>\n",
       "      <td>1</td>\n",
       "    </tr>\n",
       "    <tr>\n",
       "      <th>4</th>\n",
       "      <td>40.34</td>\n",
       "      <td>0.02</td>\n",
       "      <td>2</td>\n",
       "      <td>1</td>\n",
       "      <td>31.00</td>\n",
       "      <td>1</td>\n",
       "    </tr>\n",
       "    <tr>\n",
       "      <th>5</th>\n",
       "      <td>110.85</td>\n",
       "      <td>0.05</td>\n",
       "      <td>2</td>\n",
       "      <td>1</td>\n",
       "      <td>81.00</td>\n",
       "      <td>1</td>\n",
       "    </tr>\n",
       "    <tr>\n",
       "      <th>6</th>\n",
       "      <td>468.44</td>\n",
       "      <td>0.16</td>\n",
       "      <td>2</td>\n",
       "      <td>1</td>\n",
       "      <td>356.00</td>\n",
       "      <td>1</td>\n",
       "    </tr>\n",
       "    <tr>\n",
       "      <th>7</th>\n",
       "      <td>163.72</td>\n",
       "      <td>0.22</td>\n",
       "      <td>2</td>\n",
       "      <td>1</td>\n",
       "      <td>122.00</td>\n",
       "      <td>1</td>\n",
       "    </tr>\n",
       "  </tbody>\n",
       "</table>\n",
       "</div>"
      ],
      "text/plain": [
       "   centroid  centroid_err  gain  fine_gain  energy  energy_err\n",
       "0    877.98          0.06     2          1  662.00           1\n",
       "1     44.29          0.03     2          1   32.00           1\n",
       "2    682.08          0.11     2          1  511.00           1\n",
       "3     81.67          0.01     2          1   59.54           1\n",
       "4     40.34          0.02     2          1   31.00           1\n",
       "5    110.85          0.05     2          1   81.00           1\n",
       "6    468.44          0.16     2          1  356.00           1\n",
       "7    163.72          0.22     2          1  122.00           1"
      ]
     },
     "execution_count": 58,
     "metadata": {},
     "output_type": "execute_result"
    }
   ],
   "source": [
    "data = pd.read_csv('./data/calibration_3.csv')\n",
    "data"
   ]
  },
  {
   "cell_type": "code",
   "execution_count": 59,
   "id": "41fe2714-72a0-4698-a16b-f7e8a78a6244",
   "metadata": {},
   "outputs": [],
   "source": [
    "channel = data['centroid'] / (data['gain'] * data['fine_gain'])\n",
    "channel_err = data['centroid_err'] / (data['gain'] * data['fine_gain'])\n",
    "data['channel'] = channel\n",
    "data['channel_err'] = channel_err"
   ]
  },
  {
   "cell_type": "code",
   "execution_count": 60,
   "id": "8bde3049-68b0-43cf-8c56-14a3e6d26d5e",
   "metadata": {},
   "outputs": [
    {
     "data": {
      "text/plain": [
       "'\\\\begin{tabular}{rrrrrr}\\n\\\\toprule\\nenergy & centroid & centroid_err & gain & channel & channel_err \\\\\\\\\\n\\\\midrule\\n662.00 & 877.98 & 0.06 & 2 & 438.99 & 0.03 \\\\\\\\\\n32.00 & 44.29 & 0.03 & 2 & 22.14 & 0.01 \\\\\\\\\\n511.00 & 682.08 & 0.11 & 2 & 341.04 & 0.06 \\\\\\\\\\n59.54 & 81.67 & 0.01 & 2 & 40.84 & 0.01 \\\\\\\\\\n31.00 & 40.34 & 0.02 & 2 & 20.17 & 0.01 \\\\\\\\\\n81.00 & 110.85 & 0.05 & 2 & 55.42 & 0.03 \\\\\\\\\\n356.00 & 468.44 & 0.16 & 2 & 234.22 & 0.08 \\\\\\\\\\n122.00 & 163.72 & 0.22 & 2 & 81.86 & 0.11 \\\\\\\\\\n\\\\bottomrule\\n\\\\end{tabular}\\n'"
      ]
     },
     "execution_count": 60,
     "metadata": {},
     "output_type": "execute_result"
    }
   ],
   "source": [
    "data[['energy', 'centroid', 'centroid_err', 'gain', 'channel', 'channel_err']].to_latex(float_format=\"%.2f\", index=False)"
   ]
  },
  {
   "cell_type": "markdown",
   "id": "c4cb4d39-4132-4ccf-9267-f80e282cf547",
   "metadata": {},
   "source": [
    "## Fit"
   ]
  },
  {
   "cell_type": "code",
   "execution_count": 61,
   "id": "27509bbc-2433-462f-9e9a-970d9101d57a",
   "metadata": {},
   "outputs": [
    {
     "name": "stdout",
     "output_type": "stream",
     "text": [
      "\n",
      "Converged with chi-squared 26.53\n",
      "Number of degrees of freedom, dof = 6.00\n",
      "Reduced chi-squared 4.42\n",
      "\n",
      "Parameter # | Initial guess values:    | Best fit values:         | Uncertainties in the best fit values:\n",
      "0           | 1.000e+00                | 1.510e+00                | 2.321e-03               \n",
      "1           | 0.000e+00                | -1.176e+00               | 5.033e-01               \n",
      "[ 1.50965791 -1.17649778]\n",
      "[0.00232081 0.50328454]\n"
     ]
    }
   ],
   "source": [
    "model = linear\n",
    "\n",
    "params_i = [1, 0]\n",
    "params_f, params_err, chisq, dof = data_fit(\n",
    "    params_i, \n",
    "    model, \n",
    "    channel, data['energy'], data['energy_err']\n",
    ")\n",
    "print(params_f)\n",
    "print(params_err)"
   ]
  },
  {
   "cell_type": "markdown",
   "id": "504d9abe-b2c8-4610-b21e-9d51dd41c238",
   "metadata": {},
   "source": [
    "## Plot"
   ]
  },
  {
   "cell_type": "code",
   "execution_count": 62,
   "id": "3aefe40f-10bd-44e2-98f6-e986c1b09ef3",
   "metadata": {},
   "outputs": [
    {
     "data": {
      "image/png": "[encoded data removed]",
      "text/plain": [
       "<Figure size 500x500 with 1 Axes>"
      ]
     },
     "metadata": {},
     "output_type": "display_data"
    }
   ],
   "source": [
    "fig, ax = plt.subplots(figsize=(5, 5))\n",
    "\n",
    "ax.errorbar(\n",
    "    x=channel, \n",
    "    y=data['energy'], yerr=data['energy_err'], \n",
    "    fmt='k.', alpha=0.5, label='Data'       \n",
    ")\n",
    "\n",
    "linspace = np.linspace(channel.min(), channel.max(), 100)\n",
    "ax.plot(linspace, model(params_f, linspace), color='r', label='Fit')\n",
    "\n",
    "txt = '$Energy(Channel) = m \\\\cdot \\\\text{Channel}+b$ \\n'\n",
    "txt += '$m = {:.2f} \\\\pm {:.2f}$ \\n'.format(params_f[0], params_err[0])\n",
    "txt += '$b = {:.2f} \\\\pm {:.2f}$ \\n'.format(params_f[1], params_err[1])\n",
    "txt += '$\\\\chi^2 = {:.2f}$ \\n'.format(chisq)\n",
    "txt += 'DOF$ = {}$'.format(dof)\n",
    "ax.text(0.05, 0.95, txt, transform=ax.transAxes , fontsize=12, verticalalignment='top')\n",
    "\n",
    "ax.set_xlabel('Channel')\n",
    "ax.set_ylabel('Energy (KeV)')\n",
    "ax.set_title('Calibration of Channels with Peak Energies')\n",
    "ax.legend(loc='lower right')\n",
    "\n",
    "plt.tight_layout()"
   ]
  },
  {
   "cell_type": "code",
   "execution_count": 8,
   "id": "a3a4fe89-ee0f-41ab-bcfc-ca278a5a3623",
   "metadata": {},
   "outputs": [],
   "source": [
    "#fig.savefig('./figures/calibration_3.pdf')"
   ]
  },
  {
   "cell_type": "code",
   "execution_count": null,
   "id": "449a71be-8ffd-4c7e-be4d-c946845e01c5",
   "metadata": {},
   "outputs": [],
   "source": []
  }
 ],
 "metadata": {
  "kernelspec": {
   "display_name": "Python 3 (ipykernel)",
   "language": "python",
   "name": "python3"
  },
  "language_info": {
   "codemirror_mode": {
    "name": "ipython",
    "version": 3
   },
   "file_extension": ".py",
   "mimetype": "text/x-python",
   "name": "python",
   "nbconvert_exporter": "python",
   "pygments_lexer": "ipython3",
   "version": "3.12.4"
  }
 },
 "nbformat": 4,
 "nbformat_minor": 5
}
