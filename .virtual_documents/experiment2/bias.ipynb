import numpy as np
import pandas as pd
import matplotlib.pyplot as plt
from scipy import optimize


def linear(p,x):
    return p[0]*x + p[1]

def residual(p,func, xvar, yvar, err):
    return (func(p, xvar) - yvar)/err


# The code below defines our data fitting function.
# Inputs are:
# initial guess for parameters p0
# the function we're fitting to
# the x,y, and dy variables
# tmi can be set to 1 or 2 if more intermediate data is needed

def data_fit(p0, func, xvar, yvar, err, tmi=0):
    try:
        fit = optimize.least_squares(residual, p0, args=(func,xvar, yvar, err), verbose=tmi)
    except Exception as error:
        print("Something has gone wrong:", error)
        return p0, np.zeros_like(p0), np.nan, np.nan
    pf = fit['x']

    print()

    try:
        cov = np.linalg.inv(fit['jac'].T.dot(fit['jac']))          
        # This computes a covariance matrix by finding the inverse of the Jacobian times its transpose
        # We need this to find the uncertainty in our fit parameters
    except:
        # If the fit failed, print the reason
        print('Fit did not converge')
        print('Result is likely a local minimum')
        print('Try changing initial values')
        print('Status code:', fit['status'])
        print(fit['message'])
        return pf, np.zeros_like(pf), np.nan, np.nan
            #You'll be able to plot with this, but it will not be a good fit.

    chisq = sum(residual(pf, func, xvar, yvar, err) **2)
    dof = len(xvar) - len(pf)
    red_chisq = chisq/dof
    pferr = np.sqrt(np.diagonal(cov)) # finds the uncertainty in fit parameters by squaring diagonal elements of the covariance matrix
    print('Converged with chi-squared {:.2f}'.format(chisq))
    print('Number of degrees of freedom, dof = {:.2f}'.format(dof))
    print('Reduced chi-squared {:.2f}'.format(red_chisq))
    print()
    Columns = ["Parameter #","Initial guess values:", "Best fit values:", "Uncertainties in the best fit values:"]
    print('{:<11}'.format(Columns[0]),'|','{:<24}'.format(Columns[1]),"|",'{:<24}'.format(Columns[2]),"|",'{:<24}'.format(Columns[3]))
    for num in range(len(pf)):
        print('{:<11}'.format(num),'|','{:<24.3e}'.format(p0[num]),'|','{:<24.3e}'.format(pf[num]),'|','{:<24.3e}'.format(pferr[num]))
    return pf, pferr, chisq,dof








initial = pd.read_csv('./data/calibration_2i.csv')
final = pd.read_csv('./data/calibration_2f.csv')


channel_i = initial['centroid'] / (initial['fine_gain'] * initial['gain'])
channel_f = final['centroid'] / (final['fine_gain'] * final['gain'])





model = linear

params_i = [1, 0]

params_f0, params_err0, chisq0, dof0 = data_fit(
    params_i, 
    model, 
    channel_i, initial['energy'], initial['energy_err']
)

params_f1, params_err1, chisq1, dof1 = data_fit(
    params_i, 
    model, 
    channel_f, final['energy'], final['energy_err']
)





fig, ax = plt.subplots(figsize=(5, 5))

ax.errorbar(
    x=channel_i, 
    y=initial['energy'], yerr=initial['energy_err'], 
    fmt='b.', alpha=0.5, label='Data 0'       
)
linspace0 = np.linspace(channel_i.min(), channel_i.max(), 100)
ax.plot(linspace0, model(params_f0, linspace0), color='b', linestyle='dashed', alpha=0.5, label='Fit 0')

ax.errorbar(
    x=channel_f, 
    y=final['energy'], yerr=final['energy_err'], 
    fmt='r.', alpha=0.5, label='Data 1'       
)
linspace1 = np.linspace(channel_f.min(), channel_f.max(), 100)
ax.plot(linspace1, model(params_f1, linspace1), color='r', linestyle='dashed', alpha=0.5, label='Fit 1')

txt = '$Energy(Channel) = m_i \\cdot \\text{Channel}+b_i$ \n'
txt += '$m_0 = {:.2f} \\pm {:.2f}$ \n'.format(params_f0[0], params_err0[0])
txt += '$b_0 = {:.2f} \\pm {:.2f}$ \n'.format(params_f0[1], params_err0[1])
txt += '$m_1 = {:.2f} \\pm {:.2f}$ \n'.format(params_f1[0], params_err1[0])
txt += '$b_1 = {:.2f} \\pm {:.2f}$ \n'.format(params_f1[1], params_err1[1])
#txt += '$\\chi^2 = {:.2f}$ \n'.format(chisq0)
#txt += 'DOF$ = {}$'.format(dof0)
ax.text(0.05, 0.95, txt, transform=ax.transAxes , fontsize=12, verticalalignment='top')

ax.set_xlabel('Channel')
ax.set_ylabel('Energy (KeV)')
ax.set_title('Calibrating at Different Times')
ax.legend(loc='lower right')

plt.tight_layout()


#fig.savefig('./figures/gain-drift.pdf')



