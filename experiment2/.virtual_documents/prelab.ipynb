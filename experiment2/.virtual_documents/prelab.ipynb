


import numpy as np
import matplotlib.pyplot as plt


E = 662
mc2 = 511

E_prime = lambda theta : E / (1 + (E/mc2) * (1 - np.cos(theta)))


thetas = np.linspace(-np.pi, np.pi, 1000)
E_primes = E_prime(thetas)

fig, ax = plt.subplots(figsize=(5, 5))

ax.plot(thetas, E_primes, color='black', linewidth=1)
ax.set_xlabel('$\\theta$ (rad)')
ax.set_ylabel('$E^{\\prime}$ (KeV)')
ax.set_title('Compton Energy of Scattered Gammas')
ax.set_xticks(
    np.arange(-np.pi, np.pi + np.pi/2, np.pi/2), 
    ['$-\\pi$', '$-\\frac{\\pi}{2}$', '$0$', '$\\frac{\\pi}{2}$', '$\\pi$']
);


fig.savefig('./compton_energy.pdf')
