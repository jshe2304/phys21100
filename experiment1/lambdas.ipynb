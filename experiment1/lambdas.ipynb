{
 "cells": [
  {
   "cell_type": "markdown",
   "metadata": {
    "colab_type": "text",
    "editable": true,
    "id": "fQuCyoairTGI",
    "slideshow": {
     "slide_type": ""
    },
    "tags": []
   },
   "source": [
    "# Experiment 1"
   ]
  },
  {
   "cell_type": "code",
   "execution_count": 1,
   "metadata": {
    "colab": {},
    "colab_type": "code",
    "executionInfo": {
     "elapsed": 1116,
     "status": "ok",
     "timestamp": 1600963859252,
     "user": {
      "displayName": "David McCowan",
      "photoUrl": "https://lh3.googleusercontent.com/a-/AOh14GgG5fQG-8qsRbPgJ9Spnkj4TsscnW-cxQlyY24rPA=s64",
      "userId": "06222162567611374030"
     },
     "user_tz": 300
    },
    "id": "RyG-39zE2Ycx"
   },
   "outputs": [],
   "source": [
    "%matplotlib inline\n",
    "import numpy as np\n",
    "import matplotlib.pyplot as plt\n",
    "from scipy import optimize"
   ]
  },
  {
   "cell_type": "markdown",
   "metadata": {},
   "source": [
    "# Helper Functions"
   ]
  },
  {
   "cell_type": "code",
   "execution_count": 2,
   "metadata": {
    "colab": {},
    "colab_type": "code",
    "executionInfo": {
     "elapsed": 11459,
     "status": "ok",
     "timestamp": 1600963869710,
     "user": {
      "displayName": "David McCowan",
      "photoUrl": "https://lh3.googleusercontent.com/a-/AOh14GgG5fQG-8qsRbPgJ9Spnkj4TsscnW-cxQlyY24rPA=s64",
      "userId": "06222162567611374030"
     },
     "user_tz": 300
    },
    "id": "LhZH9LP22YdY",
    "jupyter": {
     "source_hidden": true
    }
   },
   "outputs": [],
   "source": [
    "def exponential(p, x):\n",
    "    return p[0] * np.exp(-p[1] * x)\n",
    "\n",
    "def residual(p,func, xvar, yvar, err):\n",
    "    return (func(p, xvar) - yvar)/err"
   ]
  },
  {
   "cell_type": "code",
   "execution_count": 3,
   "metadata": {
    "colab": {},
    "colab_type": "code",
    "executionInfo": {
     "elapsed": 11446,
     "status": "ok",
     "timestamp": 1600963869711,
     "user": {
      "displayName": "David McCowan",
      "photoUrl": "https://lh3.googleusercontent.com/a-/AOh14GgG5fQG-8qsRbPgJ9Spnkj4TsscnW-cxQlyY24rPA=s64",
      "userId": "06222162567611374030"
     },
     "user_tz": 300
    },
    "id": "gB3Z_pyM2Ydc",
    "jupyter": {
     "source_hidden": true
    }
   },
   "outputs": [],
   "source": [
    "# The code below defines our data fitting function.\n",
    "# Inputs are:\n",
    "# initial guess for parameters p0\n",
    "# the function we're fitting to\n",
    "# the x,y, and dy variables\n",
    "# tmi can be set to 1 or 2 if more intermediate data is needed\n",
    "\n",
    "def data_fit(p0, func, xvar, yvar, err, tmi=0):\n",
    "    try:\n",
    "        fit = optimize.least_squares(residual, p0, args=(func,xvar, yvar, err), verbose=tmi)\n",
    "    except Exception as error:\n",
    "        print(\"Something has gone wrong:\", error)\n",
    "        return p0, np.zeros_like(p0), np.nan, np.nan\n",
    "    pf = fit['x']\n",
    "\n",
    "    print()\n",
    "\n",
    "    try:\n",
    "        cov = np.linalg.inv(fit['jac'].T.dot(fit['jac']))          \n",
    "        # This computes a covariance matrix by finding the inverse of the Jacobian times its transpose\n",
    "        # We need this to find the uncertainty in our fit parameters\n",
    "    except:\n",
    "        # If the fit failed, print the reason\n",
    "        print('Fit did not converge')\n",
    "        print('Result is likely a local minimum')\n",
    "        print('Try changing initial values')\n",
    "        print('Status code:', fit['status'])\n",
    "        print(fit['message'])\n",
    "        return pf, np.zeros_like(pf), np.nan, np.nan\n",
    "            #You'll be able to plot with this, but it will not be a good fit.\n",
    "\n",
    "    chisq = sum(residual(pf, func, xvar, yvar, err) **2)\n",
    "    dof = len(xvar) - len(pf)\n",
    "    red_chisq = chisq/dof\n",
    "    pferr = np.sqrt(np.diagonal(cov)) # finds the uncertainty in fit parameters by squaring diagonal elements of the covariance matrix\n",
    "    print('Converged with chi-squared {:.2f}'.format(chisq))\n",
    "    print('Number of degrees of freedom, dof = {:.2f}'.format(dof))\n",
    "    print('Reduced chi-squared {:.2f}'.format(red_chisq))\n",
    "    print()\n",
    "    Columns = [\"Parameter #\",\"Initial guess values:\", \"Best fit values:\", \"Uncertainties in the best fit values:\"]\n",
    "    print('{:<11}'.format(Columns[0]),'|','{:<24}'.format(Columns[1]),\"|\",'{:<24}'.format(Columns[2]),\"|\",'{:<24}'.format(Columns[3]))\n",
    "    for num in range(len(pf)):\n",
    "        print('{:<11}'.format(num),'|','{:<24.3e}'.format(p0[num]),'|','{:<24.3e}'.format(pf[num]),'|','{:<24.3e}'.format(pferr[num]))\n",
    "    return pf, pferr, chisq,dof"
   ]
  },
  {
   "cell_type": "markdown",
   "metadata": {},
   "source": [
    "# Fitted Photon Rate Curves"
   ]
  },
  {
   "cell_type": "code",
   "execution_count": 4,
   "metadata": {
    "jupyter": {
     "source_hidden": true
    }
   },
   "outputs": [],
   "source": [
    "data = {\n",
    "    'cs137': {\n",
    "        31: {\n",
    "            'x': np.array([0.2, 0.1, 0.4, 0.8, 1.6, 6.5]) / 100, \n",
    "            't': np.array([123, 120, 125, 121, 128, 184]), \n",
    "            'net': np.array([678, 903, 583, 372, 129, 15]), \n",
    "            'gross': np.array([4032, 2839, 2078, 1498, 1137, 1063])\n",
    "        }, \n",
    "        662: {\n",
    "            'x': np.array([0.4, 0.8, 1.6, 0.2, 0.1, 3.2, 3.2, 0.2, 0.1]) / 100, \n",
    "            't': np.array([182, 148, 146, 130, 114, 125, 302, 180, 195]), \n",
    "            'net': np.array([12847, 9955, 8276, 9764, 8511, 5287, 12639, 13706, 14600]), \n",
    "            'gross': np.array([12847, 9955, 8276, 9764, 8511, 5287, 12639, 13706, 14600])\n",
    "        }\n",
    "    }, \n",
    "    'na22': {\n",
    "        511: {\n",
    "            'x': np.array([0.4, 0.8, 1.6, 0.1, 3.2, 0.2]) / 100, \n",
    "            't': np.array([123, 123, 121, 122, 123, 119]), \n",
    "            'net': np.array([42356, 37307, 31740, 43515, 22774, 41716]), \n",
    "            'gross': np.array([56957, 46081, 40516, 51989, 30838, 49816])\n",
    "        }, \n",
    "        1275: {\n",
    "            'x': np.array([0.4, 0.8, 1.6, 0.1, 3.2, 0.2]) / 100, \n",
    "            't': np.array([123, 123, 121, 122, 123, 119]), \n",
    "            'net': np.array([8016, 7519, 6516, 8128, 5200, 7708]), \n",
    "            'gross': np.array([8822, 8201, 7322, 9059, 6008, 8701])\n",
    "        }\n",
    "    }, \n",
    "    'ba133': {\n",
    "        32: {\n",
    "            'x': np.array([0.2, 0.4, 0.8, 1.6, 3.2, 0.1]) / 100, \n",
    "            't': np.array([122, 121, 122, 121, 122, 120]), \n",
    "            'net': np.array([31161, 19399, 8021, 2945, 1126, 39364]), \n",
    "            'gross': np.array([36810, 23824, 11053, 4378, 2240, 45749]), \n",
    "        }, \n",
    "        81: {\n",
    "            'x': np.array([0.2, 0.4, 0.8, 1.6, 3.2, 0.1]) / 100, \n",
    "            't': np.array([122, 121, 122, 121, 122, 120]), \n",
    "            'net': np.array([22249, 19676, 16945, 12206, 4498, 22441]), \n",
    "            'gross': np.array([33914, 31147, 27116, 20657, 10709, 34632]), \n",
    "        }, \n",
    "        356: {\n",
    "            'x': np.array([0.2, 0.4, 0.8, 1.6, 3.2, 0.1]) / 100, \n",
    "            't': np.array([122, 121, 122, 121, 122, 120]), \n",
    "            'net': np.array([13494, 10389, 10284, 8139, 5419, 11637]), \n",
    "            'gross': np.array([27093, 23821, 22254, 18433, 12560, 24729]), \n",
    "        }\n",
    "    }\n",
    "}"
   ]
  },
  {
   "cell_type": "code",
   "execution_count": 5,
   "metadata": {},
   "outputs": [],
   "source": [
    "x, t, net, gross = data['cs137'][31].values()\n",
    "\n",
    "title = 'Cesium-137 31 KeV Photon Rate\\nThrough Aluminum Absorbers'"
   ]
  },
  {
   "cell_type": "code",
   "execution_count": 6,
   "metadata": {
    "jupyter": {
     "source_hidden": true
    }
   },
   "outputs": [],
   "source": [
    "dx = np.array([0.1] * len(x)) / 100 # Meters\n",
    "dt = np.array([1] * len(t)) # Seconds\n",
    "b = gross - net\n",
    "dnet = np.sqrt(gross + b)\n",
    "R = net/t\n",
    "dR = (dnet/net + dt/t) * R"
   ]
  },
  {
   "cell_type": "code",
   "execution_count": 7,
   "metadata": {
    "jupyter": {
     "source_hidden": true
    }
   },
   "outputs": [
    {
     "name": "stdout",
     "output_type": "stream",
     "text": [
      "\n",
      "Converged with chi-squared 1.78\n",
      "Number of degrees of freedom, dof = 4.00\n",
      "Reduced chi-squared 0.45\n",
      "\n",
      "Parameter # | Initial guess values:    | Best fit values:         | Uncertainties in the best fit values:\n",
      "0           | 3.000e+02                | 8.024e+00                | 6.507e-01               \n",
      "1           | 1.000e+02                | 1.279e+02                | 1.829e+01               \n"
     ]
    },
    {
     "data": {
      "text/plain": [
       "Text(0.5, 1.0, 'Cesium-137 31 KeV Photon Rate\\nThrough Aluminum Absorbers')"
      ]
     },
     "execution_count": 7,
     "metadata": {},
     "output_type": "execute_result"
    },
    {
     "data": {
      "image/png": "[encoded data removed]",
      "text/plain": [
       "<Figure size 500x500 with 1 Axes>"
      ]
     },
     "metadata": {},
     "output_type": "display_data"
    }
   ],
   "source": [
    "fig, ax = plt.subplots(figsize=(5, 5))\n",
    "\n",
    "params_i = [300, 100]\n",
    "params_f, params_err, chisq, dof = data_fit(params_i, exponential, x, R, dR)\n",
    "\n",
    "ax.errorbar(x, R, dR, fmt='k.', alpha=0.5, label='Data')\n",
    "linspace = np.linspace(x.min(), x.max(), 100)\n",
    "ax.plot(linspace, exponential(params_f, linspace), color='r', label='Fit')\n",
    "\n",
    "txt = '$R(x) = R_0 e^{-\\\\lambda x}$ \\n'\n",
    "txt += '$R_0 = {:.2f} \\\\pm {:.2f}$ \\n'.format(params_f[0], params_err[0])\n",
    "txt += '$\\\\lambda = {:.2f} \\\\pm {:.2f}$ \\n'.format(params_f[1], params_err[1])\n",
    "txt += '$\\\\chi^2 = {:.2f}$ \\n'.format(chisq)\n",
    "txt += 'DOF$ = {}$'.format(dof)\n",
    "ax.text(0.6, 0.95, txt, transform=ax.transAxes , fontsize=10, verticalalignment='top')\n",
    "\n",
    "ax.set_xlabel('Absorber Thickness (m)')\n",
    "ax.set_ylabel('Rate (counts/s)')\n",
    "ax.set_title(title)"
   ]
  },
  {
   "cell_type": "code",
   "execution_count": 8,
   "metadata": {},
   "outputs": [],
   "source": [
    "#fig.savefig('test.pdf')"
   ]
  }
 ],
 "metadata": {
  "anaconda-cloud": {},
  "colab": {
   "collapsed_sections": [],
   "name": "Exercise4_PHA_Spectrum.ipynb",
   "provenance": []
  },
  "kernelspec": {
   "display_name": "Python 3 (ipykernel)",
   "language": "python",
   "name": "python3"
  },
  "language_info": {
   "codemirror_mode": {
    "name": "ipython",
    "version": 3
   },
   "file_extension": ".py",
   "mimetype": "text/x-python",
   "name": "python",
   "nbconvert_exporter": "python",
   "pygments_lexer": "ipython3",
   "version": "3.12.4"
  }
 },
 "nbformat": 4,
 "nbformat_minor": 4
}
