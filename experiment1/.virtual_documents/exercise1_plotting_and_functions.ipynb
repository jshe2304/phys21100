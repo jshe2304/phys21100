





print("Hello world")





import numpy as np
import matplotlib.pylab as plt





using_colab = False








t = np.linspace(0.0, 6*np.pi, 100)
f = np.sin(t)
# Note that 'f' is an array with the same length as 't' (100 points)
# - The first element of `f` is the value of `sin(t)` at t = 0.0, etc.





print(t)





print("The values in t are the following: \n", t)
print("The length of t is", len(t),"numbers") # len() is a function that returns the length of an array
print("The values of f are the following: \n", f)








name = "Jay Shen"
print(f"Name: {name}")
print(f"Number of Characters: {len(name)}")





%matplotlib inline
fig, ax = plt.subplots(figsize = (10,8))
# this sets up a basic figure
ax.plot(t, f)





ax.plot??





fig, ax = plt.subplots(figsize = (10,8))
# you need to create a new figure if you don't want it to display in an old cell
g = f**2

ax.plot(t, f, 'b-', label='$f(x) = sin(t)$')
ax.plot(t, g, 'r^', label='$g(x) = \\sin(t)^2$')
ax.legend()





x = np.linspace(0, 3, 101)
ff = lambda xx: 2 * np.exp(-2 * xx)

fig, ax = plt.subplots(figsize = (10,8))

ax.plot(x, ff(x), 'b-', label='$f(x) = 2e^{-2x}$')

plt.savefig('task2.pdf')





fig, ax = plt.subplots(figsize = (10,8))
# you need to create a new figure if you don't want it to display in an old cell
g = f**2

ax.plot(t, f, 'b-', label='$f(x) = \\sin(t)$')
ax.plot(t, g, 'r^', label='$g(x) = \\sin(t)^2$')

ax.axis([0, 3*np.pi, -2, 2])
#ax.set_xlim([0,3*np.pi])
#ax.set_ylim([-2,2])
    # The above two lines do the same thing, just one axis at a time.

ax.set_xlabel('Time (seconds)')
ax.set_ylabel('Relative amplitude (meters)', fontsize=10, fontweight='bold')
title_font = {'weight':'normal', 'size':16, 'color':'red'}  #You can create lists of attributes as variables instead!
ax.set_title('Example 1: Figure 1', title_font)

ax.legend()
plt.savefig('Example1_Figure1.png',dpi=300)
#plt.show()
    # If you aren't using Jupyter you may need this to display your figures.
    
if using_colab:
  from google.colab import files
  files.download('Example1_Figure1.png') 





x = np.linspace(0, 3, 101)
ff = lambda xx: 2 * np.exp(-2 * xx)

fig, ax = plt.subplots(figsize = (10,8))

ax.plot(x, ff(x), 'b-', label='$f(x) = 2e^{-2x}$')

ax.set_title('Task 3: The exponential function $f(x) = 2e^{-2x}$')
ax.set_xlabel('x')
ax.set_ylabel('f(x)')
ax.legend()

plt.savefig('task3.pdf')





ferr = np.abs(np.random.normal(0,.2,len(f)))
fig,ax = plt.subplots()
ax.plot(ferr)





fig, ax = plt.subplots(figsize = (10,8))
ax.errorbar(t,f,yerr=ferr, fmt = 'b.',label='$f(x) = sin(t)$',capsize=3)

ax.axis([0, 3*np.pi, -2, 2])
#ax.set_xlim([0,3*np.pi])
#ax.set_ylim([-2,2])
    # The above two lines do the same thing, just one axis at a time.

ax.set_xlabel('Time (seconds)')
ax.set_ylabel('Relative amplitude (meters)', fontsize=10, fontweight='bold')
ax.set_title('Example 1: Figure 2', title_font) # we can use the same font we defined earlier here

ax.legend()





fig, ax = plt.subplots(figsize = (10,8))
ax.errorbar(t,g,yerr=ferr, fmt = 'b.', label='$g(x) = sin^2(t)$')

ax.axis([0, 3*np.pi, -2, 2])

ax.set_xlabel('x')
ax.set_ylabel('g(x)')
ax.set_title('Task 4: Noisy sinusoid $g(x) = sin^2(t)$')
ax.legend()

plt.savefig('task4.pdf')





fig = plt.figure(figsize = (10,8))
ax =fig.add_subplot(2,1,1)
ay =fig.add_subplot(2,1,2)
#fig,(ax,ay) = plt.subplots(nrows=2, ncols=1)
#the above is an equivalent way of doing the same thing

ax.errorbar(t,f,yerr=ferr, fmt = 'r.',capsize = 2,label='$f(x) = \\sin(t)$')
    # A basic scatter plot of some data in red
ax.legend()
ax.set_title("Data")

ay.plot(t,ferr,'bo',label='Oops all errors')
    # A plot of just the magnitudes of the errors
ay.legend()
ay.set_title("Errors")

plt.tight_layout(pad = 4)
fig.suptitle("Super Title")
fig.legend(loc='upper left')









fig, (ax0, ax1) = plt.subplots(2, 1, figsize = (10,8))

x = np.linspace(0, 3, 101)
ff = lambda xx: 2 * np.exp(-2 * xx)

ax0.plot(x, ff(x), 'b-', label='Exponential')
ax0.set_xlabel('x')
ax0.set_ylabel('$f(x) = 2e^{-2x}$')
ax0.legend()

tt = np.linspace(-3, 3, 201)
gg = lambda t : 1/(2 * np.pi) * np.exp(-((t-1) ** 2)/2)

ax1.plot(tt, gg(tt), 'g-', label='Gaussian')
ax1.set_xlabel('t')
ax1.set_ylabel('$g(t) = \\frac{1}{2\\pi}  \\exp[{-\\frac{1}{2} (t-1)^2}]$')
ax1.set_ylim([None, 0.2])
ax1.legend(loc='upper left')

plt.tight_layout(pad = 4)
fig.suptitle("Jay's examples of probability distributions")
plt.savefig('task5.pdf')





fig = plt.figure(figsize = (10,8))
ax = fig.add_subplot(111)

#ax.errorbar(x, y, xerr = 0.5, yerr = dy, fmt = 'r.')
ax.errorbar(t,f,yerr=ferr, fmt = 'r.',capsize = 2,label='$f(x) = sin(t)$')

# To label, we again act on the appropriate object.
#  -We can add a supertitle to the figure as a whole
#  -We can add a normal title to the axis
fig.suptitle('Bold Figure Supertitle', fontsize=14, fontweight='bold')
ax.set_title('axes title')
ax.set_xlabel('xlabel')
ax.set_ylabel('ylabel')

# Let's also add some text to the axes. These should be pretty self-explanatory
ax.text(3, -1, 'an equation: $E=mc^2$', fontsize=15)
ax.text(10,1.6, 'boxed italics text in data coords', style='italic', bbox={'facecolor':'red', 'alpha':0.5, 'pad':10})
ax.text(0.95, 0.01, 'colored text in axes coords', verticalalignment='bottom', horizontalalignment='right', transform=ax.transAxes,color='green', fontsize=15)
ax.annotate('annotate', xy=(2, 1), xytext=(3, 1.2), arrowprops=dict(arrowstyle='-|>'))

#Finally, let's set the axis limits and show the plot
ax.axis([0, 10, 0, 10])
#plt.savefig('Example1_Figure2.png')

#if using_colab:
#    files.download('Example1_Figure2.png') 






