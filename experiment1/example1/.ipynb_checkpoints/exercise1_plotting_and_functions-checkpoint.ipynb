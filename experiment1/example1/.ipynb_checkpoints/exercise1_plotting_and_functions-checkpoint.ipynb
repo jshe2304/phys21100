{
 "cells": [
  {
   "cell_type": "markdown",
   "metadata": {
    "colab_type": "text",
    "id": "pjtJ5dHPn7WL"
   },
   "source": [
    "# PHYS 211/334 Python Example Scripts\n",
    "## Example 1 - Plotting a Function\n",
    "\n",
    "- **PROGRAM**: An introduction to plotting functions\n",
    "- **CREATED**: 09-10-2014\n",
    "- **AUTHOR**: David McCowan [modified from work by William Irvine (2012) and Frank Merrit (2013)]\n",
    "- **EDITED**: 08-11-2016, converted from python script to ipython notebook\n",
    "- **EDITED**: 10-09-2017, fixed plot issues\n",
    "- **EDITED**: 09-11-2018, fixed Jupyter formatting issues\n",
    "- **REVISED**: 08-20-2020, updated to in-notebook exercises (Kevin Van De Bogart)\n",
    "- **REVISED**: 9-26-2022, made minor tweaks and added glossary, introduced how to stop Python\n",
    "- **REVISED**: 9-5-2024, introduced information about escape characters since they now cause warnings in Python"
   ]
  },
  {
   "cell_type": "markdown",
   "metadata": {
    "colab_type": "text",
    "id": "_TMZiI1UoRsC"
   },
   "source": [
    "# Part 0: Running cells and loading libraries\n",
    "---\n",
    "Welcome to the Python tutorial! This course uses Juptyer Notebooks as a quick and functional interface to run Python code.\n",
    "\n",
    "Any block of text you see with a light gray background is a cell of Python code. To run a block of code, select it and press `shift + enter`.\n",
    "\n",
    "Try it with the block directly below this."
   ]
  },
  {
   "cell_type": "code",
   "execution_count": null,
   "metadata": {
    "colab": {
     "base_uri": "https://localhost:8080/",
     "height": 34
    },
    "colab_type": "code",
    "executionInfo": {
     "elapsed": 527,
     "status": "ok",
     "timestamp": 1600959929062,
     "user": {
      "displayName": "David McCowan",
      "photoUrl": "https://lh3.googleusercontent.com/a-/AOh14GgG5fQG-8qsRbPgJ9Spnkj4TsscnW-cxQlyY24rPA=s64",
      "userId": "06222162567611374030"
     },
     "user_tz": 300
    },
    "id": "Y1qat2l7pIgg",
    "outputId": "32f4fb45-a7e9-4bdc-ede5-2cc7ff4c9b3c"
   },
   "outputs": [],
   "source": [
    "print(\"Hello world\")"
   ]
  },
  {
   "cell_type": "markdown",
   "metadata": {
    "colab_type": "text",
    "id": "QNa6oc_dn7WM"
   },
   "source": [
    "The result wasn't that exciting; it just shows you a line of text. Don't worry... we'll get to more interesting things soon.\n",
    "\n",
    "In the next cell, we load the libraries we will need. This won't do anything visually, but you will see a number `[2]` appear in the brackets to the left of the cell, indicating that the cell ran."
   ]
  },
  {
   "cell_type": "code",
   "execution_count": null,
   "metadata": {
    "colab": {},
    "colab_type": "code",
    "executionInfo": {
     "elapsed": 491,
     "status": "ok",
     "timestamp": 1600959931362,
     "user": {
      "displayName": "David McCowan",
      "photoUrl": "https://lh3.googleusercontent.com/a-/AOh14GgG5fQG-8qsRbPgJ9Spnkj4TsscnW-cxQlyY24rPA=s64",
      "userId": "06222162567611374030"
     },
     "user_tz": 300
    },
    "id": "1m5ixHcMn7WP"
   },
   "outputs": [],
   "source": [
    "import numpy as np\n",
    "import matplotlib.pylab as plt"
   ]
  },
  {
   "cell_type": "markdown",
   "metadata": {
    "colab_type": "text",
    "id": "GidcNj5w9akt"
   },
   "source": [
    "Next we'll create a variable named 'using_colab'. It's set to `False` by default.\n",
    "- If you are running this notebook on your own machine with Jupyter Notebook, leave this set to `False'.\n",
    "- If you are running this notebook on Goggle Colab, change it to `True'."
   ]
  },
  {
   "cell_type": "code",
   "execution_count": null,
   "metadata": {
    "colab": {},
    "colab_type": "code",
    "executionInfo": {
     "elapsed": 406,
     "status": "ok",
     "timestamp": 1600959933455,
     "user": {
      "displayName": "David McCowan",
      "photoUrl": "https://lh3.googleusercontent.com/a-/AOh14GgG5fQG-8qsRbPgJ9Spnkj4TsscnW-cxQlyY24rPA=s64",
      "userId": "06222162567611374030"
     },
     "user_tz": 300
    },
    "id": "3fKtsDUm9q2-"
   },
   "outputs": [],
   "source": [
    "using_colab = False"
   ]
  },
  {
   "attachments": {
    "Jupyter%20Controls.png": {
     "image/png": "[encoded data removed]"
    }
   },
   "cell_type": "markdown",
   "metadata": {},
   "source": [
    "### Stopping a runaway machine\n",
    "\n",
    "Sometimes, you may reach a point where you need to stop or restart Python.  It could be that you've modified your code substantially, or it could be that Python is trapped in a long or even infinite loop.  To this end, you should know how the `Kernel` menu works.\n",
    "  - `Interrupt` just stops whatever the current cell is doing.\n",
    "  - `Restart` and its variants will delete all variables and unload all libraries, starting you over with a clean slate.\n",
    "  \n",
    "These commands can also be run using the buttons on the menu, which are `Run Cell`, `Interrupt`, `Restart`, and `Restart and run all`, respectively.\n",
    "![Jupyter%20Controls.png](attachment:Jupyter%20Controls.png)\n",
    "\n",
    "# Task 0: Run the cell below, then interrupt it\n",
    "You'll see that the `[*]` next to the cell will change to a number after you stop Python here.  You'll also get a message about a `Keyboard Interrupt`, which is perfectly normal."
   ]
  },
  {
   "cell_type": "code",
   "execution_count": null,
   "metadata": {},
   "outputs": [],
   "source": [
    "# Delete this after you've tried interrupting Python!\n",
    "while True:\n",
    "    pass"
   ]
  },
  {
   "cell_type": "markdown",
   "metadata": {},
   "source": [
    "# Part 1: Creating and displaying variables\n",
    "---\n",
    "\n",
    "Now that we're set up, we'll create some data for Python to plot.\n",
    "- We need one array for the x-axis values and another for the corresponding y-axis values\n",
    "- `np.linspace(xmin, xmax, N)` produces an array of N linearly-spaced points on the interval [xmin, xmax]\n",
    "- `linspace()`, `pi`, and `sin()` are all part of `numpy` (which we imported under the shorter name `np`), so we call them as `np.linspace()`, `np.pi` and `np.sin()` respectively.\n",
    "\n",
    "Note that lines starting with a pound sign (hashtag) `#` are comments and they don't have any effect on the code."
   ]
  },
  {
   "cell_type": "code",
   "execution_count": null,
   "metadata": {},
   "outputs": [],
   "source": [
    "t = np.linspace(0.0, 6*np.pi, 100)\n",
    "f = np.sin(t)\n",
    "# Note that 'f' is an array with the same length as 't' (100 points)\n",
    "# - The first element of `f` is the value of `sin(t)` at t = 0.0, etc."
   ]
  },
  {
   "cell_type": "markdown",
   "metadata": {},
   "source": [
    "Let's take a look at those variables now, just to get an idea of what we're working with.  We'll use python's `print` command to see what is stored in the `t` array at this moment."
   ]
  },
  {
   "cell_type": "code",
   "execution_count": null,
   "metadata": {},
   "outputs": [],
   "source": [
    "print(t)"
   ]
  },
  {
   "cell_type": "markdown",
   "metadata": {},
   "source": [
    " That worked, but we can make things a bit more readable with a bit of supporting text.\n",
    "\n",
    " When using the print command:  \n",
    "- Anything in quotes is treated as text.\n",
    "- Things that are not in quotes are treated as the names of variables.\n",
    "- Commas are used to join text and variable sections.\n",
    "- In quoted text, backslashes `\\` indicate special commands\n",
    "  - `\\t` indicates a tab\n",
    "  - `\\n` indicates a new line of text\n",
    "  - Other options are listed in the documented [escape characters](https://www.w3schools.com/python/gloss_python_escape_characters.asp)"
   ]
  },
  {
   "cell_type": "code",
   "execution_count": null,
   "metadata": {
    "colab": {
     "base_uri": "https://localhost:8080/",
     "height": 782
    },
    "colab_type": "code",
    "executionInfo": {
     "elapsed": 377,
     "status": "ok",
     "timestamp": 1600959938742,
     "user": {
      "displayName": "David McCowan",
      "photoUrl": "https://lh3.googleusercontent.com/a-/AOh14GgG5fQG-8qsRbPgJ9Spnkj4TsscnW-cxQlyY24rPA=s64",
      "userId": "06222162567611374030"
     },
     "user_tz": 300
    },
    "id": "unRMZUkmbk7z",
    "outputId": "0d1e9f4e-ea4e-4f0e-da8f-22f1870f9f76"
   },
   "outputs": [],
   "source": [
    "print(\"The values in t are the following: \\n\", t)\n",
    "print(\"The length of t is\", len(t),\"numbers\") # len() is a function that returns the length of an array\n",
    "print(\"The values of f are the following: \\n\", f)"
   ]
  },
  {
   "cell_type": "markdown",
   "metadata": {
    "colab_type": "text",
    "id": "eYUD6IYFgqn3"
   },
   "source": [
    "This is a start, and in later tutorials we'll show you how to format numbers to make them more readible."
   ]
  },
  {
   "cell_type": "markdown",
   "metadata": {
    "colab_type": "text",
    "id": "2t45RX4Rg4AZ"
   },
   "source": [
    "\n",
    "---\n",
    "# Task 1\n",
    "---\n",
    "In the cell below, use a print comand to write out your name, as well as the number of characters in your name.\n",
    "\n",
    "hint: `len()` works on strings of text, so `len(\"hello\")` will output `5`.\n"
   ]
  },
  {
   "cell_type": "code",
   "execution_count": null,
   "metadata": {
    "colab": {},
    "colab_type": "code",
    "executionInfo": {
     "elapsed": 319,
     "status": "ok",
     "timestamp": 1600959941095,
     "user": {
      "displayName": "David McCowan",
      "photoUrl": "https://lh3.googleusercontent.com/a-/AOh14GgG5fQG-8qsRbPgJ9Spnkj4TsscnW-cxQlyY24rPA=s64",
      "userId": "06222162567611374030"
     },
     "user_tz": 300
    },
    "id": "_YE59k4hg4H2"
   },
   "outputs": [],
   "source": []
  },
  {
   "cell_type": "markdown",
   "metadata": {
    "colab_type": "text",
    "id": "aqRU3HDPn7Wj"
   },
   "source": [
    "---\n",
    "# Part 2: Plotting\n",
    "Now we'll select the mode matplotlib uses to display itself, and make our first plot.\n",
    "- The syntax `%matplotlib inline` tells Python to produce *static*, savable images whenever you plot something. If you are running this in Jupyter notebook on a local machine, `%matplotlib notebook` will instead enable *interactive* plots within the Jupyter notebook, while using `%matplotlib qt` will cause plots to appear in a separate interactive window, not the notebook.\n",
    "- If you are using Google Colab or Jupyter Lab, `%matplotlib notebook` will not work.  While your code may or may not run, it will not actually produce plots in that mode."
   ]
  },
  {
   "cell_type": "code",
   "execution_count": null,
   "metadata": {
    "colab": {
     "base_uri": "https://localhost:8080/",
     "height": 500
    },
    "colab_type": "code",
    "executionInfo": {
     "elapsed": 561,
     "status": "ok",
     "timestamp": 1600959942978,
     "user": {
      "displayName": "David McCowan",
      "photoUrl": "https://lh3.googleusercontent.com/a-/AOh14GgG5fQG-8qsRbPgJ9Spnkj4TsscnW-cxQlyY24rPA=s64",
      "userId": "06222162567611374030"
     },
     "user_tz": 300
    },
    "id": "PXBJu_Iun7Wk",
    "outputId": "bbbd74ba-9a5b-4caa-99d3-1aff31d1791f"
   },
   "outputs": [],
   "source": [
    "%matplotlib inline\n",
    "fig, ax = plt.subplots(figsize = (10,8))\n",
    "# this sets up a basic figure\n",
    "ax.plot(t, f)"
   ]
  },
  {
   "cell_type": "markdown",
   "metadata": {
    "colab_type": "text",
    "id": "j2UEQGkun7Wp"
   },
   "source": [
    "Let's look at what we did here.\n",
    "\n",
    "First, we use the plt.subplots() command to create both a _figure_ and an _axis_.\n",
    "\n",
    "- A _Figure_ is a sort of box that we can put plots into. It is a control structure that handles some of the general formatting.\n",
    "- An _Axis_ is the object that contains the actual plot data. You can plot mutiple data sets to the same axis if you want them displayed together or you can create multiple axes if you want to create a figure with more than one subplot.\n",
    "- The argument `figsize = (x,y)` changes the default dimensions to make the figure more readible. \n",
    "\n",
    "To plot the data, we act on the object `ax` with the function `plot()` via `ax.plot()`\n",
    "- The first argument is the array of x-values.\n",
    "- The second argument is the array of y-values.\n",
    "\n",
    "To get some more information on a function in python, you can enter its name (without parentheses) followed by one (or two question) marks for some (or lots) of information.\n",
    "\n",
    "This information is intended for people familiar with programming, so don't spend too long staring at it if you're new to this and you need help."
   ]
  },
  {
   "cell_type": "code",
   "execution_count": null,
   "metadata": {
    "colab": {},
    "colab_type": "code",
    "executionInfo": {
     "elapsed": 334,
     "status": "ok",
     "timestamp": 1600959944766,
     "user": {
      "displayName": "David McCowan",
      "photoUrl": "https://lh3.googleusercontent.com/a-/AOh14GgG5fQG-8qsRbPgJ9Spnkj4TsscnW-cxQlyY24rPA=s64",
      "userId": "06222162567611374030"
     },
     "user_tz": 300
    },
    "id": "VwW07kLmjwRH"
   },
   "outputs": [],
   "source": [
    "ax.plot??"
   ]
  },
  {
   "cell_type": "markdown",
   "metadata": {
    "colab_type": "text",
    "id": "UK3fCBECjsml"
   },
   "source": [
    "We can also plot multiple lines on the same axis, and change the formatting of each one.\n",
    "- The third (optional) argument specifies the point format (color and style).\n",
    "  - Here, `b-` means blue, solid (connected) line and `r^` means red, triangles.\n",
    "  - For more formatting options, see the [documentation for plot](https://matplotlib.org/3.1.1/api/_as_gen/matplotlib.pyplot.plot.html#codecell8).\n",
    "- The `label` keyword argument specifies a text that will be used to label the plot in a legend.\n",
    "  - Keywords like `label` need to be entered at the end of a function, after all the positional variables are used.\n",
    "  - To make the labels appear on the plot, we need the `ax.legend()` command.\n",
    "\n",
    "We're also introducing some new math and formatting here:\n",
    " - `g = f**2` creates a new variable which has every element in `f` raised to the second power(`**2`).\n",
    " - In the `label` section we are using LaTeX style formatting to make for nicer looking mathematical text.\n",
    "  - LaTeX uses `^2` to indicate a value raised to the power of two.\n",
    "  - LaTeX commands that would normally begin with a `\\` will need to start with `\\\\` instead.\n",
    "\n",
    "If you're not familiar with LaTeX, this quarter is a good time to start learning!  It is essentially standard for writing scientific papers that include even moderately complex equations."
   ]
  },
  {
   "cell_type": "code",
   "execution_count": null,
   "metadata": {
    "colab": {
     "base_uri": "https://localhost:8080/",
     "height": 500
    },
    "colab_type": "code",
    "executionInfo": {
     "elapsed": 984,
     "status": "ok",
     "timestamp": 1600959950602,
     "user": {
      "displayName": "David McCowan",
      "photoUrl": "https://lh3.googleusercontent.com/a-/AOh14GgG5fQG-8qsRbPgJ9Spnkj4TsscnW-cxQlyY24rPA=s64",
      "userId": "06222162567611374030"
     },
     "user_tz": 300
    },
    "id": "daqArosyn7Wr",
    "outputId": "8314fca7-da70-458d-b0b0-e6892498f8e8"
   },
   "outputs": [],
   "source": [
    "fig, ax = plt.subplots(figsize = (10,8))\n",
    "# you need to create a new figure if you don't want it to display in an old cell\n",
    "g = f**2\n",
    "\n",
    "ax.plot(t, f, 'b-', label='$f(x) = sin(t)$')\n",
    "ax.plot(t, g, 'r^', label='$g(x) = \\\\sin(t)^2$')\n",
    "ax.legend()"
   ]
  },
  {
   "cell_type": "markdown",
   "metadata": {
    "colab_type": "text",
    "id": "6lji01WSZWa9"
   },
   "source": [
    "\n",
    "---\n",
    "# Task 2\n",
    "---\n",
    "\n",
    "In the cell below, create a plot of the function $f(x) = 2 e^{-2x}$ over the range `0 < x < 3` in blue.\n",
    "\n",
    " - Your function shouldn't be named `f`, since we're already using that.\n",
    "  - You could use `ff` or `f_exp` instead.\n",
    " - `np.exp(a)` will exponentiate `a`\n",
    " - Use `*` to multiply a variable by a number. \n",
    "  - For example, `-1 * a` will give you `-a`.\n"
   ]
  },
  {
   "cell_type": "code",
   "execution_count": null,
   "metadata": {
    "colab": {},
    "colab_type": "code",
    "executionInfo": {
     "elapsed": 306,
     "status": "ok",
     "timestamp": 1600959952253,
     "user": {
      "displayName": "David McCowan",
      "photoUrl": "https://lh3.googleusercontent.com/a-/AOh14GgG5fQG-8qsRbPgJ9Spnkj4TsscnW-cxQlyY24rPA=s64",
      "userId": "06222162567611374030"
     },
     "user_tz": 300
    },
    "id": "e7Xr4oRCZWoW"
   },
   "outputs": [],
   "source": []
  },
  {
   "cell_type": "markdown",
   "metadata": {
    "colab_type": "text",
    "id": "RsBbL7fGZWve"
   },
   "source": [
    "\n",
    "\n",
    "---\n",
    "# Part 3: Labels and Annotations\n",
    "\n",
    "We can spice things up further by changing the dimensions of our axes, setting labels, titles, and saving our figure as a pdf.\n",
    "\n",
    "- `ax.axis([x_min,x_max,y_min,y_max])` sets the area to be displayed by the plot command.  \n",
    "  - This function takes four numbers in an array, so don't forget to include the square brackets `[]` and commas between elements.\n",
    "- `ax.set_xlabel`, `ax.set_ylabel`, and `ax.set_title` do what you would expect.\n",
    "  - These functions have keyword arguments such as `fontsize` and `fontweight` that let you customize the appearance of text labels.\n",
    "- `title_font` is an example of how to use a _dictionary_ to define and pass multiple keywords at once.\n",
    "  - Dictionaries consist of entries enclosed in curly brackets `{}`.\n",
    "  - Each entry is a _key_ and _value_ pair separated by a colon `key : value`.\n",
    "    - Keys should pretty much always be strings (i.e. text in quotes).\n",
    "- `plt.savefig` tells matplotlib to save the current figure as a file.\n",
    "  - matplotlib is smart enough to change the output to match .pdf, .png, and .svg file types\n",
    "  - matplotlib defaults to 100 `d`ots `p`er `i`nch\n"
   ]
  },
  {
   "cell_type": "code",
   "execution_count": null,
   "metadata": {
    "colab": {
     "base_uri": "https://localhost:8080/",
     "height": 515
    },
    "colab_type": "code",
    "executionInfo": {
     "elapsed": 1072,
     "status": "ok",
     "timestamp": 1600959955033,
     "user": {
      "displayName": "David McCowan",
      "photoUrl": "https://lh3.googleusercontent.com/a-/AOh14GgG5fQG-8qsRbPgJ9Spnkj4TsscnW-cxQlyY24rPA=s64",
      "userId": "06222162567611374030"
     },
     "user_tz": 300
    },
    "id": "w6olNbron7Wy",
    "outputId": "36f96774-c845-49c5-943d-423f43951b6f"
   },
   "outputs": [],
   "source": [
    "fig, ax = plt.subplots(figsize = (10,8))\n",
    "# you need to create a new figure if you don't want it to display in an old cell\n",
    "g = f**2\n",
    "\n",
    "ax.plot(t, f, 'b-', label='$f(x) = \\\\sin(t)$')\n",
    "ax.plot(t, g, 'r^', label='$g(x) = \\\\sin(t)^2$')\n",
    "\n",
    "ax.axis([0, 3*np.pi, -2, 2])\n",
    "#ax.set_xlim([0,3*np.pi])\n",
    "#ax.set_ylim([-2,2])\n",
    "    # The above two lines do the same thing, just one axis at a time.\n",
    "\n",
    "ax.set_xlabel('Time (seconds)')\n",
    "ax.set_ylabel('Relative amplitude (meters)', fontsize=10, fontweight='bold')\n",
    "title_font = {'weight':'normal', 'size':16, 'color':'red'}  #You can create lists of attributes as variables instead!\n",
    "ax.set_title('Example 1: Figure 1', title_font)\n",
    "\n",
    "ax.legend()\n",
    "plt.savefig('Example1_Figure1.png',dpi=300)\n",
    "#plt.show()\n",
    "    # If you aren't using Jupyter you may need this to display your figures.\n",
    "    \n",
    "if using_colab:\n",
    "  from google.colab import files\n",
    "  files.download('Example1_Figure1.png') "
   ]
  },
  {
   "cell_type": "markdown",
   "metadata": {
    "colab_type": "text",
    "id": "OchA2Pnjzi4u"
   },
   "source": [
    "---\n",
    "# Task 3\n",
    "---\n",
    "Copy you code from the second task below, and add a title, axis labels, and a legend.\n"
   ]
  },
  {
   "cell_type": "code",
   "execution_count": null,
   "metadata": {
    "colab": {},
    "colab_type": "code",
    "executionInfo": {
     "elapsed": 393,
     "status": "ok",
     "timestamp": 1600959961525,
     "user": {
      "displayName": "David McCowan",
      "photoUrl": "https://lh3.googleusercontent.com/a-/AOh14GgG5fQG-8qsRbPgJ9Spnkj4TsscnW-cxQlyY24rPA=s64",
      "userId": "06222162567611374030"
     },
     "user_tz": 300
    },
    "id": "idJqE0hbzjAR"
   },
   "outputs": [],
   "source": []
  },
  {
   "cell_type": "markdown",
   "metadata": {
    "colab_type": "text",
    "id": "0YWAmhfVn7W6"
   },
   "source": [
    "---\n",
    "# Part 4: Working with Error Bars\n",
    "*(based on http://matplotlib.org/1.3.1/users/text_intro.html)*\n",
    "\n",
    "Let's now make things more complicated.  Let's generate some error bars for our sine wave data.\n",
    "We'll do this by generating one number for each data point in `f`.  \n",
    "We'll use the normal distribution from numpy: `np.random.normal(loc,scale,size)`\n",
    "\n",
    "- `loc` is the center of the distribution, which we want to be zero.\n",
    "- `scale` is the width, which we'll arbitrarily make 0.2.\n",
    "- `size` is how many points to generate.\n",
    "\n",
    "To make sure the numbers are positive, we'll use the `np.abs()` function as well."
   ]
  },
  {
   "cell_type": "code",
   "execution_count": null,
   "metadata": {
    "colab": {
     "base_uri": "https://localhost:8080/",
     "height": 282
    },
    "colab_type": "code",
    "executionInfo": {
     "elapsed": 614,
     "status": "ok",
     "timestamp": 1600959962985,
     "user": {
      "displayName": "David McCowan",
      "photoUrl": "https://lh3.googleusercontent.com/a-/AOh14GgG5fQG-8qsRbPgJ9Spnkj4TsscnW-cxQlyY24rPA=s64",
      "userId": "06222162567611374030"
     },
     "user_tz": 300
    },
    "id": "EF-F8FzDn7W6",
    "outputId": "86400acb-21b3-47b6-8f93-0b5df532fd3b"
   },
   "outputs": [],
   "source": [
    "ferr = np.abs(np.random.normal(0,.2,len(f)))\n",
    "fig,ax = plt.subplots()\n",
    "ax.plot(ferr)"
   ]
  },
  {
   "cell_type": "markdown",
   "metadata": {
    "colab_type": "text",
    "id": "OUPh-92cn7W_"
   },
   "source": [
    "In order to show points with uncertainties, we can't use the `plot()` function(which can only display `x` and `y` data), but we can instead use `errorbar()`.\n",
    "\n",
    "- `errorbar` needs `x`  and `y` values for the first two arguments, and it expects that the next two will be error values.\n",
    "  - We can skip the x error bars (which we'll rarely use) by explicitly passing our y errors to the fuction using the argument `yerr = ferr`\n",
    "  - You'll need to explicity use `fmt=` to specify the formatting for an error bar plot.\n",
    "  - There are additional ways you can alter the appearance of an errorbar plot.\n",
    "    - `capsize` lets you specify how large the caps on the ends of an errorbar are.\n",
    "  -  Remember that you can get help on what a function does and what variables it expects by typing its name into a cell followed by a question mark to pull up a help file. "
   ]
  },
  {
   "cell_type": "code",
   "execution_count": null,
   "metadata": {
    "colab": {
     "base_uri": "https://localhost:8080/",
     "height": 532
    },
    "colab_type": "code",
    "executionInfo": {
     "elapsed": 623,
     "status": "ok",
     "timestamp": 1600959964891,
     "user": {
      "displayName": "David McCowan",
      "photoUrl": "https://lh3.googleusercontent.com/a-/AOh14GgG5fQG-8qsRbPgJ9Spnkj4TsscnW-cxQlyY24rPA=s64",
      "userId": "06222162567611374030"
     },
     "user_tz": 300
    },
    "id": "N0uEWNYSn7XF",
    "outputId": "fd09f955-c356-45bd-c41c-e57d24511630"
   },
   "outputs": [],
   "source": [
    "fig, ax = plt.subplots(figsize = (10,8))\n",
    "ax.errorbar(t,f,yerr=ferr, fmt = 'b.',label='$f(x) = sin(t)$',capsize=3)\n",
    "\n",
    "ax.axis([0, 3*np.pi, -2, 2])\n",
    "#ax.set_xlim([0,3*np.pi])\n",
    "#ax.set_ylim([-2,2])\n",
    "    # The above two lines do the same thing, just one axis at a time.\n",
    "\n",
    "ax.set_xlabel('Time (seconds)')\n",
    "ax.set_ylabel('Relative amplitude (meters)', fontsize=10, fontweight='bold')\n",
    "ax.set_title('Example 1: Figure 2', title_font) # we can use the same font we defined earlier here\n",
    "\n",
    "ax.legend()"
   ]
  },
  {
   "cell_type": "markdown",
   "metadata": {
    "colab_type": "text",
    "id": "FktRLjvU3Aut"
   },
   "source": [
    "---\n",
    "# Task 4: \n",
    "---\n",
    "\n",
    "Using the cell below, make a plot of g(x) that includes error bars.  \n",
    " - You can use the same `ferr` values for this from the example above.\n",
    "\n"
   ]
  },
  {
   "cell_type": "code",
   "execution_count": null,
   "metadata": {
    "colab": {},
    "colab_type": "code",
    "executionInfo": {
     "elapsed": 355,
     "status": "ok",
     "timestamp": 1600959966458,
     "user": {
      "displayName": "David McCowan",
      "photoUrl": "https://lh3.googleusercontent.com/a-/AOh14GgG5fQG-8qsRbPgJ9Spnkj4TsscnW-cxQlyY24rPA=s64",
      "userId": "06222162567611374030"
     },
     "user_tz": 300
    },
    "id": "-uHqPGZK3A2e"
   },
   "outputs": [],
   "source": []
  },
  {
   "cell_type": "markdown",
   "metadata": {
    "colab_type": "text",
    "id": "mom5b6FA3A9h"
   },
   "source": [
    "---\n",
    "# Part 5: Multiple Plots\n",
    "\n",
    "Sometimes we'll want to show multiple plots together in the same figure.  This can be useful when we want to show related data side-by-side.\n",
    "\n",
    "To start, we'll define the figure first and then add _multiple_ subplots manually.\n",
    " - `fig.add_subplot(nrows,ncols,index)` creates a new subplot that doesn't take up the space of the whole figure.\n",
    "  - `nrows` defines how many rows of subplots you're using, `ncols` defines the number of colums.\n",
    "    - Using 2 and 1 respectively gets us two plots stacked vertically.\n",
    "  - `index` defines the position of the new subplot, starting from the top-left position and working across rows before columns.\n",
    "\n",
    "For the most part we'll want this structure of one plot above another, so don't agonize over the specifics of how this functions right now.\n",
    "\n",
    "After we set up our subplots, we can alter each of them individually just like we've done before.\n",
    " - `fig.legend` lets you put a figure-wide label on your plots, which might be more useful than labeling each one individually.\n",
    "  - `loc` lets us manually set the position rather than having matplotlib do it automatically.  It works the same for `ax.legend`.\n",
    "  - Use `fig.legend?` and scroll through to find `loc` under `Other Parameters` to see all of the allowed locations.\n",
    " - `fig.suptitle` lets you give a title to the entire figure at once.\n",
    "  - It works differently than `ax.set_title`, so just adding in our `title_font` won't work.\n",
    " - `plt.tight_layout` tweaks the whitespace around the subplots.\n",
    "  - `pad=4` further alters increases the space between subplots.\n"
   ]
  },
  {
   "cell_type": "code",
   "execution_count": null,
   "metadata": {
    "colab": {
     "base_uri": "https://localhost:8080/",
     "height": 579
    },
    "colab_type": "code",
    "executionInfo": {
     "elapsed": 891,
     "status": "ok",
     "timestamp": 1600959968508,
     "user": {
      "displayName": "David McCowan",
      "photoUrl": "https://lh3.googleusercontent.com/a-/AOh14GgG5fQG-8qsRbPgJ9Spnkj4TsscnW-cxQlyY24rPA=s64",
      "userId": "06222162567611374030"
     },
     "user_tz": 300
    },
    "id": "ALOsjpe5n7XK",
    "outputId": "a0fe972e-7495-46f2-86e8-3e3fadba54e4"
   },
   "outputs": [],
   "source": [
    "fig = plt.figure(figsize = (10,8))\n",
    "ax =fig.add_subplot(2,1,1)\n",
    "ay =fig.add_subplot(2,1,2)\n",
    "#fig,(ax,ay) = plt.subplots(nrows=2, ncols=1)\n",
    "#the above is an equivalent way of doing the same thing\n",
    "\n",
    "ax.errorbar(t,f,yerr=ferr, fmt = 'r.',capsize = 2,label='$f(x) = \\\\sin(t)$')\n",
    "    # A basic scatter plot of some data in red\n",
    "ax.legend()\n",
    "ax.set_title(\"Data\")\n",
    "\n",
    "ay.plot(t,ferr,'bo',label='Oops all errors')\n",
    "    # A plot of just the magnitudes of the errors\n",
    "ay.legend()\n",
    "ay.set_title(\"Errors\")\n",
    "\n",
    "plt.tight_layout(pad = 4)\n",
    "fig.suptitle(\"Super Title\")\n",
    "fig.legend(loc='upper left')\n"
   ]
  },
  {
   "cell_type": "markdown",
   "metadata": {
    "colab_type": "text",
    "id": "J2J01e2T8g3i"
   },
   "source": [
    "---\n",
    "# Task 5:\n",
    "---\n",
    "Using the cell below, make a plot that shows both an exponential function and a gaussian function in two stacked subplots.\n",
    "- You can copy what you've done from Task 3 for the exponential function.\n",
    "- Both plots should include appropriately labeled axes.\n",
    "- The second plot should show the Gaussian function $g(t) = \\frac{1}{2\\pi}  e^{-\\frac{({t-1})^2}{2}}$ over the interval $-3 \\lt t \\lt 3$ in green.\n",
    "  - `np.pi` (without parenthesis) can be used as the value of $\\pi$.\n",
    "  - You will need to use multiple layers of parenthesis to make sure that operations happen in the order you want.\n",
    "    - `1/2*np.pi` gets evaluated as $\\frac{1}{2}\\pi$.\n",
    "    - `1/(2*np.pi)` gets evaluated as $\\frac{1}{2\\pi}$.\n",
    "  - For this plot, also: \n",
    "    - Move the legend to the top left .\n",
    "    - Set the y-axis scale to have an upper limit of 0.20.\n",
    "- The title for your whole figure should be \"(your name)'s examples of probability distributions\".\n",
    "- Save the figure as a pdf to submit for this assignment.\n",
    "\n",
    "The result should look something like the following:"
   ]
  },
  {
   "attachments": {
    "Example1_final.png": {
     "image/png": "[encoded data removed]"
    }
   },
   "cell_type": "markdown",
   "metadata": {},
   "source": [
    "![Example1_final.png](attachment:Example1_final.png)"
   ]
  },
  {
   "cell_type": "code",
   "execution_count": null,
   "metadata": {
    "colab": {},
    "colab_type": "code",
    "executionInfo": {
     "elapsed": 299,
     "status": "ok",
     "timestamp": 1600959970176,
     "user": {
      "displayName": "David McCowan",
      "photoUrl": "https://lh3.googleusercontent.com/a-/AOh14GgG5fQG-8qsRbPgJ9Spnkj4TsscnW-cxQlyY24rPA=s64",
      "userId": "06222162567611374030"
     },
     "user_tz": 300
    },
    "id": "0ILNjOJZ8g-W"
   },
   "outputs": [],
   "source": []
  },
  {
   "cell_type": "markdown",
   "metadata": {
    "colab_type": "text",
    "id": "WRC1yMNun7XP"
   },
   "source": [
    "---\n",
    "# Bonus: More annotation\n",
    "---\n",
    "We can add text using `ax.text()` and arrows using `ax.annotate()` functions.\n",
    "\n",
    "<span style = \"background: lightgreen;\"> Our axes aren't set right in the cell below, can you fix the problem so things are visible?</span>"
   ]
  },
  {
   "cell_type": "code",
   "execution_count": null,
   "metadata": {
    "colab": {
     "base_uri": "https://localhost:8080/",
     "height": 572
    },
    "colab_type": "code",
    "executionInfo": {
     "elapsed": 777,
     "status": "ok",
     "timestamp": 1600959972315,
     "user": {
      "displayName": "David McCowan",
      "photoUrl": "https://lh3.googleusercontent.com/a-/AOh14GgG5fQG-8qsRbPgJ9Spnkj4TsscnW-cxQlyY24rPA=s64",
      "userId": "06222162567611374030"
     },
     "user_tz": 300
    },
    "id": "1z101dO9n7XQ",
    "outputId": "87aef8ed-64cf-4323-a54d-837f9509282a"
   },
   "outputs": [],
   "source": [
    "fig = plt.figure(figsize = (10,8))\n",
    "ax = fig.add_subplot(111)\n",
    "\n",
    "#ax.errorbar(x, y, xerr = 0.5, yerr = dy, fmt = 'r.')\n",
    "ax.errorbar(t,f,yerr=ferr, fmt = 'r.',capsize = 2,label='$f(x) = sin(t)$')\n",
    "\n",
    "# To label, we again act on the appropriate object.\n",
    "#  -We can add a supertitle to the figure as a whole\n",
    "#  -We can add a normal title to the axis\n",
    "fig.suptitle('Bold Figure Supertitle', fontsize=14, fontweight='bold')\n",
    "ax.set_title('axes title')\n",
    "ax.set_xlabel('xlabel')\n",
    "ax.set_ylabel('ylabel')\n",
    "\n",
    "# Let's also add some text to the axes. These should be pretty self-explanatory\n",
    "ax.text(3, -1, 'an equation: $E=mc^2$', fontsize=15)\n",
    "ax.text(10,1.6, 'boxed italics text in data coords', style='italic', bbox={'facecolor':'red', 'alpha':0.5, 'pad':10})\n",
    "ax.text(0.95, 0.01, 'colored text in axes coords', verticalalignment='bottom', horizontalalignment='right', transform=ax.transAxes,color='green', fontsize=15)\n",
    "ax.annotate('annotate', xy=(2, 1), xytext=(3, 1.2), arrowprops=dict(arrowstyle='-|>'))\n",
    "\n",
    "#Finally, let's set the axis limits and show the plot\n",
    "ax.axis([0, 10, 0, 10])\n",
    "plt.savefig('Example1_Figure2.png')\n",
    "\n",
    "if using_colab:\n",
    "  files.download('Example1_Figure2.png') "
   ]
  },
  {
   "cell_type": "markdown",
   "metadata": {
    "colab": {},
    "colab_type": "code",
    "id": "gv77dzDz4K0x"
   },
   "source": [
    "# Glossary of functions\n",
    "## Python functions\n",
    "\n",
    "  * `print`: displays text or the values of a variable or array.\n",
    "    * `\\t` creates a tab character\n",
    "    * `\\n` starts a new line\n",
    "  * `len(x)` : returns the length of the variable x.\n",
    "  * `import`: imports an installed library of python code.\n",
    "  * `#` : A hash character indicates a comment; Python ignores everything after it on the same line.\n",
    "    * comments help other people in understanding your code as well as yourself in the future.  \n",
    "    * comments are a great way of temporarily modifying code.\n",
    "  \n",
    "## Numpy functions\n",
    "\n",
    "  * `import numpy as np`: imports the library numpy and gives it the alias `np` to make it more compact to type.\n",
    "  * `np.linspace(xmin, xmax, N)` : Creates an array of `N` values starting at `xmin` and ending at `xmax`.\n",
    "  * `np.sin(x)` : calculates the sine of `x`.\n",
    "  * `np.random.normal(center,spread,N)` : creates an array of `N` values sampled from a normal distribution centered at `center` with a standard deviation of `spread`.\n",
    "  * `np.abs(x)` : calculates the absolute value of `x`.  Works on individual numbers or arrays.\n",
    "  \n",
    "## Matplotlib functions\n",
    "\n",
    "  * `from matplotlib import pyplot as plt` : imports just the python plotting code from matplotlib.\n",
    "    * `%matplotlib inline` : a \"magic command\" that tells matplotlib to make inline(static) plots for the rest of the notebook.\n",
    "    * `%matplotlib notebook` : a \"magic command\" that tells matplotlib to make interactive(zoomable) plots; doesn't work with jupyterlab or google colab.\n",
    "  * `fig,ax = plt.subplots(figsize(x,y))` : Creates a figure and associated axis with dimensions of `x` and `y` in inches.\n",
    "  * `ax.plot(x,y,label=\"z\")` : plots x vs y, and associates the line with the label \"z\".\n",
    "  * `ax.legend()` : generates a legend for the plot, showing which line is associated with which label.\n",
    "  * `ax.plot(x,y,'b-')` : plots x vs y in blue (`b`) using a solid line (`-`).\n",
    "  * `ax.errorbar(x,y,yerr=dy)` : creates a plot of x versus y with vertical error bars given by dy. \n",
    "  * `ax.set_xlim([xi,xf])` : adjusts the plot horizontal axes to show only data between x=xi and x=xf.\n",
    "  * `ax.set_ylim([yi,yf])` : adjusts the plot vertical axes to show only data between y=xi and y=xf.\n",
    "  * `ax.axis([xi,xf,yi,yv])` : adjusts both of the plot axes to show data between xi-xf and yi-yf\n",
    "  * `ax.set_xlabel('foo')` : adds the text \"foo\" beneath the x axis.\n",
    "  * `plt.savefig('filename.png')` : saves the current figure as a .png file named 'filename.png' in the same directory as the python notebook.\n",
    "    * `.pdf` and `.svg` formats are also supported by default.\n",
    "  * `plt.tight_layout()` : adjusts the layout of text to improve readability."
   ]
  },
  {
   "cell_type": "code",
   "execution_count": null,
   "metadata": {},
   "outputs": [],
   "source": []
  }
 ],
 "metadata": {
  "anaconda-cloud": {},
  "colab": {
   "collapsed_sections": [],
   "name": "Exercise1_Plotting_and_Functions.ipynb",
   "provenance": []
  },
  "kernelspec": {
   "display_name": "Python 3 (ipykernel)",
   "language": "python",
   "name": "python3"
  },
  "language_info": {
   "codemirror_mode": {
    "name": "ipython",
    "version": 3
   },
   "file_extension": ".py",
   "mimetype": "text/x-python",
   "name": "python",
   "nbconvert_exporter": "python",
   "pygments_lexer": "ipython3",
   "version": "3.12.4"
  }
 },
 "nbformat": 4,
 "nbformat_minor": 4
}
